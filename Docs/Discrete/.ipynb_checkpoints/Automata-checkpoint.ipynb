{
 "cells": [
  {
   "cell_type": "markdown",
   "metadata": {},
   "source": [
    "# Cellular Automata"
   ]
  },
  {
   "cell_type": "code",
   "execution_count": 1,
   "metadata": {},
   "outputs": [],
   "source": [
    "import sys\n",
    "sys.path.append('../../Py/Build')\n",
    "from suite import *\n",
    "sys.path.append('../../Py/GUI')\n",
    "from suiteGUI import *\n",
    "import matplotlib.pyplot as plt\n",
    "import numpy as np\n",
    "from math import floor\n",
    "rng = np.random.RandomState(seed=0)"
   ]
  },
  {
   "cell_type": "code",
   "execution_count": 2,
   "metadata": {},
   "outputs": [
    {
     "data": {
      "text/plain": [
       "|1D Mesh|\n",
       "Mesh made by 20.\n",
       "0. [0.000000,0.050000]\n",
       "1. [0.050000,0.100000]\n",
       "2. [0.100000,0.150000]\n",
       "3. [0.150000,0.200000]\n",
       "4. [0.200000,0.250000]\n",
       "5. [0.250000,0.300000]\n",
       "6. [0.300000,0.350000]\n",
       "7. [0.350000,0.400000]\n",
       "8. [0.400000,0.450000]\n",
       "9. [0.450000,0.500000]\n",
       "10. [0.500000,0.550000]\n",
       "11. [0.550000,0.600000]\n",
       "12. [0.600000,0.650000]\n",
       "13. [0.650000,0.700000]\n",
       "14. [0.700000,0.750000]\n",
       "15. [0.750000,0.800000]\n",
       "16. [0.800000,0.850000]\n",
       "17. [0.850000,0.900000]\n",
       "18. [0.900000,0.950000]\n",
       "19. [0.950000,1.000000]"
      ]
     },
     "execution_count": 2,
     "metadata": {},
     "output_type": "execute_result"
    }
   ],
   "source": [
    "I = line(0.0,1.0)\n",
    "mesh = Mesh(1);\n",
    "mesh.UniformMesh(I,0.05)\n",
    "mesh"
   ]
  },
  {
   "cell_type": "code",
   "execution_count": 3,
   "metadata": {},
   "outputs": [],
   "source": [
    "A = Automata(mesh,2)"
   ]
  },
  {
   "cell_type": "code",
   "execution_count": 4,
   "metadata": {},
   "outputs": [],
   "source": [
    "A0 = MeshFunction(mesh,1)\n",
    "A0.pushFunction(lambda p: [0])"
   ]
  },
  {
   "cell_type": "code",
   "execution_count": 5,
   "metadata": {},
   "outputs": [],
   "source": [
    "v = A0.vec_export()\n",
    "# [0 1 0 0 0 1 0 0 0 1 0 0 0 0 1 0 1 1 1 0]\n",
    "v[2] = 1.0; v[6] = 1.0; v[10]=1.0; v[15]=1.0;\n",
    "v[17] = 1.0; v[18]=1.0; v[19]=1.0;\n",
    "A0.vec_import(v);"
   ]
  },
  {
   "cell_type": "code",
   "execution_count": 6,
   "metadata": {},
   "outputs": [
    {
     "data": {
      "image/png": "[encoded data removed]",
      "text/plain": [
       "<Figure size 1152x648 with 1 Axes>"
      ]
     },
     "metadata": {
      "needs_background": "light"
     },
     "output_type": "display_data"
    }
   ],
   "source": [
    "A.Init(A0)\n",
    "DrawCAState(A,True)"
   ]
  },
  {
   "cell_type": "code",
   "execution_count": 7,
   "metadata": {},
   "outputs": [],
   "source": [
    "def TransportRule(i,v):\n",
    "    v = v.to_Array();\n",
    "    if v[i-1] == 1.0:\n",
    "            return 1.0;\n",
    "    else:\n",
    "            return 0.0;"
   ]
  },
  {
   "cell_type": "code",
   "execution_count": 8,
   "metadata": {},
   "outputs": [],
   "source": [
    "def Rule(mf):\n",
    "    rule = MeshFunction(mesh,1);\n",
    "    v = mf.vec_export()\n",
    "    h = 1/(mesh.getElNumber());\n",
    "    rule.pushFunction(lambda P: [TransportRule(floor(P[0]/h),v)])\n",
    "    return rule;\n",
    "A.addRule(Rule)"
   ]
  },
  {
   "cell_type": "code",
   "execution_count": 9,
   "metadata": {},
   "outputs": [
    {
     "data": {
      "image/png": "[encoded data removed]",
      "text/plain": [
       "<Figure size 1152x648 with 1 Axes>"
      ]
     },
     "metadata": {
      "needs_background": "light"
     },
     "output_type": "display_data"
    }
   ],
   "source": [
    "A.Run();\n",
    "DrawCAState(A,True)"
   ]
  },
  {
   "cell_type": "code",
   "execution_count": 10,
   "metadata": {},
   "outputs": [
    {
     "name": "stdout",
     "output_type": "stream",
     "text": [
      "[[0. 1. 0. 0. 0. 1. 0. 0. 0. 1. 0. 0. 0. 0. 1. 0. 1. 1. 1. 0. 0.]\n",
      " [0. 0. 1. 0. 0. 0. 1. 0. 0. 0. 1. 0. 0. 0. 0. 1. 0. 1. 1. 1. 0.]\n",
      " [0. 0. 0. 1. 0. 0. 0. 1. 0. 0. 0. 1. 0. 0. 0. 0. 1. 0. 1. 1. 1.]\n",
      " [1. 0. 0. 0. 1. 0. 0. 0. 1. 0. 0. 0. 1. 0. 0. 0. 0. 1. 0. 1. 1.]\n",
      " [1. 1. 0. 0. 0. 1. 0. 0. 0. 1. 0. 0. 0. 1. 0. 0. 0. 0. 1. 0. 1.]\n",
      " [1. 1. 1. 0. 0. 0. 1. 0. 0. 0. 1. 0. 0. 0. 1. 0. 0. 0. 0. 1. 0.]\n",
      " [0. 1. 1. 1. 0. 0. 0. 1. 0. 0. 0. 1. 0. 0. 0. 1. 0. 0. 0. 0. 1.]\n",
      " [1. 0. 1. 1. 1. 0. 0. 0. 1. 0. 0. 0. 1. 0. 0. 0. 1. 0. 0. 0. 0.]\n",
      " [0. 1. 0. 1. 1. 1. 0. 0. 0. 1. 0. 0. 0. 1. 0. 0. 0. 1. 0. 0. 0.]\n",
      " [0. 0. 1. 0. 1. 1. 1. 0. 0. 0. 1. 0. 0. 0. 1. 0. 0. 0. 1. 0. 0.]\n",
      " [0. 0. 0. 1. 0. 1. 1. 1. 0. 0. 0. 1. 0. 0. 0. 1. 0. 0. 0. 1. 0.]\n",
      " [0. 0. 0. 0. 1. 0. 1. 1. 1. 0. 0. 0. 1. 0. 0. 0. 1. 0. 0. 0. 1.]\n",
      " [1. 0. 0. 0. 0. 1. 0. 1. 1. 1. 0. 0. 0. 1. 0. 0. 0. 1. 0. 0. 0.]\n",
      " [0. 1. 0. 0. 0. 0. 1. 0. 1. 1. 1. 0. 0. 0. 1. 0. 0. 0. 1. 0. 0.]\n",
      " [0. 0. 1. 0. 0. 0. 0. 1. 0. 1. 1. 1. 0. 0. 0. 1. 0. 0. 0. 1. 0.]\n",
      " [0. 0. 0. 1. 0. 0. 0. 0. 1. 0. 1. 1. 1. 0. 0. 0. 1. 0. 0. 0. 1.]\n",
      " [1. 0. 0. 0. 1. 0. 0. 0. 0. 1. 0. 1. 1. 1. 0. 0. 0. 1. 0. 0. 0.]\n",
      " [0. 1. 0. 0. 0. 1. 0. 0. 0. 0. 1. 0. 1. 1. 1. 0. 0. 0. 1. 0. 0.]\n",
      " [0. 0. 1. 0. 0. 0. 1. 0. 0. 0. 0. 1. 0. 1. 1. 1. 0. 0. 0. 1. 0.]\n",
      " [0. 0. 0. 1. 0. 0. 0. 1. 0. 0. 0. 0. 1. 0. 1. 1. 1. 0. 0. 0. 1.]\n",
      " [1. 0. 0. 0. 1. 0. 0. 0. 1. 0. 0. 0. 0. 1. 0. 1. 1. 1. 0. 0. 0.]]\n"
     ]
    },
    {
     "data": {
      "image/png": "[encoded data removed]",
      "text/plain": [
       "<Figure size 1152x648 with 1 Axes>"
      ]
     },
     "metadata": {
      "needs_background": "light"
     },
     "output_type": "display_data"
    },
    {
     "data": {
      "image/png": "[encoded data removed]",
      "text/plain": [
       "<Figure size 1152x648 with 1 Axes>"
      ]
     },
     "metadata": {
      "needs_background": "light"
     },
     "output_type": "display_data"
    }
   ],
   "source": [
    "A.Init(A0)\n",
    "DrawCAState(A,True)\n",
    "DrawCAStates(A,20,True)"
   ]
  },
  {
   "cell_type": "markdown",
   "metadata": {},
   "source": [
    "## Wolfram Rule"
   ]
  },
  {
   "cell_type": "code",
   "execution_count": 11,
   "metadata": {
    "scrolled": false
   },
   "outputs": [],
   "source": [
    "I = line(0.0,1.0)\n",
    "mesh = Mesh(1);\n",
    "mesh.UniformMesh(I,0.025)\n",
    "N = mesh.getElNumber();\n",
    "A = Automata(mesh,2)"
   ]
  },
  {
   "cell_type": "code",
   "execution_count": 12,
   "metadata": {},
   "outputs": [
    {
     "name": "stdout",
     "output_type": "stream",
     "text": [
      "41\n"
     ]
    }
   ],
   "source": [
    "A0 = MeshFunction(mesh,1)\n",
    "A0.pushFunction(lambda p: [0])\n",
    "v = A0.vec_export()\n",
    "print(v.len())"
   ]
  },
  {
   "cell_type": "code",
   "execution_count": 13,
   "metadata": {},
   "outputs": [
    {
     "data": {
      "image/png": "[encoded data removed]",
      "text/plain": [
       "<Figure size 1152x648 with 1 Axes>"
      ]
     },
     "metadata": {
      "needs_background": "light"
     },
     "output_type": "display_data"
    }
   ],
   "source": [
    "v.from_Array([float(k) for k in rng.randint(0,2,v.len())])\n",
    "A0.vec_import(v);\n",
    "A.Init(A0)\n",
    "DrawCAState(A,True)"
   ]
  },
  {
   "cell_type": "code",
   "execution_count": 14,
   "metadata": {},
   "outputs": [],
   "source": [
    "def WolframRule(i,v,rule_number):\n",
    "    rule_string = np.binary_repr(rule_number, 8)\n",
    "    brule = np.array([int(bit) for bit in rule_string])\n",
    "    if i==v.len()-1:\n",
    "        j=1\n",
    "    else:\n",
    "        j=i+1\n",
    "    v = v.to_Array();\n",
    "    #print(\"v, \",v,\" i,\",i)\n",
    "    index = 7 - (4*v[i-1] + 2*v[i] + v[j])\n",
    "    #print(\"(index):\",index)\n",
    "    return brule[int(index)]\n",
    "def Rule(mf):\n",
    "    rule = MeshFunction(mesh,1);\n",
    "    v = mf.vec_export()\n",
    "    h = 1/(mesh.getElNumber());\n",
    "    rule.pushFunction(lambda P: [WolframRule(floor(P[0]/h),v,30)])\n",
    "    return rule;\n",
    "A.addRule(Rule)"
   ]
  },
  {
   "cell_type": "code",
   "execution_count": 15,
   "metadata": {
    "scrolled": false
   },
   "outputs": [
    {
     "name": "stdout",
     "output_type": "stream",
     "text": [
      "[[0. 1. 1. ... 1. 0. 0.]\n",
      " [1. 1. 0. ... 0. 1. 1.]\n",
      " [0. 0. 1. ... 0. 1. 0.]\n",
      " ...\n",
      " [1. 0. 0. ... 0. 1. 1.]\n",
      " [0. 1. 0. ... 0. 1. 0.]\n",
      " [1. 1. 0. ... 1. 1. 0.]]\n"
     ]
    },
    {
     "data": {
      "image/png": "[encoded data removed]",
      "text/plain": [
       "<Figure size 1152x648 with 1 Axes>"
      ]
     },
     "metadata": {
      "needs_background": "light"
     },
     "output_type": "display_data"
    }
   ],
   "source": [
    "DrawCAStates(A,N,True)"
   ]
  },
  {
   "cell_type": "markdown",
   "metadata": {},
   "source": [
    "### Class One - Uniform State"
   ]
  },
  {
   "cell_type": "code",
   "execution_count": 16,
   "metadata": {},
   "outputs": [
    {
     "data": {
      "image/png": "[encoded data removed]",
      "text/plain": [
       "<Figure size 1152x648 with 1 Axes>"
      ]
     },
     "metadata": {
      "needs_background": "light"
     },
     "output_type": "display_data"
    }
   ],
   "source": [
    "A = Automata(mesh,2)\n",
    "A0 = MeshFunction(mesh,1)\n",
    "A0.pushFunction(lambda p: [0])\n",
    "v = A0.vec_export()\n",
    "v.from_Array([float(k) for k in rng.randint(0,2,v.len())])\n",
    "A0.vec_import(v);\n",
    "A.Init(A0)\n",
    "DrawCAState(A,True)"
   ]
  },
  {
   "cell_type": "code",
   "execution_count": 17,
   "metadata": {},
   "outputs": [],
   "source": [
    "def Rule(mf):\n",
    "    rule = MeshFunction(mesh,1);\n",
    "    v = mf.vec_export()\n",
    "    h = 1/(mesh.getElNumber());\n",
    "    rule.pushFunction(lambda P: [WolframRule(floor(P[0]/h),v,4)])\n",
    "    return rule;\n",
    "A.addRule(Rule)"
   ]
  },
  {
   "cell_type": "code",
   "execution_count": 18,
   "metadata": {
    "scrolled": false
   },
   "outputs": [
    {
     "name": "stdout",
     "output_type": "stream",
     "text": [
      "[[1. 0. 1. ... 0. 0. 1.]\n",
      " [0. 0. 0. ... 0. 0. 1.]\n",
      " [0. 0. 0. ... 0. 0. 1.]\n",
      " ...\n",
      " [0. 0. 0. ... 0. 0. 1.]\n",
      " [0. 0. 0. ... 0. 0. 1.]\n",
      " [0. 0. 0. ... 0. 0. 1.]]\n"
     ]
    },
    {
     "data": {
      "image/png": "[encoded data removed]",
      "text/plain": [
       "<Figure size 1152x648 with 1 Axes>"
      ]
     },
     "metadata": {
      "needs_background": "light"
     },
     "output_type": "display_data"
    }
   ],
   "source": [
    "DrawCAStates(A,N,True)"
   ]
  },
  {
   "cell_type": "code",
   "execution_count": 19,
   "metadata": {},
   "outputs": [
    {
     "data": {
      "image/png": "[encoded data removed]",
      "text/plain": [
       "<Figure size 1152x648 with 1 Axes>"
      ]
     },
     "metadata": {
      "needs_background": "light"
     },
     "output_type": "display_data"
    }
   ],
   "source": [
    "A = Automata(mesh,2)\n",
    "A0 = MeshFunction(mesh,1)\n",
    "A0.pushFunction(lambda p: [0])\n",
    "v = A0.vec_export()\n",
    "v.from_Array([float(k) for k in rng.randint(0,2,v.len())])\n",
    "A0.vec_import(v);\n",
    "A.Init(A0)\n",
    "DrawCAState(A,True)"
   ]
  },
  {
   "cell_type": "code",
   "execution_count": 20,
   "metadata": {},
   "outputs": [],
   "source": [
    "def Rule(mf):\n",
    "    rule = MeshFunction(mesh,1);\n",
    "    v = mf.vec_export()\n",
    "    h = 1/(mesh.getElNumber());\n",
    "    rule.pushFunction(lambda P: [WolframRule(floor(P[0]/h),v,172)])\n",
    "    return rule;\n",
    "A.addRule(Rule)"
   ]
  },
  {
   "cell_type": "code",
   "execution_count": 21,
   "metadata": {},
   "outputs": [
    {
     "name": "stdout",
     "output_type": "stream",
     "text": [
      "[[0. 1. 1. ... 1. 1. 1.]\n",
      " [1. 1. 1. ... 1. 1. 1.]\n",
      " [1. 1. 1. ... 1. 1. 1.]\n",
      " ...\n",
      " [0. 0. 0. ... 0. 0. 0.]\n",
      " [0. 0. 0. ... 0. 0. 0.]\n",
      " [0. 0. 0. ... 0. 0. 0.]]\n"
     ]
    },
    {
     "data": {
      "image/png": "[encoded data removed]",
      "text/plain": [
       "<Figure size 1152x648 with 1 Axes>"
      ]
     },
     "metadata": {
      "needs_background": "light"
     },
     "output_type": "display_data"
    }
   ],
   "source": [
    "DrawCAStates(A,N,True)"
   ]
  },
  {
   "cell_type": "markdown",
   "metadata": {},
   "source": [
    "### Class Two - Stable State"
   ]
  },
  {
   "cell_type": "code",
   "execution_count": 22,
   "metadata": {},
   "outputs": [
    {
     "data": {
      "image/png": "[encoded data removed]",
      "text/plain": [
       "<Figure size 1152x648 with 1 Axes>"
      ]
     },
     "metadata": {
      "needs_background": "light"
     },
     "output_type": "display_data"
    }
   ],
   "source": [
    "A = Automata(mesh,2)\n",
    "A0 = MeshFunction(mesh,1)\n",
    "A0.pushFunction(lambda p: [0])\n",
    "v = A0.vec_export()\n",
    "v.from_Array([float(k) for k in rng.randint(0,2,v.len())])\n",
    "A0.vec_import(v);\n",
    "A.Init(A0)\n",
    "DrawCAState(A,True)"
   ]
  },
  {
   "cell_type": "code",
   "execution_count": 23,
   "metadata": {},
   "outputs": [],
   "source": [
    "def Rule(mf):\n",
    "    rule = MeshFunction(mesh,1);\n",
    "    v = mf.vec_export()\n",
    "    h = 1/(mesh.getElNumber());\n",
    "    rule.pushFunction(lambda P: [WolframRule(floor(P[0]/h),v,50)])\n",
    "    return rule;\n",
    "A.addRule(Rule)"
   ]
  },
  {
   "cell_type": "code",
   "execution_count": 24,
   "metadata": {
    "scrolled": false
   },
   "outputs": [
    {
     "name": "stdout",
     "output_type": "stream",
     "text": [
      "[[1. 1. 0. ... 0. 1. 0.]\n",
      " [0. 0. 1. ... 1. 0. 1.]\n",
      " [1. 1. 0. ... 0. 1. 0.]\n",
      " ...\n",
      " [1. 1. 0. ... 0. 1. 0.]\n",
      " [0. 0. 1. ... 1. 0. 1.]\n",
      " [1. 1. 0. ... 0. 1. 0.]]\n"
     ]
    },
    {
     "data": {
      "image/png": "[encoded data removed]",
      "text/plain": [
       "<Figure size 1152x648 with 1 Axes>"
      ]
     },
     "metadata": {
      "needs_background": "light"
     },
     "output_type": "display_data"
    }
   ],
   "source": [
    "DrawCAStates(A,N,True)"
   ]
  },
  {
   "cell_type": "code",
   "execution_count": 25,
   "metadata": {},
   "outputs": [
    {
     "data": {
      "image/png": "[encoded data removed]",
      "text/plain": [
       "<Figure size 1152x648 with 1 Axes>"
      ]
     },
     "metadata": {
      "needs_background": "light"
     },
     "output_type": "display_data"
    }
   ],
   "source": [
    "A = Automata(mesh,2)\n",
    "A0 = MeshFunction(mesh,1)\n",
    "A0.pushFunction(lambda p: [0])\n",
    "v = A0.vec_export()\n",
    "v.from_Array([float(k) for k in rng.randint(0,2,v.len())])\n",
    "A0.vec_import(v);\n",
    "A.Init(A0)\n",
    "DrawCAState(A,True)"
   ]
  },
  {
   "cell_type": "code",
   "execution_count": 26,
   "metadata": {},
   "outputs": [],
   "source": [
    "def Rule(mf):\n",
    "    rule = MeshFunction(mesh,1);\n",
    "    v = mf.vec_export()\n",
    "    h = 1/(mesh.getElNumber());\n",
    "    rule.pushFunction(lambda P: [WolframRule(floor(P[0]/h),v,173)])\n",
    "    return rule;\n",
    "A.addRule(Rule)"
   ]
  },
  {
   "cell_type": "code",
   "execution_count": 27,
   "metadata": {},
   "outputs": [
    {
     "name": "stdout",
     "output_type": "stream",
     "text": [
      "[[1. 1. 0. ... 1. 0. 0.]\n",
      " [1. 0. 0. ... 1. 0. 0.]\n",
      " [1. 0. 1. ... 0. 0. 1.]\n",
      " ...\n",
      " [1. 1. 1. ... 0. 0. 1.]\n",
      " [1. 1. 1. ... 0. 0. 1.]\n",
      " [1. 1. 1. ... 1. 0. 1.]]\n"
     ]
    },
    {
     "data": {
      "image/png": "[encoded data removed]",
      "text/plain": [
       "<Figure size 1152x648 with 1 Axes>"
      ]
     },
     "metadata": {
      "needs_background": "light"
     },
     "output_type": "display_data"
    }
   ],
   "source": [
    "DrawCAStates(A,N,True)"
   ]
  },
  {
   "cell_type": "markdown",
   "metadata": {},
   "source": [
    "### Class Three and Four - Random State"
   ]
  },
  {
   "cell_type": "code",
   "execution_count": 28,
   "metadata": {},
   "outputs": [
    {
     "data": {
      "image/png": "[encoded data removed]",
      "text/plain": [
       "<Figure size 1152x648 with 1 Axes>"
      ]
     },
     "metadata": {
      "needs_background": "light"
     },
     "output_type": "display_data"
    }
   ],
   "source": [
    "A = Automata(mesh,2)\n",
    "A0 = MeshFunction(mesh,1)\n",
    "A0.pushFunction(lambda p: [0])\n",
    "v = A0.vec_export()\n",
    "v.from_Array([float(k) for k in rng.randint(0,2,v.len())])\n",
    "A0.vec_import(v);\n",
    "A.Init(A0)\n",
    "DrawCAState(A,True)"
   ]
  },
  {
   "cell_type": "code",
   "execution_count": 29,
   "metadata": {},
   "outputs": [],
   "source": [
    "def Rule(mf):\n",
    "    rule = MeshFunction(mesh,1);\n",
    "    v = mf.vec_export()\n",
    "    h = 1/(mesh.getElNumber());\n",
    "    rule.pushFunction(lambda P: [WolframRule(floor(P[0]/h),v,60)])\n",
    "    return rule;\n",
    "A.addRule(Rule)"
   ]
  },
  {
   "cell_type": "code",
   "execution_count": 30,
   "metadata": {
    "scrolled": false
   },
   "outputs": [
    {
     "name": "stdout",
     "output_type": "stream",
     "text": [
      "[[1. 1. 0. ... 1. 1. 1.]\n",
      " [0. 0. 1. ... 1. 0. 0.]\n",
      " [0. 0. 1. ... 0. 1. 0.]\n",
      " ...\n",
      " [1. 1. 1. ... 0. 0. 0.]\n",
      " [1. 0. 0. ... 1. 0. 0.]\n",
      " [1. 1. 0. ... 0. 1. 0.]]\n"
     ]
    },
    {
     "data": {
      "image/png": "[encoded data removed]",
      "text/plain": [
       "<Figure size 1152x648 with 1 Axes>"
      ]
     },
     "metadata": {
      "needs_background": "light"
     },
     "output_type": "display_data"
    }
   ],
   "source": [
    "DrawCAStates(A,N,True)"
   ]
  },
  {
   "cell_type": "code",
   "execution_count": 31,
   "metadata": {},
   "outputs": [],
   "source": [
    "def Rule(mf):\n",
    "    rule = MeshFunction(mesh,1);\n",
    "    v = mf.vec_export()\n",
    "    h = 1/(mesh.getElNumber());\n",
    "    rule.pushFunction(lambda P: [WolframRule(floor(P[0]/h),v,110)])\n",
    "    return rule;\n",
    "A.addRule(Rule)"
   ]
  },
  {
   "cell_type": "code",
   "execution_count": 32,
   "metadata": {},
   "outputs": [
    {
     "name": "stdout",
     "output_type": "stream",
     "text": [
      "[[1. 1. 0. ... 0. 1. 0.]\n",
      " [1. 1. 1. ... 1. 1. 1.]\n",
      " [0. 0. 0. ... 0. 0. 0.]\n",
      " ...\n",
      " [1. 1. 1. ... 1. 1. 1.]\n",
      " [0. 0. 0. ... 0. 0. 0.]\n",
      " [0. 0. 1. ... 0. 0. 0.]]\n"
     ]
    },
    {
     "data": {
      "image/png": "[encoded data removed]",
      "text/plain": [
       "<Figure size 1152x648 with 1 Axes>"
      ]
     },
     "metadata": {
      "needs_background": "light"
     },
     "output_type": "display_data"
    }
   ],
   "source": [
    "DrawCAStates(A,N,True)"
   ]
  }
 ],
 "metadata": {
  "kernelspec": {
   "display_name": "Python 3",
   "language": "python",
   "name": "python3"
  },
  "language_info": {
   "codemirror_mode": {
    "name": "ipython",
    "version": 3
   },
   "file_extension": ".py",
   "mimetype": "text/x-python",
   "name": "python",
   "nbconvert_exporter": "python",
   "pygments_lexer": "ipython3",
   "version": "3.6.9"
  },
  "latex_envs": {
   "LaTeX_envs_menu_present": true,
   "autoclose": false,
   "autocomplete": true,
   "bibliofile": "biblio.bib",
   "cite_by": "apalike",
   "current_citInitial": 1,
   "eqLabelWithNumbers": true,
   "eqNumInitial": 1,
   "hotkeys": {
    "equation": "Ctrl-E",
    "itemize": "Ctrl-I"
   },
   "labels_anchors": false,
   "latex_user_defs": false,
   "report_style_numbering": false,
   "user_envs_cfg": false
  }
 },
 "nbformat": 4,
 "nbformat_minor": 2
}
