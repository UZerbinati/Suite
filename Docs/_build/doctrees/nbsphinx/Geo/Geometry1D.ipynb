{
 "cells": [
  {
   "cell_type": "markdown",
   "metadata": {},
   "source": [
    "# Geometry\n",
    "## One Dimensional Geometry"
   ]
  },
  {
   "cell_type": "code",
   "execution_count": 1,
   "metadata": {},
   "outputs": [],
   "source": [
    "import sys\n",
    "sys.path.append('../../Py/Build')\n",
    "from suite import *\n",
    "import matplotlib.pyplot as plt\n",
    "from math import pi,sin\n",
    "import numpy as np\n",
    "sys.path.append('../../Py/GUI')\n",
    "from suiteGUI import *"
   ]
  },
  {
   "cell_type": "markdown",
   "metadata": {},
   "source": [
    "We introduce the object we are going to mesh, in one dimension, a straight line starting at 0 and ending at $\\pi$, i.e. the interval $I=[0,\\pi]$."
   ]
  },
  {
   "cell_type": "code",
   "execution_count": 2,
   "metadata": {},
   "outputs": [],
   "source": [
    "I = line(0.0,2.0)"
   ]
  },
  {
   "cell_type": "markdown",
   "metadata": {},
   "source": [
    "We now mesh the interval dividing it in uniform volume of a given length $h=0.2$. We can access the volume that make up the mesh converting the object to string. In particular we first introduce the mesh specifying the dimension of the object, then we pass the object that we are meshing together with the size of the volumes making up the mesh."
   ]
  },
  {
   "cell_type": "code",
   "execution_count": 3,
   "metadata": {
    "scrolled": false
   },
   "outputs": [
    {
     "data": {
      "text/plain": [
       "|1D Mesh|\n",
       "Mesh made by 20.\n",
       "0. [0.000000,0.100000]\n",
       "1. [0.100000,0.200000]\n",
       "2. [0.200000,0.300000]\n",
       "3. [0.300000,0.400000]\n",
       "4. [0.400000,0.500000]\n",
       "5. [0.500000,0.600000]\n",
       "6. [0.600000,0.700000]\n",
       "7. [0.700000,0.800000]\n",
       "8. [0.800000,0.900000]\n",
       "9. [0.900000,1.000000]\n",
       "10. [1.000000,1.100000]\n",
       "11. [1.100000,1.200000]\n",
       "12. [1.200000,1.300000]\n",
       "13. [1.300000,1.400000]\n",
       "14. [1.400000,1.500000]\n",
       "15. [1.500000,1.600000]\n",
       "16. [1.600000,1.700000]\n",
       "17. [1.700000,1.800000]\n",
       "18. [1.800000,1.900000]\n",
       "19. [1.900000,2.000000]"
      ]
     },
     "execution_count": 3,
     "metadata": {},
     "output_type": "execute_result"
    }
   ],
   "source": [
    "mesh = Mesh(1);\n",
    "mesh.UniformMesh(I,0.1)\n",
    "mesh"
   ]
  },
  {
   "cell_type": "markdown",
   "metadata": {},
   "source": [
    "We can access the mesh dimension and the number of elements in the mesh as follow:"
   ]
  },
  {
   "cell_type": "code",
   "execution_count": 4,
   "metadata": {},
   "outputs": [
    {
     "data": {
      "text/plain": [
       "1"
      ]
     },
     "execution_count": 4,
     "metadata": {},
     "output_type": "execute_result"
    }
   ],
   "source": [
    "mesh.getDim()"
   ]
  },
  {
   "cell_type": "code",
   "execution_count": 5,
   "metadata": {},
   "outputs": [
    {
     "data": {
      "text/plain": [
       "20"
      ]
     },
     "execution_count": 5,
     "metadata": {},
     "output_type": "execute_result"
    }
   ],
   "source": [
    "mesh.getElNumber()"
   ]
  },
  {
   "cell_type": "markdown",
   "metadata": {},
   "source": [
    "We now define a given function on the afore built mesh, we can also evaluate the function in a specific point passing as argument the degree ( either 0 or 1) of polynomial interpolation with in the mesh volumes."
   ]
  },
  {
   "cell_type": "code",
   "execution_count": 6,
   "metadata": {},
   "outputs": [],
   "source": [
    "f = MeshFunction(mesh,1)\n",
    "f.pushFunction(lambda p: [1-(p[0])**2/4])"
   ]
  },
  {
   "cell_type": "markdown",
   "metadata": {},
   "source": [
    "If we use degree 0 we get obtain a slight mismatch since we approximate from the right."
   ]
  },
  {
   "cell_type": "code",
   "execution_count": 7,
   "metadata": {},
   "outputs": [
    {
     "data": {
      "image/png": "[encoded data removed]",
      "text/plain": [
       "<Figure size 432x288 with 1 Axes>"
      ]
     },
     "metadata": {
      "needs_background": "light"
     },
     "output_type": "display_data"
    }
   ],
   "source": [
    "Draw(f,mesh,0)"
   ]
  },
  {
   "cell_type": "code",
   "execution_count": 8,
   "metadata": {
    "scrolled": false
   },
   "outputs": [
    {
     "data": {
      "image/png": "[encoded data removed]",
      "text/plain": [
       "<Figure size 432x288 with 1 Axes>"
      ]
     },
     "metadata": {
      "needs_background": "light"
     },
     "output_type": "display_data"
    }
   ],
   "source": [
    "Draw(f,mesh,1)"
   ]
  },
  {
   "cell_type": "markdown",
   "metadata": {},
   "source": [
    "We can also transform to vector type the a mesh function and also import a vector to fill a mesh function:"
   ]
  },
  {
   "cell_type": "code",
   "execution_count": 9,
   "metadata": {},
   "outputs": [
    {
     "data": {
      "text/plain": [
       "(1.000000,0.997500,0.990000,0.977500,0.960000,0.937500,0.910000,0.877500,0.840000,0.797500,0.750000,0.697500,0.640000,0.577500,0.510000,0.437500,0.360000,0.277500,0.190000,0.097500)"
      ]
     },
     "execution_count": 9,
     "metadata": {},
     "output_type": "execute_result"
    }
   ],
   "source": [
    "v = f.vec_export()\n",
    "v"
   ]
  },
  {
   "cell_type": "code",
   "execution_count": 10,
   "metadata": {},
   "outputs": [
    {
     "data": {
      "text/plain": [
       "(1.000000,0.997500,0.990000,0.977500,0.960000,0.937500,0.910000,0.877500,0.840000,0.797500,0.750000,0.697500,0.640000,0.577500,0.510000,0.437500,0.360000,0.277500,0.190000,0.097500)"
      ]
     },
     "execution_count": 10,
     "metadata": {},
     "output_type": "execute_result"
    }
   ],
   "source": [
    "u = MeshFunction(mesh,1)\n",
    "u.pushFunction(lambda p: [0])\n",
    "u.vec_import(v)\n",
    "u.vec_export()"
   ]
  }
 ],
 "metadata": {
  "kernelspec": {
   "display_name": "Python 3",
   "language": "python",
   "name": "python3"
  },
  "language_info": {
   "codemirror_mode": {
    "name": "ipython",
    "version": 3
   },
   "file_extension": ".py",
   "mimetype": "text/x-python",
   "name": "python",
   "nbconvert_exporter": "python",
   "pygments_lexer": "ipython3",
   "version": "3.6.9"
  },
  "latex_envs": {
   "LaTeX_envs_menu_present": true,
   "autoclose": false,
   "autocomplete": true,
   "bibliofile": "biblio.bib",
   "cite_by": "apalike",
   "current_citInitial": 1,
   "eqLabelWithNumbers": true,
   "eqNumInitial": 1,
   "hotkeys": {
    "equation": "Ctrl-E",
    "itemize": "Ctrl-I"
   },
   "labels_anchors": false,
   "latex_user_defs": false,
   "report_style_numbering": false,
   "user_envs_cfg": false
  }
 },
 "nbformat": 4,
 "nbformat_minor": 2
}
