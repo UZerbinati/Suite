{
 "cells": [
  {
   "cell_type": "markdown",
   "metadata": {},
   "source": [
    "## Parallel Linear Algebra"
   ]
  },
  {
   "cell_type": "code",
   "execution_count": 1,
   "metadata": {},
   "outputs": [],
   "source": [
    "import sys\n",
    "sys.path.append('../../../Py/Build')\n",
    "from suite import *\n",
    "from random import *"
   ]
  },
  {
   "cell_type": "markdown",
   "metadata": {},
   "source": [
    "### Parallel Dot Product"
   ]
  },
  {
   "cell_type": "code",
   "execution_count": 2,
   "metadata": {},
   "outputs": [
    {
     "name": "stdout",
     "output_type": "stream",
     "text": [
      "53.7 µs ± 2.46 µs per loop (mean ± std. dev. of 7 runs, 10000 loops each)\n",
      "15000.0\n"
     ]
    }
   ],
   "source": [
    "N=15000;\n",
    "a = vec(N)\n",
    "b = vec(N)\n",
    "for k in range(1,N+1):\n",
    "    a[k]=1.0\n",
    "    b[k]=1.0\n",
    "%timeit a*b\n",
    "print(a*b)"
   ]
  },
  {
   "cell_type": "code",
   "execution_count": 3,
   "metadata": {},
   "outputs": [
    {
     "name": "stdout",
     "output_type": "stream",
     "text": [
      "The slowest run took 4.78 times longer than the fastest. This could mean that an intermediate result is being cached.\n",
      "46.5 µs ± 32 µs per loop (mean ± std. dev. of 7 runs, 10000 loops each)\n",
      "15000.0\n"
     ]
    }
   ],
   "source": [
    "N=15000;\n",
    "a = vec(N)\n",
    "a.parallel=True;\n",
    "b.parallel=True;\n",
    "b = vec(N)\n",
    "for k in range(1,N+1):\n",
    "    a[k]=1.0\n",
    "    b[k]=1.0\n",
    "%timeit a*b\n",
    "print(a*b)"
   ]
  },
  {
   "cell_type": "markdown",
   "metadata": {},
   "source": [
    "### Parallel Matrix Vector Multiplication"
   ]
  },
  {
   "cell_type": "code",
   "execution_count": 4,
   "metadata": {},
   "outputs": [
    {
     "name": "stdout",
     "output_type": "stream",
     "text": [
      "6.72 ms ± 86.6 µs per loop (mean ± std. dev. of 7 runs, 100 loops each)\n"
     ]
    }
   ],
   "source": [
    "N = 1000\n",
    "A = mat(N,N);\n",
    "b = vec(N)\n",
    "for k in range(1,N+1):\n",
    "    A[k,k] = float(k)\n",
    "    b[k] = 1.0\n",
    "%timeit A*b"
   ]
  },
  {
   "cell_type": "code",
   "execution_count": 5,
   "metadata": {},
   "outputs": [
    {
     "name": "stdout",
     "output_type": "stream",
     "text": [
      "3.98 ms ± 1.52 ms per loop (mean ± std. dev. of 7 runs, 100 loops each)\n"
     ]
    }
   ],
   "source": [
    "N = 1000\n",
    "A = mat(N,N);\n",
    "b = vec(N)\n",
    "A.parallel=True;\n",
    "for k in range(1,N+1):\n",
    "    A[k,k] = float(k)\n",
    "    b[k] = 1.0\n",
    "%timeit A*b"
   ]
  },
  {
   "cell_type": "markdown",
   "metadata": {},
   "source": [
    "### Parallel Cholesky\n",
    "\n",
    "We here show the speed up obtained thanks to parallel implementation of the Cholesky-Crout algorithm using OpenMP. In particular we follow the implementation outlined in Ruschel, João Paulo Tarasconi. \"Parallel implementations of the cholesky decomposition on CPUs and GPUs.\" (2016)."
   ]
  },
  {
   "cell_type": "code",
   "execution_count": 6,
   "metadata": {},
   "outputs": [],
   "source": [
    "N = 250;\n",
    "A = mat(N,N)\n",
    "A.parallel=True;\n",
    "#Generating sequence of random number.\n",
    "Random =[]\n",
    "for i in range(N**2):\n",
    "    Random.append(random())\n",
    "#Filling the Suite array.\n",
    "A.from_Array(Random)\n",
    "M = mat(N,N)\n",
    "M = A*A.T()"
   ]
  },
  {
   "cell_type": "code",
   "execution_count": 7,
   "metadata": {},
   "outputs": [
    {
     "name": "stdout",
     "output_type": "stream",
     "text": [
      "14.9 ms ± 1.71 ms per loop (mean ± std. dev. of 7 runs, 10 loops each)\n"
     ]
    }
   ],
   "source": [
    "%timeit Cholesky(M)"
   ]
  },
  {
   "cell_type": "code",
   "execution_count": 8,
   "metadata": {},
   "outputs": [
    {
     "name": "stdout",
     "output_type": "stream",
     "text": [
      "9.39 ms ± 291 µs per loop (mean ± std. dev. of 7 runs, 100 loops each)\n"
     ]
    }
   ],
   "source": [
    "%timeit ParallelChol(M)"
   ]
  }
 ],
 "metadata": {
  "kernelspec": {
   "display_name": "Python 3",
   "language": "python",
   "name": "python3"
  },
  "language_info": {
   "codemirror_mode": {
    "name": "ipython",
    "version": 3
   },
   "file_extension": ".py",
   "mimetype": "text/x-python",
   "name": "python",
   "nbconvert_exporter": "python",
   "pygments_lexer": "ipython3",
   "version": "3.6.9"
  },
  "latex_envs": {
   "LaTeX_envs_menu_present": true,
   "autoclose": false,
   "autocomplete": true,
   "bibliofile": "biblio.bib",
   "cite_by": "apalike",
   "current_citInitial": 1,
   "eqLabelWithNumbers": true,
   "eqNumInitial": 1,
   "hotkeys": {
    "equation": "Ctrl-E",
    "itemize": "Ctrl-I"
   },
   "labels_anchors": false,
   "latex_user_defs": false,
   "report_style_numbering": false,
   "user_envs_cfg": false
  }
 },
 "nbformat": 4,
 "nbformat_minor": 2
}
