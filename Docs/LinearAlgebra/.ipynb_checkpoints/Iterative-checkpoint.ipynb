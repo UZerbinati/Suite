{
 "cells": [
  {
   "cell_type": "markdown",
   "metadata": {},
   "source": [
    "# Iterative Methods - Jacobi and Gau$\\beta$-Siedel"
   ]
  },
  {
   "cell_type": "code",
   "execution_count": 1,
   "metadata": {},
   "outputs": [],
   "source": [
    "import matplotlib.pyplot as plt\n",
    "import sys\n",
    "sys.path.append('../../../Py/Build')\n",
    "from suite import *"
   ]
  },
  {
   "cell_type": "markdown",
   "metadata": {},
   "source": [
    "## Jacobi Method\n",
    "Here we study the Jacobi method applied to the the following linear system:\n",
    "$$A\\vec{x} = \\vec{b}$$"
   ]
  },
  {
   "cell_type": "markdown",
   "metadata": {},
   "source": [
    "$$\\begin{bmatrix}3 & 1 & 1 \\\\ 0 & -2 & 1 \\\\ 2 & -2 & 5\\end{bmatrix}\\vec{x}= \\begin{bmatrix}2\\\\0\\\\10 \\end{bmatrix}$$"
   ]
  },
  {
   "cell_type": "markdown",
   "metadata": {},
   "source": [
    "where we chose the null vector as initial guess $\\vec{x}_{0}$. In the next code we declare the objects we are going to use (in particular notice that sparse matrices were implemented to work with iterative methods and $A$ is defined as a sparse matrix)."
   ]
  },
  {
   "cell_type": "code",
   "execution_count": 2,
   "metadata": {},
   "outputs": [
    {
     "name": "stdout",
     "output_type": "stream",
     "text": [
      "A\n",
      " [0,(1,1)]->3.000000\n",
      "[1,(1,2)]->1.000000\n",
      "[2,(1,3)]->-1.000000\n",
      "[3,(2,1)]->0.000000\n",
      "[4,(2,2)]->-2.000000\n",
      "[5,(2,3)]->1.000000\n",
      "[6,(3,1)]->2.000000\n",
      "[7,(3,2)]->-2.000000\n",
      "[8,(3,3)]->5.000000\n",
      "\n",
      "b: (2.000000,0.000000,10.000000)\n",
      "x0: (0.000000,0.000000,0.000000)\n",
      "x: (1.000000,1.000000,2.000000)\n"
     ]
    }
   ],
   "source": [
    "A = spmat(3,3)\n",
    "A[1,1]=3;    A[1,2]=1;    A[1,3]=-1;\n",
    "A[2,1]=0;    A[2,2]=-2;    A[2,3]=1;\n",
    "A[3,1]=2;    A[3,2]=-2;    A[3,3]=5;\n",
    "print(\"A\\n\",A)\n",
    "\n",
    "b = vec(3);\n",
    "b.from_Array([2,0,10]);\n",
    "print(\"b:\",b)\n",
    "x0 = vec(3);\n",
    "x0.from_Array([0,0,0]);\n",
    "print(\"x0:\",x0)\n",
    "x = vec(3);\n",
    "x.from_Array([1,1,2]);\n",
    "print(\"x:\",x)"
   ]
  },
  {
   "cell_type": "markdown",
   "metadata": {},
   "source": [
    "In the next line the method implementing the Jacobi function, wrapped from C++ using PyBind11, is invoked. In particular we observe that the Jacobi method converges to the correct solution."
   ]
  },
  {
   "cell_type": "code",
   "execution_count": 3,
   "metadata": {},
   "outputs": [
    {
     "data": {
      "text/plain": [
       "(1.000000,1.000000,2.000000)"
      ]
     },
     "execution_count": 3,
     "metadata": {},
     "output_type": "execute_result"
    }
   ],
   "source": [
    "Jacobi(A,b,x0)"
   ]
  },
  {
   "cell_type": "markdown",
   "metadata": {},
   "source": [
    "We can give a theoretical explanation to why the Jacobi method, converges. We study the Jacobi method written as a fixed-point iteration (it can also be written as a descent method, hopefully I'll be able to implement it soon.):\n",
    "$$\\vec{x}_{n+1} = B\\vec{x}_{n} + \\vec{c}$$"
   ]
  },
  {
   "cell_type": "markdown",
   "metadata": {},
   "source": [
    "where the iteration matrix is defined as $B = I - C^{-1}A$, $\\vec{c} = C^{-1}b$, the matrix $C$ is called the preconditioner. In the Jacobi method we choose $C = diag(A)$ and therefore we obtain that:\n",
    "$$B = -D^{-1}(L+R) = -\\begin{bmatrix}\\frac{1}{3} & 0 & 0 \\\\ 0 & -\\frac{1}{2} & 0 \\\\ 0 & 0 & \\frac{1}{5} \\end{bmatrix}\\begin{bmatrix}0 & 1 & -1 \\\\ 0 & 0 & 1 \\\\ 2 & -2 & 0 \\end{bmatrix}=\\begin{bmatrix}0 & -\\frac{1}{3} & \\frac{1}{3} \\\\ 0 & 0 & \\frac{1}{2} \\\\ -\\frac{2}{5} & \\frac{2}{5} & 0 \\end{bmatrix}$$"
   ]
  },
  {
   "cell_type": "markdown",
   "metadata": {},
   "source": [
    "Now observe that the fix-iteration theorem grants the convergence of the Jacobi method if $\\rho(B)<1$, there are different ways to prove this fact. First one can observe that the Gershgorin circles theorem grants us that:\n",
    "$$|\\lambda_1|\\leq \\frac{2}{5}< 1\\qquad\\qquad |\\lambda_2|\\leq \\frac{11}{15}< 1\\qquad\\qquad |\\lambda_3|\\leq \\frac{5}{6}< 1$$"
   ]
  },
  {
   "cell_type": "markdown",
   "metadata": {},
   "source": [
    "which grants us that $\\rho(B)<1$. An other approach would be an analytical study of the characteristic polynomial, given by:\n",
    "$$p(\\lambda) = -\\lambda^3-\\frac{\\lambda}{30}+\\frac{1}{15}$$"
   ]
  },
  {
   "cell_type": "markdown",
   "metadata": {},
   "source": [
    "Last we can compute numerically the eigenvalue of $B$, to obtain $\\lambda_{1,2,3} = \\{-0.22999765+i0.30336462,-0.22999765-i0.30336462,0.45999531\\}$, which yield $\\rho(B) = 0.45999531$. Knowing the exact value of $\\rho(B)$ we can compare the convergence of our implementation of the Jacobi method with the estimates provided by the fixed-iteration theorem:\n",
    "$$||\\vec{x}_n - x|| \\leq \\rho(B)^n||x_0-x||$$"
   ]
  },
  {
   "cell_type": "code",
   "execution_count": 4,
   "metadata": {},
   "outputs": [
    {
     "data": {
      "text/plain": [
       "Text(0.5,1,'Jacobi Method')"
      ]
     },
     "execution_count": 4,
     "metadata": {},
     "output_type": "execute_result"
    },
    {
     "data": {
      "image/png": "[encoded data removed]",
      "text/plain": [
       "<matplotlib.figure.Figure at 0x7f165e8c0748>"
      ]
     },
     "metadata": {
      "needs_background": "light"
     },
     "output_type": "display_data"
    }
   ],
   "source": [
    "JacobiErr = [];\n",
    "ErrEst = [];\n",
    "for i in range(1,21):\n",
    "    err = vec(3);\n",
    "    err = Jacobi(A,b,x0,i)-x;\n",
    "    JacobiErr = JacobiErr + [err.norm(2)];\n",
    "    ErrEst = ErrEst+[(0.45999531**i)*x.norm(2)]\n",
    "plt.semilogy(range(1,21),JacobiErr,\"*-\")\n",
    "plt.semilogy(range(1,21),ErrEst,\"--\")\n",
    "plt.legend([\"Jacobi Method\",\"Fixed-Iteration Error estimate\"])\n",
    "plt.title(\"Jacobi Method\")"
   ]
  },
  {
   "cell_type": "markdown",
   "metadata": {},
   "source": [
    "## Gauss-Seidel\n",
    "Once again we try to solve the linear system mentioned above, but this time we use the Gauss-Seidel method:\n",
    "$$A\\vec{x} = \\vec{b}$$"
   ]
  },
  {
   "cell_type": "markdown",
   "metadata": {},
   "source": [
    "$$\\begin{bmatrix}3 & 1 & 1 \\\\ 0 & -2 & 1 \\\\ 2 & -2 & 5\\end{bmatrix}\\vec{x}= \\begin{bmatrix}2\\\\0\\\\10 \\end{bmatrix}$$"
   ]
  },
  {
   "cell_type": "markdown",
   "metadata": {},
   "source": [
    "In the following line we define the the matrix $A$ and the vectors $\\vec{x0}$ and $\\vec{b}$, then we run the GauBSeidel function which wraps the C++ implementation of the Gauss-Seidel method."
   ]
  },
  {
   "cell_type": "code",
   "execution_count": 5,
   "metadata": {},
   "outputs": [],
   "source": [
    "A = spmat(3,3)\n",
    "A[1,1]=3;    A[1,2]=1;    A[1,3]=-1;\n",
    "A[2,1]=0;    A[2,2]=-2;    A[2,3]=1;\n",
    "A[3,1]=2;    A[3,2]=-2;    A[3,3]=5;\n",
    "b = vec(3);\n",
    "b.from_Array([2,0,10]);\n",
    "x0 = vec(3);\n",
    "x0.from_Array([0,0,0]);\n",
    "x = vec(3);\n",
    "x.from_Array([1,1,2]);"
   ]
  },
  {
   "cell_type": "code",
   "execution_count": 6,
   "metadata": {},
   "outputs": [
    {
     "data": {
      "text/plain": [
       "(1.000000,1.000000,2.000000)"
      ]
     },
     "execution_count": 6,
     "metadata": {},
     "output_type": "execute_result"
    }
   ],
   "source": [
    "GauBSeidel(A,b,x0)"
   ]
  },
  {
   "cell_type": "markdown",
   "metadata": {},
   "source": [
    "Like we did for the Jacobi method we'd like to mathematically that the method must converge, to do this we rewrite the Gauss-Seidel method as a fixed-point iteration:\n",
    "$$\\vec{x}_{n+1} = B\\vec{x}_{n} + \\vec{c}$$"
   ]
  },
  {
   "cell_type": "markdown",
   "metadata": {},
   "source": [
    "where the iteration matrix is defined as $B = I - C^{-1}A$, $\\vec{c} = C^{-1}b$, the matrix $C$ is called the preconditioner. In particular in the Gauss-Seidel method we choose $C=(D+L)^{-1}$, which imply:\n",
    "$$B = -(D+L)^{-1}R = -\\begin{bmatrix}\\frac{1}{3} & 0 & 0 \\\\ 0 & -\\frac{1}{2} & 0 \\\\ -\\frac{2}{5} & -\\frac{1}{5} & \\frac{1}{5} \\end{bmatrix}\\begin{bmatrix}0 & 1 & -1 \\\\ 0 & 0 & 1 \\\\ 0 & 0 & 0 \\end{bmatrix}=-\\begin{bmatrix}0 & -\\frac{1}{3} & -\\frac{1}{3} \\\\ 0 & 0 & -\\frac{1}{2} \\\\ 0 & -\\frac{2}{5} & -\\frac{1}{15} \\end{bmatrix}$$"
   ]
  },
  {
   "cell_type": "markdown",
   "metadata": {},
   "source": [
    "we once again use the Greshgorin circles theorem to obtain the following estimates:\n",
    "    $$|\\lambda_1|=0 \\qquad\\qquad |\\lambda_2|\\leq \\frac{7}{15}< 1\\qquad\\qquad |\\lambda_3+\\frac{1}{15}|\\leq \\frac{5}{6}\\Rightarrow|\\lambda_3|\\leq \\frac{1}{15}+\\frac{5}{6}=\\frac{27}{30}<1$$"
   ]
  },
  {
   "cell_type": "markdown",
   "metadata": {},
   "source": [
    "This imply that $\\rho(B)<1$ and therefore the fixed-point iterations theorem, grants us that the Gauss-Seidel method converges. Furthermore we can compute the eigenvalues of $B$, $\\{0,0.2270,0.2937\\}$, to use error estimates above provided, i.e.\n",
    "$$||\\vec{x}_n - x|| \\leq \\rho(B)^n||x_0-x||$$"
   ]
  },
  {
   "cell_type": "markdown",
   "metadata": {},
   "source": [
    "$$||\\vec{x}_n - x|| \\leq (0.2937)^n||x_0-x||$$"
   ]
  },
  {
   "cell_type": "code",
   "execution_count": 7,
   "metadata": {},
   "outputs": [
    {
     "data": {
      "text/plain": [
       "Text(0.5,1,'Gauss-Seidel Method')"
      ]
     },
     "execution_count": 7,
     "metadata": {},
     "output_type": "execute_result"
    },
    {
     "data": {
      "image/png": "[encoded data removed]",
      "text/plain": [
       "<matplotlib.figure.Figure at 0x7f165c5e5518>"
      ]
     },
     "metadata": {
      "needs_background": "light"
     },
     "output_type": "display_data"
    }
   ],
   "source": [
    "GSErr = [];\n",
    "ErrEst = [];\n",
    "for i in range(1,21):\n",
    "    err = vec(3);\n",
    "    err = GauBSeidel(A,b,x0,i)-x;\n",
    "    GSErr = GSErr + [err.norm(2)];\n",
    "    ErrEst = ErrEst+[(0.2937**i)*x.norm(2)]\n",
    "plt.semilogy(range(1,21),GSErr,\"*-\")\n",
    "plt.semilogy(range(1,21),ErrEst,\"--\")\n",
    "plt.legend([\"Gauss-Seidel Method\",\"Fixed-Iteration Error Estimate\"])\n",
    "plt.title(\"Gauss-Seidel Method\")"
   ]
  },
  {
   "cell_type": "markdown",
   "metadata": {},
   "source": [
    "## Successive Over Relaxation (SOR) Method\n",
    "We now apply the SOR method to solve the linear system $A\\vec{x}=\\vec{b}$ where:"
   ]
  },
  {
   "cell_type": "markdown",
   "metadata": {},
   "source": [
    "$$A=\\begin{bmatrix}4 & 1 & 0 & -1 & 0 & 0\\\\\n",
    "-1& 4 & -1 & 0 & -1 & 0\\\\\n",
    "0 & -1 & 4 & 0 & 0 & 1\\\\\n",
    "-1 & 0 & 0 & 4 & -1 & 0\\\\\n",
    "0 & -1 & 0 & -1 & 4& -1\\\\\n",
    "0 & 0 & -1 & 0 & -1 & 4\\\\\n",
    "\\end{bmatrix}\\qquad\\qquad \\vec{b}=\\begin{bmatrix}1\\\\0\\\\0\\\\0\\\\0\\\\0\\end{bmatrix}$$"
   ]
  },
  {
   "cell_type": "markdown",
   "metadata": {},
   "source": [
    "In the following line we define the the matrix $A$ and the vectors $\\vec{x0}$ and $\\vec{b}$, then we run the SOR function which wraps the C++ implementation of the successive relaxation method."
   ]
  },
  {
   "cell_type": "code",
   "execution_count": 8,
   "metadata": {},
   "outputs": [],
   "source": [
    "A = spmat(6,6)\n",
    "A[1,1]=4;  A[1,2]=-1; A[1,3]=0;  A[1,4]=-1; A[1,5]=0;  A[1,6]=0;\n",
    "A[2,1]=-1; A[2,2]=4;  A[2,3]=-1; A[2,4]=0;  A[2,5]=-1; A[2,6]=0;\n",
    "A[3,1]=0;  A[3,2]=-1; A[3,3]=4;  A[3,4]=0;  A[3,5]=0;  A[3,6]=-1;\n",
    "A[4,1]=-1; A[4,2]=0;  A[4,3]=0;  A[4,4]=4;  A[4,5]=-1; A[4,6]=0;\n",
    "A[5,1]=0;  A[5,2]=-1; A[5,3]=0;  A[5,4]=-1; A[5,5]=4;  A[5,6]=-1;\n",
    "A[6,1]=0;  A[6,2]=0;  A[6,3]=-1; A[6,4]=0;  A[6,5]=-1; A[6,6]=4;\n",
    "b = vec(6);\n",
    "b.from_Array([1,0,0,0,0,0]);\n",
    "x0 = vec(6);\n",
    "x0.from_Array([0,0,0,0,0,0]);\n",
    "x = vec(6);\n",
    "x.from_Array([0.294824,0.093168,0.028157,0.086128,0.049689,0.019462]);"
   ]
  },
  {
   "cell_type": "code",
   "execution_count": 9,
   "metadata": {},
   "outputs": [
    {
     "data": {
      "text/plain": [
       "(0.294824,0.093168,0.028157,0.086128,0.049689,0.019462)"
      ]
     },
     "execution_count": 9,
     "metadata": {},
     "output_type": "execute_result"
    }
   ],
   "source": [
    "SOR(A,b,x0,1.4)"
   ]
  },
  {
   "cell_type": "markdown",
   "metadata": {},
   "source": [
    "We now study the iteration matrix corresponding to the Jacobi method $B$, to find the optimal choice of $\\omega$, in particular we observe that:\n",
    "$$\\omega_{OPT} = 1+\\Bigg(\\frac{\\rho(B)}{1+\\sqrt{1-\\rho(B)^2}}\\Bigg)$$"
   ]
  },
  {
   "cell_type": "markdown",
   "metadata": {},
   "source": [
    "so we compute $D^{-1}(R+L)$:\n",
    "$$B=D^{-1}(R+L)=\\begin{bmatrix}0 & -\\frac{1}{4} & 0 & -\\frac{1}{4} & 0 & 0\\\\\n",
    "-\\frac{1}{4}& 0 & -\\frac{1}{4} & 0 & -\\frac{1}{4} & 0\\\\\n",
    "0 & -\\frac{1}{4} & 0 & 0 & 0 & -\\frac{1}{4}\\\\\n",
    "-\\frac{1}{4} & 0 & 0 & 0 & 0 & 0\\\\\n",
    "0 & -\\frac{1}{4} & 0 & -\\frac{1}{4} & 0& -\\frac{1}{4}\\\\\n",
    "0 & 0 & -\\frac{1}{4} & 0 & -\\frac{1}{4} & 0\\\\\n",
    "\\end{bmatrix}$$"
   ]
  },
  {
   "cell_type": "markdown",
   "metadata": {},
   "source": [
    "which has a single eigenvalue $\\lambda_{1,2,3,4}=\\frac{1}{4}$ and therefore $\\rho(B)=\\frac{1}{4}$. Plugging $\\rho(B)=\\frac{1}{4}$ in the equation for $\\omega_{OPT}$ we obtain that $\\omega_{OPT}=1.02048$"
   ]
  },
  {
   "cell_type": "code",
   "execution_count": 27,
   "metadata": {},
   "outputs": [
    {
     "name": "stdout",
     "output_type": "stream",
     "text": [
      "1 (-0.039704,-0.028082,-0.011552,-0.021042,-0.016479,-0.006711)\n",
      "2 (-0.011719,-0.009567,-0.003926,-0.006763,-0.005551,-0.002238)\n",
      "3 (-0.003926,-0.003224,-0.001323,-0.002279,-0.001871,-0.000727)\n",
      "4 (-0.001324,-0.001087,-0.000446,-0.000768,-0.000631,-0.000217)\n",
      "5 (-0.000446,-0.000367,-0.000150,-0.000259,-0.000212,-0.000046)\n"
     ]
    }
   ],
   "source": [
    "for i in range(1,21):\n",
    "    print(i,(SOR(A,b,x0,1.02048,i)-x).toString());\n",
    "    if(abs((SOR(A,b,x0,1.02048,i)-x).norm(0))<1e-4):\n",
    "        break;"
   ]
  },
  {
   "cell_type": "markdown",
   "metadata": {},
   "source": [
    "Running the above code we notice that at the after the 4-th iteration the SOR method with optimal $\\omega$ yield the correct solution after the 4-th  significant digit."
   ]
  },
  {
   "cell_type": "markdown",
   "metadata": {},
   "source": [
    "## Jacobi VS Gau$\\beta$-Seidel"
   ]
  },
  {
   "cell_type": "code",
   "execution_count": 11,
   "metadata": {},
   "outputs": [],
   "source": [
    "A = spmat(3,3)\n",
    "A[1,1]=3;    A[1,2]=1;    A[1,3]=-1;\n",
    "A[2,1]=0;    A[2,2]=-2;    A[2,3]=1;\n",
    "A[3,1]=2;    A[3,2]=-2;    A[3,3]=5;\n",
    "b = vec(3);\n",
    "b.from_Array([2,0,10]);\n",
    "x0 = vec(3);\n",
    "x0.from_Array([0,0,0]);\n",
    "x = vec(3);\n",
    "x.from_Array([1,1,2]);"
   ]
  },
  {
   "cell_type": "code",
   "execution_count": 12,
   "metadata": {},
   "outputs": [],
   "source": [
    "JacobiErr = [];\n",
    "for i in range(1,21):\n",
    "    err = vec(3);\n",
    "    err = Jacobi(A,b,x0,i)-x;\n",
    "    JacobiErr = JacobiErr + [err.norm(2)];"
   ]
  },
  {
   "cell_type": "code",
   "execution_count": 13,
   "metadata": {},
   "outputs": [],
   "source": [
    "GSErr = [];\n",
    "for i in range(1,21):\n",
    "    err = vec(3);\n",
    "    err = GauBSeidel(A,b,x0,i)-x;\n",
    "    GSErr = GSErr + [err.norm(2)];"
   ]
  },
  {
   "cell_type": "code",
   "execution_count": 14,
   "metadata": {},
   "outputs": [
    {
     "data": {
      "text/plain": [
       "Text(0.5,1,'Jacobi Method VS Gauss-Seidel Method')"
      ]
     },
     "execution_count": 14,
     "metadata": {},
     "output_type": "execute_result"
    },
    {
     "data": {
      "image/png": "[encoded data removed]",
      "text/plain": [
       "<matplotlib.figure.Figure at 0x7f165c4cbe80>"
      ]
     },
     "metadata": {
      "needs_background": "light"
     },
     "output_type": "display_data"
    }
   ],
   "source": [
    "plt.semilogy(range(1,21),JacobiErr,\"*-\")\n",
    "plt.semilogy(range(1,21),GSErr,\"*-\")\n",
    "plt.legend([\"Jacobi Method\",\"Gauss-Seidel Method\"])\n",
    "plt.title(\"Jacobi Method VS Gauss-Seidel Method\")"
   ]
  },
  {
   "cell_type": "markdown",
   "metadata": {},
   "source": [
    "## Relaxation Parameters"
   ]
  },
  {
   "cell_type": "code",
   "execution_count": 15,
   "metadata": {},
   "outputs": [],
   "source": [
    "A = spmat(6,6)\n",
    "A[1,1]=4;  A[1,2]=-1; A[1,3]=0;  A[1,4]=-1; A[1,5]=0;  A[1,6]=0;\n",
    "A[2,1]=-1; A[2,2]=4;  A[2,3]=-1; A[2,4]=0;  A[2,5]=-1; A[2,6]=0;\n",
    "A[3,1]=0;  A[3,2]=-1; A[3,3]=4;  A[3,4]=0;  A[3,5]=0;  A[3,6]=-1;\n",
    "A[4,1]=-1; A[4,2]=0;  A[4,3]=0;  A[4,4]=4;  A[4,5]=-1; A[4,6]=0;\n",
    "A[5,1]=0;  A[5,2]=-1; A[5,3]=0;  A[5,4]=-1; A[5,5]=4;  A[5,6]=-1;\n",
    "A[6,1]=0;  A[6,2]=0;  A[6,3]=-1; A[6,4]=0;  A[6,5]=-1; A[6,6]=4;\n",
    "b = vec(6);\n",
    "b.from_Array([1,0,0,0,0,0]);\n",
    "x0 = vec(6);\n",
    "x0.from_Array([0,0,0,0,0,0]);\n",
    "x = vec(6);\n",
    "x.from_Array([0.294824,0.093168,0.028157,0.086128,0.049689,0.01942]);"
   ]
  },
  {
   "cell_type": "code",
   "execution_count": 16,
   "metadata": {},
   "outputs": [
    {
     "data": {
      "image/png": "[encoded data removed]",
      "text/plain": [
       "<matplotlib.figure.Figure at 0x7f165c6ae630>"
      ]
     },
     "metadata": {
      "needs_background": "light"
     },
     "output_type": "display_data"
    }
   ],
   "source": [
    "Err1 = [x.norm(2)];\n",
    "Err2 = [x.norm(2)];\n",
    "Err3 = [x.norm(2)];\n",
    "Err4 = [x.norm(2)];\n",
    "ErrOpt = [x.norm(2)];\n",
    "for i in range(1,21):\n",
    "    err = vec(6);\n",
    "    err = SOR(A,b,x0,0.4,i)-x;\n",
    "    Err1 = Err1 + [err.norm(2)];\n",
    "    err = SOR(A,b,x0,0.8,i)-x;\n",
    "    Err2 = Err2 + [err.norm(2)];\n",
    "    err = SOR(A,b,x0,1.2,i)-x;\n",
    "    Err3 = Err3 + [err.norm(2)];\n",
    "    err = SOR(A,b,x0,1.6,i)-x;\n",
    "    Err4 = Err4 + [err.norm(2)];\n",
    "    err = SOR(A,b,x0,1.02048,i)-x;\n",
    "    ErrOpt = ErrOpt + [err.norm(2)];\n",
    "plt.semilogy(range(21),Err1,\"*-\")\n",
    "plt.semilogy(range(21),Err2,\"*-\")\n",
    "plt.semilogy(range(21),Err3,\"*-\")\n",
    "plt.semilogy(range(21),Err4,\"*-\")\n",
    "plt.semilogy(range(21),ErrOpt,\"*-\")\n",
    "plt.legend([\"$\\omega=0.4$\",\"$\\omega=0.8$\",\"$\\omega=1.02048$\",\"$\\omega=1.2$\",\"$\\omega=1.6$\"])\n",
    "plt.title(\"Succesive Over Relaxation\");"
   ]
  }
 ],
 "metadata": {
  "kernelspec": {
   "display_name": "Python 3",
   "language": "python",
   "name": "python3"
  },
  "language_info": {
   "codemirror_mode": {
    "name": "ipython",
    "version": 3
   },
   "file_extension": ".py",
   "mimetype": "text/x-python",
   "name": "python",
   "nbconvert_exporter": "python",
   "pygments_lexer": "ipython3",
   "version": "3.6.9"
  },
  "latex_envs": {
   "LaTeX_envs_menu_present": true,
   "autoclose": false,
   "autocomplete": true,
   "bibliofile": "biblio.bib",
   "cite_by": "apalike",
   "current_citInitial": 1,
   "eqLabelWithNumbers": true,
   "eqNumInitial": 1,
   "hotkeys": {
    "equation": "Ctrl-E",
    "itemize": "Ctrl-I"
   },
   "labels_anchors": false,
   "latex_user_defs": false,
   "report_style_numbering": false,
   "user_envs_cfg": false
  }
 },
 "nbformat": 4,
 "nbformat_minor": 2
}
