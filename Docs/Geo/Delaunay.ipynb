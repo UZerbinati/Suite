{
 "cells": [
  {
   "cell_type": "code",
   "execution_count": 1,
   "metadata": {
    "colab": {},
    "colab_type": "code",
    "id": "2jff8iILINHT"
   },
   "outputs": [],
   "source": [
    "import numpy as np"
   ]
  },
  {
   "cell_type": "code",
   "execution_count": 2,
   "metadata": {
    "colab": {},
    "colab_type": "code",
    "id": "GHqttfw0IgfI"
   },
   "outputs": [
    {
     "name": "stdout",
     "output_type": "stream",
     "text": [
      "seeds:\n",
      " [[98.41302626 13.15359524]\n",
      " [44.77178817 58.28480009]\n",
      " [74.84505412 54.95533945]\n",
      " [57.82563202 46.67033345]\n",
      " [70.79777132 77.58473059]\n",
      " [90.45651288  4.85719873]\n",
      " [54.66843686 68.38540063]\n",
      " [87.40251269 29.46312458]\n",
      " [11.05396101 27.64158321]\n",
      " [86.4504735  30.91649199]\n",
      " [ 5.40007937 88.13824304]\n",
      " [ 2.30819825 73.32256891]\n",
      " [91.71812747 16.33531992]\n",
      " [21.75563888  7.72395742]\n",
      " [95.85758    18.02575215]\n",
      " [ 4.49548738 87.73696004]\n",
      " [60.5653462  62.98513591]\n",
      " [89.48135162 16.59104087]\n",
      " [96.34729777 44.64816545]\n",
      " [19.06739922 69.75871319]\n",
      " [46.18358886 10.06816243]\n",
      " [64.43751407 81.33141124]\n",
      " [31.39808015 91.76657334]\n",
      " [69.2351704  55.49886169]]\n",
      "BBox Min: [2.30819825 4.85719873] Bbox Max:  [98.41302626 91.76657334]\n"
     ]
    }
   ],
   "source": [
    "numSeeds = 24\n",
    "radius = 100\n",
    "seeds = radius * np.random.random((numSeeds, 2))\n",
    "print(\"seeds:\\n\", seeds)\n",
    "print(\"BBox Min:\", np.amin(seeds, axis=0),\"Bbox Max: \", np.amax(seeds, axis=0))"
   ]
  },
  {
   "cell_type": "code",
   "execution_count": 3,
   "metadata": {
    "colab": {
     "base_uri": "https://localhost:8080/",
     "height": 34
    },
    "colab_type": "code",
    "id": "SmUfCgiVJGoA",
    "outputId": "25c92dc1-8ef4-4520-9a55-88ff8534564b"
   },
   "outputs": [
    {
     "name": "stdout",
     "output_type": "stream",
     "text": [
      "Center: [57.28900119 47.32681098]\n"
     ]
    }
   ],
   "source": [
    "center = np.mean(seeds, axis=0)\n",
    "print(\"Center:\", center)"
   ]
  },
  {
   "cell_type": "code",
   "execution_count": 4,
   "metadata": {
    "colab": {},
    "colab_type": "code",
    "id": "gH_67BDAJXBC"
   },
   "outputs": [],
   "source": [
    "center = np.asarray(center)\n",
    "# Create coordinates for the corners of the frame\n",
    "coords = [center+radius*np.array((-1, -1)),center+radius*np.array((+1, -1)),center+radius*np.array((+1, +1)),center+radius*np.array((-1, +1))]"
   ]
  },
  {
   "cell_type": "code",
   "execution_count": 5,
   "metadata": {
    "colab": {
     "base_uri": "https://localhost:8080/",
     "height": 282
    },
    "colab_type": "code",
    "id": "YPwURpndJwW3",
    "outputId": "f788966c-a64b-4aa6-c0f6-471bd3b2d367"
   },
   "outputs": [
    {
     "name": "stderr",
     "output_type": "stream",
     "text": [
      "No handles with labels found to put in legend.\n"
     ]
    },
    {
     "data": {
      "image/png": "[encoded data removed]",
      "text/plain": [
       "<Figure size 432x288 with 1 Axes>"
      ]
     },
     "metadata": {
      "needs_background": "light"
     },
     "output_type": "display_data"
    }
   ],
   "source": [
    "import matplotlib.pyplot as plt\n",
    "import matplotlib.tri\n",
    "import matplotlib.collections\n",
    "\n",
    "fig, ax = plt.subplots()\n",
    "ax.scatter(seeds[:,0], seeds[:,1], c=\"green\")\n",
    "ax.scatter(np.array(coords)[:,0], np.array(coords)[:,1], c=\"blue\")\n",
    "ax.scatter(center[0], center[1], c=\"red\")\n",
    "\n",
    "ax.legend()\n",
    "ax.grid(True)\n",
    "\n",
    "plt.show()"
   ]
  },
  {
   "cell_type": "code",
   "execution_count": 6,
   "metadata": {
    "colab": {},
    "colab_type": "code",
    "id": "Lh7om_icMvBz"
   },
   "outputs": [],
   "source": [
    "def circumcenter( tri):\n",
    "        \"\"\"Compute circumcenter and circumradius of a triangle in 2D.\n",
    "        Uses an extension of the method described here:\n",
    "        http://www.ics.uci.edu/~eppstein/junkyard/circumcenter.html\n",
    "        \"\"\"\n",
    "        pts = np.asarray([coords[v] for v in tri])\n",
    "        pts2 = np.dot(pts, pts.T)\n",
    "        A = np.bmat([[2 * pts2, [[1],\n",
    "                                 [1],\n",
    "                                 [1]]],\n",
    "                      [[[1, 1, 1, 0]]]])\n",
    "\n",
    "        b = np.hstack((np.sum(pts * pts, axis=1), [1]))\n",
    "        x = np.linalg.solve(A, b)\n",
    "        bary_coords = x[:-1]\n",
    "        center = np.dot(bary_coords, pts)\n",
    "\n",
    "        # radius = np.linalg.norm(pts[0] - center) # euclidean distance\n",
    "        radius = np.sum(np.square(pts[0] - center))  # squared distance\n",
    "        return (center, radius)"
   ]
  },
  {
   "cell_type": "code",
   "execution_count": 7,
   "metadata": {
    "colab": {},
    "colab_type": "code",
    "id": "Y7dM9ca-K5Xx"
   },
   "outputs": [],
   "source": [
    "# Create two dicts to store triangle neighbours and circumcircles.\n",
    "triangles = {}\n",
    "circles = {}\n",
    "\n",
    "# Create two CCW triangles for the frame\n",
    "T1 = (0, 1, 3)\n",
    "T2 = (2, 3, 1)\n",
    "triangles[T1] = [T2, None, None]\n",
    "triangles[T2] = [T1, None, None]\n"
   ]
  },
  {
   "cell_type": "code",
   "execution_count": 8,
   "metadata": {
    "colab": {},
    "colab_type": "code",
    "id": "6MeVjycyRkQw"
   },
   "outputs": [],
   "source": [
    "def inCircleFast( tri, p):\n",
    "        \"\"\"Check if point p is inside of precomputed circumcircle of tri.\n",
    "        \"\"\"\n",
    "        center, radius = circles[tri]\n",
    "        return np.sum(np.square(center - p)) <= radius"
   ]
  },
  {
   "cell_type": "code",
   "execution_count": 9,
   "metadata": {
    "colab": {},
    "colab_type": "code",
    "id": "zgiQ4tENNv42"
   },
   "outputs": [],
   "source": [
    "# Compute circumcenters and circumradius for each triangle\n",
    "for t in triangles:\n",
    "            circles[t] = circumcenter(t)"
   ]
  },
  {
   "cell_type": "code",
   "execution_count": 10,
   "metadata": {
    "colab": {},
    "colab_type": "code",
    "id": "WRAquzgiRzgM"
   },
   "outputs": [],
   "source": [
    "def addPoint(p):\n",
    "        \"\"\"Add a point to the current DT, and refine it using Bowyer-Watson.\n",
    "        \"\"\"\n",
    "        p = np.asarray(p)\n",
    "        idx = len(coords)\n",
    "        # print(\"coords[\", idx,\"] ->\",p)\n",
    "        coords.append(p)\n",
    "        # Search the triangle(s) whose circumcircle contains p\n",
    "        bad_triangles = []\n",
    "        for T in triangles:\n",
    "            # Choose one method: inCircleRobust(T, p) or inCircleFast(T, p)\n",
    "            if inCircleFast(T, p):\n",
    "                bad_triangles.append(T)\n",
    "\n",
    "        # Find the CCW boundary (star shape) of the bad triangles,\n",
    "        # expressed as a list of edges (point pairs) and the opposite\n",
    "        # triangle to each edge.\n",
    "        boundary = []\n",
    "        # Choose a \"random\" triangle and edge\n",
    "        T = bad_triangles[0]\n",
    "        edge = 0\n",
    "        # get the opposite triangle of this edge\n",
    "        while True:\n",
    "            # Check if edge of triangle T is on the boundary...\n",
    "            # if opposite triangle of this edge is external to the list\n",
    "            tri_op = triangles[T][edge]\n",
    "            if tri_op not in bad_triangles:\n",
    "                # Insert edge and external triangle into boundary list\n",
    "                boundary.append((T[(edge+1) % 3], T[(edge-1) % 3], tri_op))\n",
    "\n",
    "                # Move to next CCW edge in this triangle\n",
    "                edge = (edge + 1) % 3\n",
    "\n",
    "                # Check if boundary is a closed loop\n",
    "                if boundary[0][0] == boundary[-1][1]:\n",
    "                    break\n",
    "            else:\n",
    "                # Move to next CCW edge in opposite triangle\n",
    "                edge = (triangles[tri_op].index(T) + 1) % 3\n",
    "                T = tri_op\n",
    "\n",
    "        # Remove triangles too near of point p of our solution\n",
    "        for T in bad_triangles:\n",
    "            del triangles[T]\n",
    "            del circles[T]\n",
    "\n",
    "        # Retriangle the hole left by bad_triangles\n",
    "        new_triangles = []\n",
    "        for (e0, e1, tri_op) in boundary:\n",
    "            # Create a new triangle using point p and edge extremes\n",
    "            T = (idx, e0, e1)\n",
    "\n",
    "            # Store circumcenter and circumradius of the triangle\n",
    "            circles[T] = circumcenter(T)\n",
    "\n",
    "            # Set opposite triangle of the edge as neighbour of T\n",
    "            triangles[T] = [tri_op, None, None]\n",
    "\n",
    "            # Try to set T as neighbour of the opposite triangle\n",
    "            if tri_op:\n",
    "                # search the neighbour of tri_op that use edge (e1, e0)\n",
    "                for i, neigh in enumerate(triangles[tri_op]):\n",
    "                    if neigh:\n",
    "                        if e1 in neigh and e0 in neigh:\n",
    "                            # change link to use our new triangle\n",
    "                            triangles[tri_op][i] = T\n",
    "\n",
    "            # Add triangle to a temporal list\n",
    "            new_triangles.append(T)\n",
    "\n",
    "        # Link the new triangles each another\n",
    "        N = len(new_triangles)\n",
    "        for i, T in enumerate(new_triangles):\n",
    "            triangles[T][1] = new_triangles[(i+1) % N]   # next\n",
    "            triangles[T][2] = new_triangles[(i-1) % N]   # previous"
   ]
  },
  {
   "cell_type": "code",
   "execution_count": 11,
   "metadata": {
    "colab": {},
    "colab_type": "code",
    "id": "FWo6Rtrahcrz"
   },
   "outputs": [],
   "source": [
    "# Insert all seeds one by one\n",
    "for s in seeds:\n",
    "        addPoint(s)\n"
   ]
  },
  {
   "cell_type": "code",
   "execution_count": 12,
   "metadata": {
    "colab": {
     "base_uri": "https://localhost:8080/",
     "height": 301
    },
    "colab_type": "code",
    "id": "GobAPoyRjJoQ",
    "outputId": "18864540-d685-4a78-a1f7-555fbab18b63"
   },
   "outputs": [
    {
     "data": {
      "text/plain": [
       "[<matplotlib.lines.Line2D at 0x7fe015df3828>,\n",
       " <matplotlib.lines.Line2D at 0x7fe015df3908>]"
      ]
     },
     "execution_count": 12,
     "metadata": {},
     "output_type": "execute_result"
    },
    {
     "data": {
      "image/png": "[encoded data removed]",
      "text/plain": [
       "<Figure size 432x288 with 1 Axes>"
      ]
     },
     "metadata": {
      "needs_background": "light"
     },
     "output_type": "display_data"
    }
   ],
   "source": [
    "\n",
    "# Create a plot with matplotlib.pyplot\n",
    "fig, ax = plt.subplots()\n",
    "ax.margins(0.1)\n",
    "ax.set_aspect('equal')\n",
    "plt.axis([-1, radius+1, -1, radius+1])\n",
    "\n",
    "# Plot our Delaunay triangulation (plot in blue)\n",
    "cx, cy = zip(*seeds)\n",
    "dt_tris = [(a-4, b-4, c-4) for (a, b, c) in triangles if a > 3 and b > 3 and c > 3]\n",
    "ax.triplot(matplotlib.tri.Triangulation(cx, cy, dt_tris), 'bo--')"
   ]
  }
 ],
 "metadata": {
  "colab": {
   "name": "Delaunay triangulation.ipynb",
   "provenance": []
  },
  "kernelspec": {
   "display_name": "Python 3",
   "language": "python",
   "name": "python3"
  },
  "language_info": {
   "codemirror_mode": {
    "name": "ipython",
    "version": 3
   },
   "file_extension": ".py",
   "mimetype": "text/x-python",
   "name": "python",
   "nbconvert_exporter": "python",
   "pygments_lexer": "ipython3",
   "version": "3.6.9"
  },
  "latex_envs": {
   "LaTeX_envs_menu_present": true,
   "autoclose": false,
   "autocomplete": true,
   "bibliofile": "biblio.bib",
   "cite_by": "apalike",
   "current_citInitial": 1,
   "eqLabelWithNumbers": true,
   "eqNumInitial": 1,
   "hotkeys": {
    "equation": "Ctrl-E",
    "itemize": "Ctrl-I"
   },
   "labels_anchors": false,
   "latex_user_defs": false,
   "report_style_numbering": false,
   "user_envs_cfg": false
  }
 },
 "nbformat": 4,
 "nbformat_minor": 1
}
