{
 "cells": [
  {
   "cell_type": "markdown",
   "metadata": {},
   "source": [
    "## Finite Difference For Elliptic Problems\n"
   ]
  },
  {
   "cell_type": "markdown",
   "metadata": {},
   "source": [
    "### Example 1"
   ]
  },
  {
   "cell_type": "markdown",
   "metadata": {},
   "source": [
    "Here we show how to solve the following elliptic ordinary differential equation:\n",
    "$$\\begin{cases}u'' = 0\\\\u(0)=0\\;\\;u(2)=2\\end{cases}$$"
   ]
  },
  {
   "cell_type": "markdown",
   "metadata": {},
   "source": [
    "using a finite difference scheme."
   ]
  },
  {
   "cell_type": "code",
   "execution_count": 42,
   "metadata": {},
   "outputs": [],
   "source": [
    "import sys\n",
    "sys.path.append('../../Py/Build')\n",
    "from suite import *\n",
    "sys.path.append('../../Py/GUI')\n",
    "from suiteGUI import *\n",
    "from math import exp\n",
    "import numpy as np\n",
    "from scipy.linalg import solve\n",
    "def spmat2npmat(M):\n",
    "    Mnp = np.eye(M.Height())\n",
    "    for i in range(0,M.Width()):\n",
    "        for j in range(0,M.Height()):\n",
    "            Mnp[i,j]=M[i+1,j+1]\n",
    "    return Mnp"
   ]
  },
  {
   "cell_type": "markdown",
   "metadata": {},
   "source": [
    "We first define the geometry of the problem and create a mesh of uniform size 0.01,"
   ]
  },
  {
   "cell_type": "code",
   "execution_count": 2,
   "metadata": {},
   "outputs": [],
   "source": [
    "I = line(0.0,2.0)\n",
    "mesh = Mesh(1);\n",
    "mesh.UniformMesh(I,0.4)"
   ]
  },
  {
   "cell_type": "code",
   "execution_count": 3,
   "metadata": {},
   "outputs": [
    {
     "data": {
      "text/plain": [
       "|1D Mesh|\n",
       "Mesh made by 5.\n",
       "0. [0.000000,0.400000]\n",
       "1. [0.400000,0.800000]\n",
       "2. [0.800000,1.200000]\n",
       "3. [1.200000,1.600000]\n",
       "4. [1.600000,2.000000]"
      ]
     },
     "execution_count": 3,
     "metadata": {},
     "output_type": "execute_result"
    }
   ],
   "source": [
    "mesh"
   ]
  },
  {
   "cell_type": "code",
   "execution_count": 4,
   "metadata": {},
   "outputs": [
    {
     "data": {
      "text/plain": [
       "5"
      ]
     },
     "execution_count": 4,
     "metadata": {},
     "output_type": "execute_result"
    }
   ],
   "source": [
    "mesh.getElNumber()"
   ]
  },
  {
   "cell_type": "markdown",
   "metadata": {},
   "source": [
    "then define a mesh function that defines the boundary condition."
   ]
  },
  {
   "cell_type": "code",
   "execution_count": 5,
   "metadata": {},
   "outputs": [],
   "source": [
    "def nullf(P):\n",
    "    return [0];\n",
    "u0 = MeshFunction(mesh,1)\n",
    "u0.pushFunction(nullf)"
   ]
  },
  {
   "cell_type": "code",
   "execution_count": 6,
   "metadata": {},
   "outputs": [
    {
     "data": {
      "text/plain": [
       "(0.000000,0.000000,0.000000,0.000000,0.000000,0.000000)"
      ]
     },
     "execution_count": 6,
     "metadata": {},
     "output_type": "execute_result"
    }
   ],
   "source": [
    "u0_vec = u0.vec_export()\n",
    "u0_vec"
   ]
  },
  {
   "cell_type": "code",
   "execution_count": 7,
   "metadata": {},
   "outputs": [
    {
     "name": "stdout",
     "output_type": "stream",
     "text": [
      "(0.000000,0.000000,0.000000,0.000000,0.000000,2.000000)\n"
     ]
    },
    {
     "data": {
      "image/png": "[encoded data removed]",
      "text/plain": [
       "<Figure size 432x288 with 1 Axes>"
      ]
     },
     "metadata": {
      "needs_background": "light"
     },
     "output_type": "display_data"
    }
   ],
   "source": [
    "v0 = vec(u0_vec.len())\n",
    "v0[1]=0.0;\n",
    "v0[v0.len()]=2.0;\n",
    "print(v0)\n",
    "u0.vec_import(v0);\n",
    "Draw(u0,mesh,0)"
   ]
  },
  {
   "cell_type": "markdown",
   "metadata": {},
   "source": [
    "We now define the source term create some boundary condition with the mesh function previously generated:"
   ]
  },
  {
   "cell_type": "code",
   "execution_count": 8,
   "metadata": {},
   "outputs": [
    {
     "data": {
      "text/plain": [
       "(0.000000,0.000000,0.000000,0.000000,0.000000,0.000000)"
      ]
     },
     "execution_count": 8,
     "metadata": {},
     "output_type": "execute_result"
    }
   ],
   "source": [
    "f = MeshFunction(mesh,1)\n",
    "f.pushFunction(lambda p: [0])\n",
    "f_vec = f.vec_export()\n",
    "f_vec"
   ]
  },
  {
   "cell_type": "code",
   "execution_count": 9,
   "metadata": {},
   "outputs": [
    {
     "data": {
      "text/plain": [
       "(0.000000,0.000000,0.000000,0.000000,0.000000,2.000000)"
      ]
     },
     "execution_count": 9,
     "metadata": {},
     "output_type": "execute_result"
    }
   ],
   "source": [
    "bc = BoundaryCondition(\"DIRICHLET\",u0)\n",
    "fbc = bc.apply(f_vec);\n",
    "fbc"
   ]
  },
  {
   "cell_type": "markdown",
   "metadata": {},
   "source": [
    "Last we define the finite difference scheme on the given mesh, and solve the problem:\n",
    "$$A\\vec{u} = \\vec{f}$$"
   ]
  },
  {
   "cell_type": "markdown",
   "metadata": {},
   "source": [
    "using Gauss-Seidel method."
   ]
  },
  {
   "cell_type": "code",
   "execution_count": 10,
   "metadata": {},
   "outputs": [
    {
     "name": "stdout",
     "output_type": "stream",
     "text": [
      "[0,(1,1)]->1.000000\n",
      "[7,(2,2)]->0.000000\n",
      "[14,(3,3)]->0.000000\n",
      "[21,(4,4)]->0.000000\n",
      "[28,(5,5)]->0.000000\n",
      "[35,(6,6)]->1.000000\n",
      "\n"
     ]
    }
   ],
   "source": [
    "FD = FiniteDifference(mesh)\n",
    "print(FD.BoundaryOp(bc))"
   ]
  },
  {
   "cell_type": "code",
   "execution_count": 11,
   "metadata": {},
   "outputs": [
    {
     "data": {
      "text/plain": [
       "[0,(1,1)]->1.000000\n",
       "[6,(2,1)]->6.250000\n",
       "[7,(2,2)]->-12.500000\n",
       "[8,(2,3)]->6.250000\n",
       "[13,(3,2)]->6.250000\n",
       "[14,(3,3)]->-12.500000\n",
       "[15,(3,4)]->6.250000\n",
       "[20,(4,3)]->6.250000\n",
       "[21,(4,4)]->-12.500000\n",
       "[22,(4,5)]->6.250000\n",
       "[27,(5,4)]->6.250000\n",
       "[28,(5,5)]->-12.500000\n",
       "[29,(5,6)]->6.250000\n",
       "[35,(6,6)]->1.000000"
      ]
     },
     "execution_count": 11,
     "metadata": {},
     "output_type": "execute_result"
    }
   ],
   "source": [
    "M = FD.LaplaceOp(bc)+FD.BoundaryOp(bc);\n",
    "M"
   ]
  },
  {
   "cell_type": "code",
   "execution_count": 12,
   "metadata": {},
   "outputs": [
    {
     "name": "stdout",
     "output_type": "stream",
     "text": [
      "(-0.000000,0.400000,0.800000,1.200000,1.600000,2.000000)\n"
     ]
    }
   ],
   "source": [
    "u_vec = GauBSeidel(M,fbc,v0,2000)\n",
    "print(u_vec)\n",
    "u = MeshFunction(mesh,1)\n",
    "u.pushFunction(lambda p: [0])\n",
    "u.vec_import(u_vec)"
   ]
  },
  {
   "cell_type": "code",
   "execution_count": 13,
   "metadata": {},
   "outputs": [
    {
     "name": "stdout",
     "output_type": "stream",
     "text": [
      "(-0.000000,0.400000,0.800000,1.200000,1.600000,2.000000)\n"
     ]
    },
    {
     "data": {
      "text/plain": [
       "[0.0999999996394162]"
      ]
     },
     "execution_count": 13,
     "metadata": {},
     "output_type": "execute_result"
    }
   ],
   "source": [
    "print(u_vec)\n",
    "u.eval([0.1],1)"
   ]
  },
  {
   "cell_type": "code",
   "execution_count": 14,
   "metadata": {},
   "outputs": [
    {
     "data": {
      "image/png": "[encoded data removed]",
      "text/plain": [
       "<Figure size 432x288 with 1 Axes>"
      ]
     },
     "metadata": {
      "needs_background": "light"
     },
     "output_type": "display_data"
    }
   ],
   "source": [
    "Draw(u,mesh,1)"
   ]
  },
  {
   "cell_type": "code",
   "execution_count": 15,
   "metadata": {
    "scrolled": true
   },
   "outputs": [
    {
     "name": "stdout",
     "output_type": "stream",
     "text": [
      "(0.000000,0.400000,0.800000,1.200000,1.600000,2.000000)\n"
     ]
    },
    {
     "data": {
      "image/png": "[encoded data removed]",
      "text/plain": [
       "<Figure size 432x288 with 1 Axes>"
      ]
     },
     "metadata": {
      "needs_background": "light"
     },
     "output_type": "display_data"
    }
   ],
   "source": [
    "ue = MeshFunction(mesh,1);\n",
    "ue.pushFunction(lambda p: [p[0]]);\n",
    "print(ue.vec_export())\n",
    "ue.eval([1.9],1)\n",
    "Draw(ue,mesh,1)"
   ]
  },
  {
   "cell_type": "code",
   "execution_count": 47,
   "metadata": {},
   "outputs": [],
   "source": [
    "def solveBVP(h):\n",
    "    I = line(0.0,1.0)\n",
    "    mesh = Mesh(1);\n",
    "    mesh.UniformMesh(I,h)\n",
    "    u0 = MeshFunction(mesh,1)\n",
    "    u0.pushFunction(lambda p: [p[0]])\n",
    "    u0_vec = u0.vec_export()\n",
    "    v0 = vec(u0_vec.len())\n",
    "    v0[1]=0.0;\n",
    "    v0[v0.len()]=0.0;\n",
    "    u0.vec_import(v0);\n",
    "    f = MeshFunction(mesh,1)\n",
    "    f.pushFunction(lambda p: [-(np.pi**2)*np.sin(np.pi*p[0])])\n",
    "    f_vec = f.vec_export()\n",
    "    bc = BoundaryCondition(\"DIRICHLET\",u0)\n",
    "    fbc = bc.apply(f_vec);\n",
    "    FD = FiniteDifference(mesh)\n",
    "    M = FD.LaplaceOp(bc)+FD.BoundaryOp(bc);\n",
    "    uhnp = solve(spmat2npmat(M),np.array(fbc.to_Array()));\n",
    "    uh_vec = vec(u0_vec.len())\n",
    "    uh_vec.from_Array(uhnp)\n",
    "    u = MeshFunction(mesh,1)\n",
    "    u.pushFunction(lambda p: [np.sin(np.pi*p[0])])\n",
    "    u_vec = u.vec_export()\n",
    "    err = MeshFunction(mesh,1)\n",
    "    err.pushFunction(lambda p: [0])\n",
    "    err.vec_import(u_vec+(-1)*uh_vec)\n",
    "    err_vec = err.vec_export()\n",
    "    return err.norm(2);"
   ]
  },
  {
   "cell_type": "code",
   "execution_count": 51,
   "metadata": {},
   "outputs": [
    {
     "data": {
      "text/plain": [
       "[<matplotlib.lines.Line2D at 0x7f19f7883ef0>]"
      ]
     },
     "execution_count": 51,
     "metadata": {},
     "output_type": "execute_result"
    },
    {
     "data": {
      "image/png": "[encoded data removed]",
      "text/plain": [
       "<Figure size 432x288 with 1 Axes>"
      ]
     },
     "metadata": {
      "needs_background": "light"
     },
     "output_type": "display_data"
    }
   ],
   "source": [
    "E = []\n",
    "for h in [0.25,0.2,0.1,0.01,0.005,0.001]:\n",
    "     E = E+[solveBVP(h)];\n",
    "plt.loglog([0.25,0.2,0.1,0.01,0.005,0.001],E)"
   ]
  },
  {
   "cell_type": "markdown",
   "metadata": {},
   "source": [
    "### Example 2\n",
    "$$\\begin{cases}-u'' + u = 0\\\\u(-1)=1\\;\\;u(1)=1\\end{cases}$$"
   ]
  },
  {
   "cell_type": "code",
   "execution_count": 16,
   "metadata": {},
   "outputs": [],
   "source": [
    "I = line(-1.0,1.0)\n",
    "mesh = Mesh(1);\n",
    "mesh.UniformMesh(I,0.1)"
   ]
  },
  {
   "cell_type": "code",
   "execution_count": 17,
   "metadata": {},
   "outputs": [
    {
     "data": {
      "text/plain": [
       "|1D Mesh|\n",
       "Mesh made by 20.\n",
       "0. [-1.000000,-0.900000]\n",
       "1. [-0.900000,-0.800000]\n",
       "2. [-0.800000,-0.700000]\n",
       "3. [-0.700000,-0.600000]\n",
       "4. [-0.600000,-0.500000]\n",
       "5. [-0.500000,-0.400000]\n",
       "6. [-0.400000,-0.300000]\n",
       "7. [-0.300000,-0.200000]\n",
       "8. [-0.200000,-0.100000]\n",
       "9. [-0.100000,0.000000]\n",
       "10. [0.000000,0.100000]\n",
       "11. [0.100000,0.200000]\n",
       "12. [0.200000,0.300000]\n",
       "13. [0.300000,0.400000]\n",
       "14. [0.400000,0.500000]\n",
       "15. [0.500000,0.600000]\n",
       "16. [0.600000,0.700000]\n",
       "17. [0.700000,0.800000]\n",
       "18. [0.800000,0.900000]\n",
       "19. [0.900000,1.000000]"
      ]
     },
     "execution_count": 17,
     "metadata": {},
     "output_type": "execute_result"
    }
   ],
   "source": [
    "mesh"
   ]
  },
  {
   "cell_type": "code",
   "execution_count": 18,
   "metadata": {},
   "outputs": [],
   "source": [
    "u0 = MeshFunction(mesh,1)\n",
    "u0.pushFunction(lambda P: [0])\n",
    "u0_vec = u0.vec_export()"
   ]
  },
  {
   "cell_type": "code",
   "execution_count": 19,
   "metadata": {},
   "outputs": [
    {
     "name": "stdout",
     "output_type": "stream",
     "text": [
      "(1.000000,0.000000,0.000000,0.000000,0.000000,0.000000,0.000000,0.000000,0.000000,0.000000,0.000000,0.000000,0.000000,0.000000,0.000000,0.000000,0.000000,0.000000,0.000000,0.000000,1.000000)\n"
     ]
    },
    {
     "data": {
      "image/png": "[encoded data removed]",
      "text/plain": [
       "<Figure size 432x288 with 1 Axes>"
      ]
     },
     "metadata": {
      "needs_background": "light"
     },
     "output_type": "display_data"
    }
   ],
   "source": [
    "v0 = vec(u0_vec.len())\n",
    "v0[1]=1.0;\n",
    "v0[v0.len()]=1.0;\n",
    "print(v0)\n",
    "u0.vec_import(v0);\n",
    "Draw(u0,mesh,1)"
   ]
  },
  {
   "cell_type": "code",
   "execution_count": 20,
   "metadata": {},
   "outputs": [
    {
     "data": {
      "text/plain": [
       "(0.000000,0.000000,0.000000,0.000000,0.000000,0.000000,0.000000,0.000000,0.000000,0.000000,0.000000,0.000000,0.000000,0.000000,0.000000,0.000000,0.000000,0.000000,0.000000,0.000000,0.000000)"
      ]
     },
     "execution_count": 20,
     "metadata": {},
     "output_type": "execute_result"
    }
   ],
   "source": [
    "f = MeshFunction(mesh,1)\n",
    "f.pushFunction(lambda p: [0])\n",
    "f_vec = f.vec_export()\n",
    "f_vec"
   ]
  },
  {
   "cell_type": "code",
   "execution_count": 21,
   "metadata": {},
   "outputs": [
    {
     "data": {
      "text/plain": [
       "(1.000000,0.000000,0.000000,0.000000,0.000000,0.000000,0.000000,0.000000,0.000000,0.000000,0.000000,0.000000,0.000000,0.000000,0.000000,0.000000,0.000000,0.000000,0.000000,0.000000,1.000000)"
      ]
     },
     "execution_count": 21,
     "metadata": {},
     "output_type": "execute_result"
    }
   ],
   "source": [
    "bc = BoundaryCondition(\"DIRICHLET\",u0)\n",
    "fbc = bc.apply(f_vec);\n",
    "fbc"
   ]
  },
  {
   "cell_type": "code",
   "execution_count": 22,
   "metadata": {},
   "outputs": [],
   "source": [
    "FD = FiniteDifference(mesh)"
   ]
  },
  {
   "cell_type": "code",
   "execution_count": 23,
   "metadata": {},
   "outputs": [
    {
     "data": {
      "image/png": "[encoded data removed]",
      "text/plain": [
       "<Figure size 432x288 with 1 Axes>"
      ]
     },
     "metadata": {
      "needs_background": "light"
     },
     "output_type": "display_data"
    }
   ],
   "source": [
    "q = MeshFunction(mesh,1);\n",
    "q.pushFunction(lambda p: [1])\n",
    "Draw(q,mesh,1)"
   ]
  },
  {
   "cell_type": "code",
   "execution_count": 24,
   "metadata": {},
   "outputs": [],
   "source": [
    "K1 = FD.ReactionOp(bc,q);\n",
    "K2 = FD.LaplaceOp(bc);\n",
    "K = K1+(-1.00)*K2+FD.BoundaryOp(bc);"
   ]
  },
  {
   "cell_type": "code",
   "execution_count": 25,
   "metadata": {},
   "outputs": [
    {
     "name": "stdout",
     "output_type": "stream",
     "text": [
      "(0.000000,0.000000,0.000000,0.000000,0.000000,0.000000,0.000000,0.000000,0.000000,0.000000,0.000000,0.000000,0.000000,0.000000,0.000000,0.000000,0.000000,0.000000,0.000000,0.000000,0.000000)\n"
     ]
    },
    {
     "data": {
      "image/png": "[encoded data removed]",
      "text/plain": [
       "<Figure size 432x288 with 1 Axes>"
      ]
     },
     "metadata": {
      "needs_background": "light"
     },
     "output_type": "display_data"
    }
   ],
   "source": [
    "u = MeshFunction(mesh,1)\n",
    "u.pushFunction(lambda p: [0])\n",
    "u_vec = u.vec_export()\n",
    "print(u_vec)\n",
    "u_vec = Jacobi(K,fbc,fbc,2000)\n",
    "u.vec_import(u_vec)\n",
    "Draw(u,mesh,0)"
   ]
  },
  {
   "cell_type": "code",
   "execution_count": 26,
   "metadata": {},
   "outputs": [
    {
     "data": {
      "image/png": "[encoded data removed]",
      "text/plain": [
       "<Figure size 432x288 with 1 Axes>"
      ]
     },
     "metadata": {
      "needs_background": "light"
     },
     "output_type": "display_data"
    }
   ],
   "source": [
    "Draw(u,mesh,1)"
   ]
  },
  {
   "cell_type": "code",
   "execution_count": 27,
   "metadata": {},
   "outputs": [
    {
     "name": "stdout",
     "output_type": "stream",
     "text": [
      "(1.000000,0.928718,0.866730,0.813418,0.768246,0.730763,0.700594,0.677436,0.661059,0.651297,0.648054,0.651297,0.661059,0.677436,0.700594,0.730763,0.768246,0.813418,0.866730,0.928718,1.000000)\n"
     ]
    },
    {
     "data": {
      "image/png": "[encoded data removed]",
      "text/plain": [
       "<Figure size 432x288 with 1 Axes>"
      ]
     },
     "metadata": {
      "needs_background": "light"
     },
     "output_type": "display_data"
    }
   ],
   "source": [
    "ue = MeshFunction(mesh,1);\n",
    "ue.pushFunction(lambda p: [(1/(1+exp(2)))*(exp(1-p[0])+exp(p[0]+1))]);\n",
    "print(ue.vec_export())\n",
    "Draw(ue,mesh,1)"
   ]
  },
  {
   "cell_type": "markdown",
   "metadata": {},
   "source": [
    "### Example 3\n",
    "$$\\begin{cases}-u'' + u' = 0\\\\u(0)=0\\;\\;u(1)=1\\end{cases}$$"
   ]
  },
  {
   "cell_type": "code",
   "execution_count": 28,
   "metadata": {},
   "outputs": [],
   "source": [
    "I = line(0.0,1.0)\n",
    "mesh = Mesh(1);\n",
    "mesh.UniformMesh(I,0.05)"
   ]
  },
  {
   "cell_type": "code",
   "execution_count": 29,
   "metadata": {},
   "outputs": [],
   "source": [
    "u0 = MeshFunction(mesh,1)\n",
    "u0.pushFunction(lambda P: [0])\n",
    "u0_vec = u0.vec_export()"
   ]
  },
  {
   "cell_type": "code",
   "execution_count": 30,
   "metadata": {},
   "outputs": [
    {
     "name": "stdout",
     "output_type": "stream",
     "text": [
      "(0.000000,0.000000,0.000000,0.000000,0.000000,0.000000,0.000000,0.000000,0.000000,0.000000,0.000000,0.000000,0.000000,0.000000,0.000000,0.000000,0.000000,0.000000,0.000000,0.000000,1.000000)\n"
     ]
    },
    {
     "data": {
      "image/png": "[encoded data removed]",
      "text/plain": [
       "<Figure size 432x288 with 1 Axes>"
      ]
     },
     "metadata": {
      "needs_background": "light"
     },
     "output_type": "display_data"
    }
   ],
   "source": [
    "v0 = vec(u0_vec.len())\n",
    "v0[1]=0.0;\n",
    "v0[v0.len()]=1.0;\n",
    "print(v0)\n",
    "u0.vec_import(v0);\n",
    "Draw(u0,mesh,0)"
   ]
  },
  {
   "cell_type": "code",
   "execution_count": 31,
   "metadata": {},
   "outputs": [
    {
     "data": {
      "text/plain": [
       "(0.000000,0.000000,0.000000,0.000000,0.000000,0.000000,0.000000,0.000000,0.000000,0.000000,0.000000,0.000000,0.000000,0.000000,0.000000,0.000000,0.000000,0.000000,0.000000,0.000000,0.000000)"
      ]
     },
     "execution_count": 31,
     "metadata": {},
     "output_type": "execute_result"
    }
   ],
   "source": [
    "f = MeshFunction(mesh,1)\n",
    "f.pushFunction(lambda p: [0])\n",
    "f_vec = f.vec_export()\n",
    "f_vec"
   ]
  },
  {
   "cell_type": "code",
   "execution_count": 32,
   "metadata": {},
   "outputs": [
    {
     "data": {
      "text/plain": [
       "(0.000000,0.000000,0.000000,0.000000,0.000000,0.000000,0.000000,0.000000,0.000000,0.000000,0.000000,0.000000,0.000000,0.000000,0.000000,0.000000,0.000000,0.000000,0.000000,0.000000,1.000000)"
      ]
     },
     "execution_count": 32,
     "metadata": {},
     "output_type": "execute_result"
    }
   ],
   "source": [
    "bc = BoundaryCondition(\"DIRICHLET\",u0)\n",
    "fbc = bc.apply(f_vec);\n",
    "fbc"
   ]
  },
  {
   "cell_type": "code",
   "execution_count": 33,
   "metadata": {},
   "outputs": [],
   "source": [
    "FD = FiniteDifference(mesh)"
   ]
  },
  {
   "cell_type": "code",
   "execution_count": 34,
   "metadata": {},
   "outputs": [
    {
     "data": {
      "image/png": "[encoded data removed]",
      "text/plain": [
       "<Figure size 432x288 with 1 Axes>"
      ]
     },
     "metadata": {
      "needs_background": "light"
     },
     "output_type": "display_data"
    }
   ],
   "source": [
    "p = MeshFunction(mesh,1);\n",
    "p.pushFunction(lambda p: [1])\n",
    "Draw(p,mesh,1)"
   ]
  },
  {
   "cell_type": "code",
   "execution_count": 35,
   "metadata": {},
   "outputs": [],
   "source": [
    "K1 = FD.LaplaceOp(bc);\n",
    "K2 = FD.TransportOp(bc,p);\n",
    "K = (-1.0)*K1+K2+FD.BoundaryOp(bc);"
   ]
  },
  {
   "cell_type": "code",
   "execution_count": 36,
   "metadata": {
    "scrolled": true
   },
   "outputs": [
    {
     "data": {
      "image/png": "[encoded data removed]",
      "text/plain": [
       "<Figure size 432x288 with 1 Axes>"
      ]
     },
     "metadata": {
      "needs_background": "light"
     },
     "output_type": "display_data"
    }
   ],
   "source": [
    "u = MeshFunction(mesh,1)\n",
    "u.pushFunction(lambda p: [0])\n",
    "u_vec = u.vec_export()\n",
    "u_vec = GauBSeidel(K,fbc,fbc,10000)\n",
    "u.vec_import(u_vec)\n",
    "Draw(u,mesh,1)"
   ]
  },
  {
   "cell_type": "code",
   "execution_count": 37,
   "metadata": {},
   "outputs": [
    {
     "name": "stdout",
     "output_type": "stream",
     "text": [
      "(0.000000,0.029839,0.061207,0.094184,0.128851,0.165296,0.203610,0.243888,0.286231,0.330744,0.377541,0.426736,0.478454,0.532823,0.589980,0.650068,0.713236,0.779643,0.849455,0.922846,1.000000)\n"
     ]
    },
    {
     "data": {
      "image/png": "[encoded data removed]",
      "text/plain": [
       "<Figure size 432x288 with 1 Axes>"
      ]
     },
     "metadata": {
      "needs_background": "light"
     },
     "output_type": "display_data"
    }
   ],
   "source": [
    "ue = MeshFunction(mesh,1);\n",
    "ue.pushFunction(lambda p: [(1/(exp(1)-1))*(exp(p[0])-1)]);\n",
    "print(ue.vec_export())\n",
    "Draw(ue,mesh,1)"
   ]
  },
  {
   "cell_type": "code",
   "execution_count": 38,
   "metadata": {},
   "outputs": [
    {
     "data": {
      "text/plain": [
       "8.13488056136852e-05"
      ]
     },
     "execution_count": 38,
     "metadata": {},
     "output_type": "execute_result"
    }
   ],
   "source": [
    "u_vec = u.vec_export()\n",
    "ue_vec = ue.vec_export()\n",
    "err = u_vec+(-1)*ue_vec;\n",
    "err.norm(2)"
   ]
  },
  {
   "cell_type": "markdown",
   "metadata": {},
   "source": [
    "### Example - High order Finite Difference"
   ]
  },
  {
   "cell_type": "code",
   "execution_count": 52,
   "metadata": {},
   "outputs": [
    {
     "name": "stdout",
     "output_type": "stream",
     "text": [
      "0.052214582340229035\n",
      "Error norm 2:  0.011675535552951217  Error norm inf: 0.012074529043739402\n"
     ]
    },
    {
     "data": {
      "image/png": "[encoded data removed]",
      "text/plain": [
       "<Figure size 432x288 with 1 Axes>"
      ]
     },
     "metadata": {
      "needs_background": "light"
     },
     "output_type": "display_data"
    }
   ],
   "source": [
    "I = line(0.0,1.0)\n",
    "h=0.05\n",
    "mesh = Mesh(1);\n",
    "mesh.UniformMesh(I,h)\n",
    "u0 = MeshFunction(mesh,1)\n",
    "u0.pushFunction(lambda p: [0*p[0]])\n",
    "u0_vec = u0.vec_export()\n",
    "v0 = vec(u0_vec.len())\n",
    "v0[1]=0.0;\n",
    "v0[v0.len()]=0.0;\n",
    "u0.vec_import(v0)\n",
    "bc = BoundaryCondition(\"DIRICHLET\",u0)\n",
    "HFD = HOFiniteDifference(mesh,3)\n",
    "M=HFD.LaplaceOp(bc)+HFD.BoundaryOp(bc)\n",
    "f = MeshFunction(mesh,1)\n",
    "f.pushFunction(lambda p: [-(np.pi**2)*np.sin(np.pi*p[0])])\n",
    "f_vec = f.vec_export()\n",
    "fbc = bc.HOApply(f_vec,[(12*h**2)*np.sin(np.pi*(-2*h)),(12*h**2)*np.sin(np.pi*(1.0+2*h))])\n",
    "uhnp = solve(spmat2npmat(M),np.array(fbc.to_Array()));\n",
    "uh = MeshFunction(mesh,1)\n",
    "uh.pushFunction(lambda p: [0])\n",
    "uh_vec = uh.vec_export();\n",
    "uh_vec.from_Array(list(uhnp))\n",
    "uh.vec_import(uh_vec)\n",
    "u = MeshFunction(mesh,1)\n",
    "u.pushFunction(lambda p: [np.sin(np.pi*p[0])])\n",
    "u_vec=u.vec_export()\n",
    "Draw(uh,mesh,1,'-')\n",
    "plt.plot(np.linspace(0,1,100),[np.sin(np.pi*x) for x in np.linspace(0,1,100)],'--')\n",
    "err = MeshFunction(mesh,1)\n",
    "err.pushFunction(lambda p: [0*p[0]])\n",
    "err.vec_import((uh_vec+(-1)*u_vec))\n",
    "print((uh_vec+(-1)*u_vec).norm(2))\n",
    "print(\"Error norm 2: \",err.norm(2),\" Error norm inf:\",max([abs(e) for e in (uh_vec-u_vec).to_Array()[1:-1]]))"
   ]
  }
 ],
 "metadata": {
  "kernelspec": {
   "display_name": "Python 3",
   "language": "python",
   "name": "python3"
  },
  "language_info": {
   "codemirror_mode": {
    "name": "ipython",
    "version": 3
   },
   "file_extension": ".py",
   "mimetype": "text/x-python",
   "name": "python",
   "nbconvert_exporter": "python",
   "pygments_lexer": "ipython3",
   "version": "3.6.9"
  },
  "latex_envs": {
   "LaTeX_envs_menu_present": true,
   "autoclose": false,
   "autocomplete": true,
   "bibliofile": "biblio.bib",
   "cite_by": "apalike",
   "current_citInitial": 1,
   "eqLabelWithNumbers": true,
   "eqNumInitial": 1,
   "hotkeys": {
    "equation": "Ctrl-E",
    "itemize": "Ctrl-I"
   },
   "labels_anchors": false,
   "latex_user_defs": false,
   "report_style_numbering": false,
   "user_envs_cfg": false
  }
 },
 "nbformat": 4,
 "nbformat_minor": 2
}
