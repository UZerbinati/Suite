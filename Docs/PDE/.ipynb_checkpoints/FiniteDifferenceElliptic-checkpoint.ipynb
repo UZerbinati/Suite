{
 "cells": [
  {
   "cell_type": "markdown",
   "metadata": {},
   "source": [
    "## Finite Difference For Elliptic Problems\n"
   ]
  },
  {
   "cell_type": "markdown",
   "metadata": {},
   "source": [
    "### Example 1"
   ]
  },
  {
   "cell_type": "markdown",
   "metadata": {},
   "source": [
    "Here we show how to solve the following elliptic ordinary differential equation:\n",
    "$$\\begin{cases}u'' = 0\\\\u(0)=0\\;\\;u(2)=2\\end{cases}$$"
   ]
  },
  {
   "cell_type": "markdown",
   "metadata": {},
   "source": [
    "using a finite difference scheme."
   ]
  },
  {
   "cell_type": "code",
   "execution_count": 1,
   "metadata": {},
   "outputs": [],
   "source": [
    "import sys\n",
    "sys.path.append('../../Py/Build')\n",
    "from suite import *\n",
    "sys.path.append('../../Py/GUI')\n",
    "from suiteGUI import *\n",
    "from math import exp"
   ]
  },
  {
   "cell_type": "markdown",
   "metadata": {},
   "source": [
    "We first define the geometry of the problem and create a mesh of uniform size 0.01,"
   ]
  },
  {
   "cell_type": "code",
   "execution_count": 2,
   "metadata": {},
   "outputs": [],
   "source": [
    "I = line(0.0,2.0)\n",
    "mesh = Mesh(1);\n",
    "mesh.UniformMesh(I,0.4)"
   ]
  },
  {
   "cell_type": "code",
   "execution_count": 3,
   "metadata": {},
   "outputs": [
    {
     "data": {
      "text/plain": [
       "|1D Mesh|\n",
       "Mesh made by 5.\n",
       "0. [0.000000,0.400000]\n",
       "1. [0.400000,0.800000]\n",
       "2. [0.800000,1.200000]\n",
       "3. [1.200000,1.600000]\n",
       "4. [1.600000,2.000000]"
      ]
     },
     "execution_count": 3,
     "metadata": {},
     "output_type": "execute_result"
    }
   ],
   "source": [
    "mesh"
   ]
  },
  {
   "cell_type": "code",
   "execution_count": 4,
   "metadata": {},
   "outputs": [
    {
     "data": {
      "text/plain": [
       "5"
      ]
     },
     "execution_count": 4,
     "metadata": {},
     "output_type": "execute_result"
    }
   ],
   "source": [
    "mesh.getElNumber()"
   ]
  },
  {
   "cell_type": "markdown",
   "metadata": {},
   "source": [
    "then define a mesh function that defines the boundary condition."
   ]
  },
  {
   "cell_type": "code",
   "execution_count": 5,
   "metadata": {},
   "outputs": [],
   "source": [
    "def nullf(P):\n",
    "    return [0];\n",
    "u0 = MeshFunction(mesh,1)\n",
    "u0.pushFunction(nullf)"
   ]
  },
  {
   "cell_type": "code",
   "execution_count": 6,
   "metadata": {},
   "outputs": [
    {
     "data": {
      "text/plain": [
       "(0.000000,0.000000,0.000000,0.000000,0.000000,0.000000)"
      ]
     },
     "execution_count": 6,
     "metadata": {},
     "output_type": "execute_result"
    }
   ],
   "source": [
    "u0_vec = u0.vec_export()\n",
    "u0_vec"
   ]
  },
  {
   "cell_type": "code",
   "execution_count": 7,
   "metadata": {},
   "outputs": [
    {
     "name": "stdout",
     "output_type": "stream",
     "text": [
      "(0.000000,0.000000,0.000000,0.000000,0.000000,2.000000)\n"
     ]
    },
    {
     "data": {
      "image/png": "[encoded data removed]",
      "text/plain": [
       "<Figure size 432x288 with 1 Axes>"
      ]
     },
     "metadata": {
      "needs_background": "light"
     },
     "output_type": "display_data"
    }
   ],
   "source": [
    "v0 = vec(u0_vec.len())\n",
    "v0[1]=0.0;\n",
    "v0[v0.len()]=2.0;\n",
    "print(v0)\n",
    "u0.vec_import(v0);\n",
    "Draw(u0,mesh,0)"
   ]
  },
  {
   "cell_type": "markdown",
   "metadata": {},
   "source": [
    "We now define the source term create some boundary condition with the mesh function previously generated:"
   ]
  },
  {
   "cell_type": "code",
   "execution_count": 8,
   "metadata": {},
   "outputs": [
    {
     "data": {
      "text/plain": [
       "(0.000000,0.000000,0.000000,0.000000,0.000000,0.000000)"
      ]
     },
     "execution_count": 8,
     "metadata": {},
     "output_type": "execute_result"
    }
   ],
   "source": [
    "f = MeshFunction(mesh,1)\n",
    "f.pushFunction(lambda p: [0])\n",
    "f_vec = f.vec_export()\n",
    "f_vec"
   ]
  },
  {
   "cell_type": "code",
   "execution_count": 9,
   "metadata": {},
   "outputs": [
    {
     "data": {
      "text/plain": [
       "(0.000000,0.000000,0.000000,0.000000,0.000000,2.000000)"
      ]
     },
     "execution_count": 9,
     "metadata": {},
     "output_type": "execute_result"
    }
   ],
   "source": [
    "bc = BoundaryCondition(\"DIRICHLET\",u0)\n",
    "fbc = bc.apply(f_vec);\n",
    "fbc"
   ]
  },
  {
   "cell_type": "markdown",
   "metadata": {},
   "source": [
    "Last we define the finite difference scheme on the given mesh, and solve the problem:\n",
    "$$A\\vec{u} = \\vec{f}$$"
   ]
  },
  {
   "cell_type": "markdown",
   "metadata": {},
   "source": [
    "using Gauss-Seidel method."
   ]
  },
  {
   "cell_type": "code",
   "execution_count": 10,
   "metadata": {},
   "outputs": [
    {
     "name": "stdout",
     "output_type": "stream",
     "text": [
      "[0,(1,1)]->1.000000\n",
      "[7,(2,2)]->0.000000\n",
      "[14,(3,3)]->0.000000\n",
      "[21,(4,4)]->0.000000\n",
      "[28,(5,5)]->0.000000\n",
      "[35,(6,6)]->1.000000\n",
      "\n"
     ]
    }
   ],
   "source": [
    "FD = FiniteDifference(mesh)\n",
    "print(FD.BoundaryOp(bc))"
   ]
  },
  {
   "cell_type": "code",
   "execution_count": 11,
   "metadata": {},
   "outputs": [
    {
     "data": {
      "text/plain": [
       "[0,(1,1)]->1.000000\n",
       "[6,(2,1)]->6.250000\n",
       "[7,(2,2)]->-12.500000\n",
       "[8,(2,3)]->6.250000\n",
       "[13,(3,2)]->6.250000\n",
       "[14,(3,3)]->-12.500000\n",
       "[15,(3,4)]->6.250000\n",
       "[20,(4,3)]->6.250000\n",
       "[21,(4,4)]->-12.500000\n",
       "[22,(4,5)]->6.250000\n",
       "[27,(5,4)]->6.250000\n",
       "[28,(5,5)]->-12.500000\n",
       "[29,(5,6)]->6.250000\n",
       "[35,(6,6)]->1.000000"
      ]
     },
     "execution_count": 11,
     "metadata": {},
     "output_type": "execute_result"
    }
   ],
   "source": [
    "M = FD.LaplaceOp(bc)+FD.BoundaryOp(bc);\n",
    "M"
   ]
  },
  {
   "cell_type": "code",
   "execution_count": 12,
   "metadata": {},
   "outputs": [
    {
     "name": "stdout",
     "output_type": "stream",
     "text": [
      "(-0.000000,0.400000,0.800000,1.200000,1.600000,2.000000)\n"
     ]
    }
   ],
   "source": [
    "u_vec = GauBSeidel(M,fbc,v0,2000)\n",
    "print(u_vec)\n",
    "u = MeshFunction(mesh,1)\n",
    "u.pushFunction(lambda p: [0])\n",
    "u.vec_import(u_vec)"
   ]
  },
  {
   "cell_type": "code",
   "execution_count": 13,
   "metadata": {},
   "outputs": [
    {
     "name": "stdout",
     "output_type": "stream",
     "text": [
      "(-0.000000,0.400000,0.800000,1.200000,1.600000,2.000000)\n"
     ]
    },
    {
     "data": {
      "text/plain": [
       "[0.09999999999999995]"
      ]
     },
     "execution_count": 13,
     "metadata": {},
     "output_type": "execute_result"
    }
   ],
   "source": [
    "print(u_vec)\n",
    "u.eval([0.1],1)"
   ]
  },
  {
   "cell_type": "code",
   "execution_count": 14,
   "metadata": {},
   "outputs": [
    {
     "data": {
      "image/png": "[encoded data removed]",
      "text/plain": [
       "<Figure size 432x288 with 1 Axes>"
      ]
     },
     "metadata": {
      "needs_background": "light"
     },
     "output_type": "display_data"
    }
   ],
   "source": [
    "Draw(u,mesh,1)"
   ]
  },
  {
   "cell_type": "code",
   "execution_count": 15,
   "metadata": {},
   "outputs": [
    {
     "name": "stdout",
     "output_type": "stream",
     "text": [
      "(0.000000,0.400000,0.800000,1.200000,1.600000,2.000000)\n"
     ]
    },
    {
     "data": {
      "image/png": "[encoded data removed]",
      "text/plain": [
       "<Figure size 432x288 with 1 Axes>"
      ]
     },
     "metadata": {
      "needs_background": "light"
     },
     "output_type": "display_data"
    }
   ],
   "source": [
    "ue = MeshFunction(mesh,1);\n",
    "ue.pushFunction(lambda p: [p[0]]);\n",
    "print(ue.vec_export())\n",
    "ue.eval([1.9],1)\n",
    "Draw(ue,mesh,1)"
   ]
  },
  {
   "cell_type": "markdown",
   "metadata": {},
   "source": [
    "### Example 2\n",
    "$$\\begin{cases}-u'' + u = 0\\\\u(-1)=1\\;\\;u(1)=1\\end{cases}$$"
   ]
  },
  {
   "cell_type": "code",
   "execution_count": 16,
   "metadata": {},
   "outputs": [],
   "source": [
    "I = line(-1.0,1.0)\n",
    "mesh = Mesh(1);\n",
    "mesh.UniformMesh(I,0.1)"
   ]
  },
  {
   "cell_type": "code",
   "execution_count": 17,
   "metadata": {},
   "outputs": [
    {
     "data": {
      "text/plain": [
       "|1D Mesh|\n",
       "Mesh made by 20.\n",
       "0. [-1.000000,-0.900000]\n",
       "1. [-0.900000,-0.800000]\n",
       "2. [-0.800000,-0.700000]\n",
       "3. [-0.700000,-0.600000]\n",
       "4. [-0.600000,-0.500000]\n",
       "5. [-0.500000,-0.400000]\n",
       "6. [-0.400000,-0.300000]\n",
       "7. [-0.300000,-0.200000]\n",
       "8. [-0.200000,-0.100000]\n",
       "9. [-0.100000,0.000000]\n",
       "10. [0.000000,0.100000]\n",
       "11. [0.100000,0.200000]\n",
       "12. [0.200000,0.300000]\n",
       "13. [0.300000,0.400000]\n",
       "14. [0.400000,0.500000]\n",
       "15. [0.500000,0.600000]\n",
       "16. [0.600000,0.700000]\n",
       "17. [0.700000,0.800000]\n",
       "18. [0.800000,0.900000]\n",
       "19. [0.900000,1.000000]"
      ]
     },
     "execution_count": 17,
     "metadata": {},
     "output_type": "execute_result"
    }
   ],
   "source": [
    "mesh"
   ]
  },
  {
   "cell_type": "code",
   "execution_count": 18,
   "metadata": {},
   "outputs": [],
   "source": [
    "u0 = MeshFunction(mesh,1)\n",
    "u0.pushFunction(lambda P: [0])\n",
    "u0_vec = u0.vec_export()"
   ]
  },
  {
   "cell_type": "code",
   "execution_count": 19,
   "metadata": {},
   "outputs": [
    {
     "name": "stdout",
     "output_type": "stream",
     "text": [
      "(1.000000,0.000000,0.000000,0.000000,0.000000,0.000000,0.000000,0.000000,0.000000,0.000000,0.000000,0.000000,0.000000,0.000000,0.000000,0.000000,0.000000,0.000000,0.000000,0.000000,1.000000)\n"
     ]
    },
    {
     "data": {
      "image/png": "[encoded data removed]",
      "text/plain": [
       "<Figure size 432x288 with 1 Axes>"
      ]
     },
     "metadata": {
      "needs_background": "light"
     },
     "output_type": "display_data"
    }
   ],
   "source": [
    "v0 = vec(u0_vec.len())\n",
    "v0[1]=1.0;\n",
    "v0[v0.len()]=1.0;\n",
    "print(v0)\n",
    "u0.vec_import(v0);\n",
    "Draw(u0,mesh,1)"
   ]
  },
  {
   "cell_type": "code",
   "execution_count": 20,
   "metadata": {},
   "outputs": [
    {
     "data": {
      "text/plain": [
       "(0.000000,0.000000,0.000000,0.000000,0.000000,0.000000,0.000000,0.000000,0.000000,0.000000,0.000000,0.000000,0.000000,0.000000,0.000000,0.000000,0.000000,0.000000,0.000000,0.000000,0.000000)"
      ]
     },
     "execution_count": 20,
     "metadata": {},
     "output_type": "execute_result"
    }
   ],
   "source": [
    "f = MeshFunction(mesh,1)\n",
    "f.pushFunction(lambda p: [0])\n",
    "f_vec = f.vec_export()\n",
    "f_vec"
   ]
  },
  {
   "cell_type": "code",
   "execution_count": 21,
   "metadata": {},
   "outputs": [
    {
     "data": {
      "text/plain": [
       "(1.000000,0.000000,0.000000,0.000000,0.000000,0.000000,0.000000,0.000000,0.000000,0.000000,0.000000,0.000000,0.000000,0.000000,0.000000,0.000000,0.000000,0.000000,0.000000,0.000000,1.000000)"
      ]
     },
     "execution_count": 21,
     "metadata": {},
     "output_type": "execute_result"
    }
   ],
   "source": [
    "bc = BoundaryCondition(\"DIRICHLET\",u0)\n",
    "fbc = bc.apply(f_vec);\n",
    "fbc"
   ]
  },
  {
   "cell_type": "code",
   "execution_count": 22,
   "metadata": {},
   "outputs": [],
   "source": [
    "FD = FiniteDifference(mesh)"
   ]
  },
  {
   "cell_type": "code",
   "execution_count": 23,
   "metadata": {},
   "outputs": [
    {
     "data": {
      "image/png": "[encoded data removed]",
      "text/plain": [
       "<Figure size 432x288 with 1 Axes>"
      ]
     },
     "metadata": {
      "needs_background": "light"
     },
     "output_type": "display_data"
    }
   ],
   "source": [
    "q = MeshFunction(mesh,1);\n",
    "q.pushFunction(lambda p: [1])\n",
    "Draw(q,mesh,1)"
   ]
  },
  {
   "cell_type": "code",
   "execution_count": 24,
   "metadata": {},
   "outputs": [],
   "source": [
    "K1 = FD.ReactionOp(bc,q);\n",
    "K2 = FD.LaplaceOp(bc);\n",
    "K = K1+(-1.00)*K2+FD.BoundaryOp(bc);"
   ]
  },
  {
   "cell_type": "code",
   "execution_count": 25,
   "metadata": {},
   "outputs": [
    {
     "name": "stdout",
     "output_type": "stream",
     "text": [
      "(0.000000,0.000000,0.000000,0.000000,0.000000,0.000000,0.000000,0.000000,0.000000,0.000000,0.000000,0.000000,0.000000,0.000000,0.000000,0.000000,0.000000,0.000000,0.000000,0.000000,0.000000)\n"
     ]
    },
    {
     "data": {
      "image/png": "[encoded data removed]",
      "text/plain": [
       "<Figure size 432x288 with 1 Axes>"
      ]
     },
     "metadata": {
      "needs_background": "light"
     },
     "output_type": "display_data"
    }
   ],
   "source": [
    "u = MeshFunction(mesh,1)\n",
    "u.pushFunction(lambda p: [0])\n",
    "u_vec = u.vec_export()\n",
    "print(u_vec)\n",
    "u_vec = Jacobi(K,fbc,fbc,2000)\n",
    "u.vec_import(u_vec)\n",
    "Draw(u,mesh,0)"
   ]
  },
  {
   "cell_type": "code",
   "execution_count": 26,
   "metadata": {},
   "outputs": [
    {
     "data": {
      "image/png": "[encoded data removed]",
      "text/plain": [
       "<Figure size 432x288 with 1 Axes>"
      ]
     },
     "metadata": {
      "needs_background": "light"
     },
     "output_type": "display_data"
    }
   ],
   "source": [
    "Draw(u,mesh,1)"
   ]
  },
  {
   "cell_type": "code",
   "execution_count": 27,
   "metadata": {},
   "outputs": [
    {
     "name": "stdout",
     "output_type": "stream",
     "text": [
      "(1.000000,0.928718,0.866730,0.813418,0.768246,0.730763,0.700594,0.677436,0.661059,0.651297,0.648054,0.651297,0.661059,0.677436,0.700594,0.730763,0.768246,0.813418,0.866730,0.928718,1.000000)\n"
     ]
    },
    {
     "data": {
      "image/png": "[encoded data removed]",
      "text/plain": [
       "<Figure size 432x288 with 1 Axes>"
      ]
     },
     "metadata": {
      "needs_background": "light"
     },
     "output_type": "display_data"
    }
   ],
   "source": [
    "ue = MeshFunction(mesh,1);\n",
    "ue.pushFunction(lambda p: [(1/(1+exp(2)))*(exp(1-p[0])+exp(p[0]+1))]);\n",
    "print(ue.vec_export())\n",
    "Draw(ue,mesh,1)"
   ]
  },
  {
   "cell_type": "markdown",
   "metadata": {},
   "source": [
    "### Example 3\n",
    "$$\\begin{cases}-u'' + u' = 0\\\\u(0)=0\\;\\;u(1)=1\\end{cases}$$"
   ]
  },
  {
   "cell_type": "code",
   "execution_count": 58,
   "metadata": {},
   "outputs": [],
   "source": [
    "I = line(0.0,1.0)\n",
    "mesh = Mesh(1);\n",
    "mesh.UniformMesh(I,0.0125)"
   ]
  },
  {
   "cell_type": "code",
   "execution_count": 59,
   "metadata": {},
   "outputs": [
    {
     "data": {
      "text/plain": [
       "|1D Mesh|\n",
       "Mesh made by 80.\n",
       "0. [0.000000,0.012500]\n",
       "1. [0.012500,0.025000]\n",
       "2. [0.025000,0.037500]\n",
       "3. [0.037500,0.050000]\n",
       "4. [0.050000,0.062500]\n",
       "5. [0.062500,0.075000]\n",
       "6. [0.075000,0.087500]\n",
       "7. [0.087500,0.100000]\n",
       "8. [0.100000,0.112500]\n",
       "9. [0.112500,0.125000]\n",
       "10. [0.125000,0.137500]\n",
       "11. [0.137500,0.150000]\n",
       "12. [0.150000,0.162500]\n",
       "13. [0.162500,0.175000]\n",
       "14. [0.175000,0.187500]\n",
       "15. [0.187500,0.200000]\n",
       "16. [0.200000,0.212500]\n",
       "17. [0.212500,0.225000]\n",
       "18. [0.225000,0.237500]\n",
       "19. [0.237500,0.250000]\n",
       "20. [0.250000,0.262500]\n",
       "21. [0.262500,0.275000]\n",
       "22. [0.275000,0.287500]\n",
       "23. [0.287500,0.300000]\n",
       "24. [0.300000,0.312500]\n",
       "25. [0.312500,0.325000]\n",
       "26. [0.325000,0.337500]\n",
       "27. [0.337500,0.350000]\n",
       "28. [0.350000,0.362500]\n",
       "29. [0.362500,0.375000]\n",
       "30. [0.375000,0.387500]\n",
       "31. [0.387500,0.400000]\n",
       "32. [0.400000,0.412500]\n",
       "33. [0.412500,0.425000]\n",
       "34. [0.425000,0.437500]\n",
       "35. [0.437500,0.450000]\n",
       "36. [0.450000,0.462500]\n",
       "37. [0.462500,0.475000]\n",
       "38. [0.475000,0.487500]\n",
       "39. [0.487500,0.500000]\n",
       "40. [0.500000,0.512500]\n",
       "41. [0.512500,0.525000]\n",
       "42. [0.525000,0.537500]\n",
       "43. [0.537500,0.550000]\n",
       "44. [0.550000,0.562500]\n",
       "45. [0.562500,0.575000]\n",
       "46. [0.575000,0.587500]\n",
       "47. [0.587500,0.600000]\n",
       "48. [0.600000,0.612500]\n",
       "49. [0.612500,0.625000]\n",
       "50. [0.625000,0.637500]\n",
       "51. [0.637500,0.650000]\n",
       "52. [0.650000,0.662500]\n",
       "53. [0.662500,0.675000]\n",
       "54. [0.675000,0.687500]\n",
       "55. [0.687500,0.700000]\n",
       "56. [0.700000,0.712500]\n",
       "57. [0.712500,0.725000]\n",
       "58. [0.725000,0.737500]\n",
       "59. [0.737500,0.750000]\n",
       "60. [0.750000,0.762500]\n",
       "61. [0.762500,0.775000]\n",
       "62. [0.775000,0.787500]\n",
       "63. [0.787500,0.800000]\n",
       "64. [0.800000,0.812500]\n",
       "65. [0.812500,0.825000]\n",
       "66. [0.825000,0.837500]\n",
       "67. [0.837500,0.850000]\n",
       "68. [0.850000,0.862500]\n",
       "69. [0.862500,0.875000]\n",
       "70. [0.875000,0.887500]\n",
       "71. [0.887500,0.900000]\n",
       "72. [0.900000,0.912500]\n",
       "73. [0.912500,0.925000]\n",
       "74. [0.925000,0.937500]\n",
       "75. [0.937500,0.950000]\n",
       "76. [0.950000,0.962500]\n",
       "77. [0.962500,0.975000]\n",
       "78. [0.975000,0.987500]\n",
       "79. [0.987500,1.000000]"
      ]
     },
     "execution_count": 59,
     "metadata": {},
     "output_type": "execute_result"
    }
   ],
   "source": [
    "mesh"
   ]
  },
  {
   "cell_type": "code",
   "execution_count": 60,
   "metadata": {},
   "outputs": [],
   "source": [
    "u0 = MeshFunction(mesh,1)\n",
    "u0.pushFunction(lambda P: [0])\n",
    "u0_vec = u0.vec_export()"
   ]
  },
  {
   "cell_type": "code",
   "execution_count": 61,
   "metadata": {},
   "outputs": [
    {
     "name": "stdout",
     "output_type": "stream",
     "text": [
      "(0.000000,0.000000,0.000000,0.000000,0.000000,0.000000,0.000000,0.000000,0.000000,0.000000,0.000000,0.000000,0.000000,0.000000,0.000000,0.000000,0.000000,0.000000,0.000000,0.000000,0.000000,0.000000,0.000000,0.000000,0.000000,0.000000,0.000000,0.000000,0.000000,0.000000,0.000000,0.000000,0.000000,0.000000,0.000000,0.000000,0.000000,0.000000,0.000000,0.000000,0.000000,0.000000,0.000000,0.000000,0.000000,0.000000,0.000000,0.000000,0.000000,0.000000,0.000000,0.000000,0.000000,0.000000,0.000000,0.000000,0.000000,0.000000,0.000000,0.000000,0.000000,0.000000,0.000000,0.000000,0.000000,0.000000,0.000000,0.000000,0.000000,0.000000,0.000000,0.000000,0.000000,0.000000,0.000000,0.000000,0.000000,0.000000,0.000000,0.000000,1.000000)\n"
     ]
    },
    {
     "data": {
      "image/png": "[encoded data removed]",
      "text/plain": [
       "<Figure size 432x288 with 1 Axes>"
      ]
     },
     "metadata": {
      "needs_background": "light"
     },
     "output_type": "display_data"
    }
   ],
   "source": [
    "v0 = vec(u0_vec.len())\n",
    "v0[1]=0.0;\n",
    "v0[v0.len()]=1.0;\n",
    "print(v0)\n",
    "u0.vec_import(v0);\n",
    "Draw(u0,mesh,0)"
   ]
  },
  {
   "cell_type": "code",
   "execution_count": 62,
   "metadata": {},
   "outputs": [
    {
     "data": {
      "text/plain": [
       "(0.000000,0.000000,0.000000,0.000000,0.000000,0.000000,0.000000,0.000000,0.000000,0.000000,0.000000,0.000000,0.000000,0.000000,0.000000,0.000000,0.000000,0.000000,0.000000,0.000000,0.000000,0.000000,0.000000,0.000000,0.000000,0.000000,0.000000,0.000000,0.000000,0.000000,0.000000,0.000000,0.000000,0.000000,0.000000,0.000000,0.000000,0.000000,0.000000,0.000000,0.000000,0.000000,0.000000,0.000000,0.000000,0.000000,0.000000,0.000000,0.000000,0.000000,0.000000,0.000000,0.000000,0.000000,0.000000,0.000000,0.000000,0.000000,0.000000,0.000000,0.000000,0.000000,0.000000,0.000000,0.000000,0.000000,0.000000,0.000000,0.000000,0.000000,0.000000,0.000000,0.000000,0.000000,0.000000,0.000000,0.000000,0.000000,0.000000,0.000000,0.000000)"
      ]
     },
     "execution_count": 62,
     "metadata": {},
     "output_type": "execute_result"
    }
   ],
   "source": [
    "f = MeshFunction(mesh,1)\n",
    "f.pushFunction(lambda p: [0])\n",
    "f_vec = f.vec_export()\n",
    "f_vec"
   ]
  },
  {
   "cell_type": "code",
   "execution_count": 63,
   "metadata": {},
   "outputs": [
    {
     "data": {
      "text/plain": [
       "(0.000000,0.000000,0.000000,0.000000,0.000000,0.000000,0.000000,0.000000,0.000000,0.000000,0.000000,0.000000,0.000000,0.000000,0.000000,0.000000,0.000000,0.000000,0.000000,0.000000,0.000000,0.000000,0.000000,0.000000,0.000000,0.000000,0.000000,0.000000,0.000000,0.000000,0.000000,0.000000,0.000000,0.000000,0.000000,0.000000,0.000000,0.000000,0.000000,0.000000,0.000000,0.000000,0.000000,0.000000,0.000000,0.000000,0.000000,0.000000,0.000000,0.000000,0.000000,0.000000,0.000000,0.000000,0.000000,0.000000,0.000000,0.000000,0.000000,0.000000,0.000000,0.000000,0.000000,0.000000,0.000000,0.000000,0.000000,0.000000,0.000000,0.000000,0.000000,0.000000,0.000000,0.000000,0.000000,0.000000,0.000000,0.000000,0.000000,0.000000,1.000000)"
      ]
     },
     "execution_count": 63,
     "metadata": {},
     "output_type": "execute_result"
    }
   ],
   "source": [
    "bc = BoundaryCondition(\"DIRICHLET\",u0)\n",
    "fbc = bc.apply(f_vec);\n",
    "fbc"
   ]
  },
  {
   "cell_type": "code",
   "execution_count": 64,
   "metadata": {},
   "outputs": [],
   "source": [
    "FD = FiniteDifference(mesh)"
   ]
  },
  {
   "cell_type": "code",
   "execution_count": 65,
   "metadata": {},
   "outputs": [
    {
     "data": {
      "image/png": "[encoded data removed]",
      "text/plain": [
       "<Figure size 432x288 with 1 Axes>"
      ]
     },
     "metadata": {
      "needs_background": "light"
     },
     "output_type": "display_data"
    }
   ],
   "source": [
    "p = MeshFunction(mesh,1);\n",
    "p.pushFunction(lambda p: [1])\n",
    "Draw(p,mesh,1)"
   ]
  },
  {
   "cell_type": "code",
   "execution_count": 66,
   "metadata": {},
   "outputs": [],
   "source": [
    "K1 = FD.LaplaceOp(bc);\n",
    "K2 = FD.TransportOp(bc,p);\n",
    "K = (-1.0)*K1+K2+FD.BoundaryOp(bc);"
   ]
  },
  {
   "cell_type": "code",
   "execution_count": 67,
   "metadata": {
    "scrolled": true
   },
   "outputs": [
    {
     "data": {
      "image/png": "[encoded data removed]",
      "text/plain": [
       "<Figure size 432x288 with 1 Axes>"
      ]
     },
     "metadata": {
      "needs_background": "light"
     },
     "output_type": "display_data"
    }
   ],
   "source": [
    "u = MeshFunction(mesh,1)\n",
    "u.pushFunction(lambda p: [0])\n",
    "u_vec = u.vec_export()\n",
    "u_vec = GauBSeidel(K,fbc,fbc,4000)\n",
    "u.vec_import(u_vec)\n",
    "Draw(u,mesh,1)"
   ]
  },
  {
   "cell_type": "code",
   "execution_count": 68,
   "metadata": {},
   "outputs": [
    {
     "name": "stdout",
     "output_type": "stream",
     "text": [
      "(0.000000,0.007320,0.014733,0.022238,0.029839,0.037534,0.045327,0.053217,0.061207,0.069297,0.077489,0.085784,0.094184,0.102689,0.111301,0.120021,0.128851,0.137792,0.146846,0.156013,0.165296,0.174696,0.184213,0.193851,0.203610,0.213491,0.223497,0.233629,0.243888,0.254276,0.264794,0.275445,0.286231,0.297151,0.308209,0.319406,0.330744,0.342225,0.353850,0.365621,0.377541,0.389610,0.401831,0.414206,0.426736,0.439424,0.452272,0.465281,0.478454,0.491793,0.505299,0.518975,0.532823,0.546846,0.561045,0.575422,0.589980,0.604722,0.619649,0.634763,0.650068,0.665565,0.681257,0.697147,0.713236,0.729528,0.746025,0.762729,0.779643,0.796770,0.814113,0.831673,0.849455,0.867460,0.885692,0.904153,0.922846,0.941774,0.960941,0.980348,1.000000)\n"
     ]
    },
    {
     "data": {
      "image/png": "[encoded data removed]",
      "text/plain": [
       "<Figure size 432x288 with 1 Axes>"
      ]
     },
     "metadata": {
      "needs_background": "light"
     },
     "output_type": "display_data"
    }
   ],
   "source": [
    "ue = MeshFunction(mesh,1);\n",
    "ue.pushFunction(lambda p: [(1/(exp(1)-1))*(exp(p[0])-1)]);\n",
    "print(ue.vec_export())\n",
    "Draw(ue,mesh,1)"
   ]
  },
  {
   "cell_type": "code",
   "execution_count": 69,
   "metadata": {},
   "outputs": [
    {
     "data": {
      "text/plain": [
       "0.29052072392049777"
      ]
     },
     "execution_count": 69,
     "metadata": {},
     "output_type": "execute_result"
    }
   ],
   "source": [
    "u_vec = u.vec_export()\n",
    "ue_vec = ue.vec_export()\n",
    "err = u_vec+(-1)*ue_vec;\n",
    "err.norm(2)"
   ]
  }
 ],
 "metadata": {
  "kernelspec": {
   "display_name": "Python 3",
   "language": "python",
   "name": "python3"
  },
  "language_info": {
   "codemirror_mode": {
    "name": "ipython",
    "version": 3
   },
   "file_extension": ".py",
   "mimetype": "text/x-python",
   "name": "python",
   "nbconvert_exporter": "python",
   "pygments_lexer": "ipython3",
   "version": "3.6.9"
  },
  "latex_envs": {
   "LaTeX_envs_menu_present": true,
   "autoclose": false,
   "autocomplete": true,
   "bibliofile": "biblio.bib",
   "cite_by": "apalike",
   "current_citInitial": 1,
   "eqLabelWithNumbers": true,
   "eqNumInitial": 1,
   "hotkeys": {
    "equation": "Ctrl-E",
    "itemize": "Ctrl-I"
   },
   "labels_anchors": false,
   "latex_user_defs": false,
   "report_style_numbering": false,
   "user_envs_cfg": false
  }
 },
 "nbformat": 4,
 "nbformat_minor": 2
}
