{
 "cells": [
  {
   "cell_type": "markdown",
   "metadata": {},
   "source": [
    "## Finite Difference For Elliptic Problems"
   ]
  },
  {
   "cell_type": "markdown",
   "metadata": {},
   "source": [
    "Here we show how to solve the following elliptic ordinary differential equation:\n",
    "$$\\begin{cases}u'' = 0\\\\u(0)=0\\;\\;u(2)=2\\end{cases}$$"
   ]
  },
  {
   "cell_type": "markdown",
   "metadata": {},
   "source": [
    "using a finite difference scheme."
   ]
  },
  {
   "cell_type": "code",
   "execution_count": 1,
   "metadata": {},
   "outputs": [],
   "source": [
    "import sys\n",
    "sys.path.append('../../Py/Build')\n",
    "from suite import *\n",
    "sys.path.append('../../Py/GUI')\n",
    "from suiteGUI import *"
   ]
  },
  {
   "cell_type": "markdown",
   "metadata": {},
   "source": [
    "We first define the geometry of the problem and create a mesh of uniform size 0.01,"
   ]
  },
  {
   "cell_type": "code",
   "execution_count": 2,
   "metadata": {},
   "outputs": [],
   "source": [
    "I = line(0.0,2.0)\n",
    "mesh = Mesh(1);\n",
    "mesh.UniformMesh(I,0.4)"
   ]
  },
  {
   "cell_type": "code",
   "execution_count": 3,
   "metadata": {},
   "outputs": [
    {
     "data": {
      "text/plain": [
       "|1D Mesh|\n",
       "Mesh made by 5.\n",
       "0. [0.000000,0.400000]\n",
       "1. [0.400000,0.800000]\n",
       "2. [0.800000,1.200000]\n",
       "3. [1.200000,1.600000]\n",
       "4. [1.600000,2.000000]"
      ]
     },
     "execution_count": 3,
     "metadata": {},
     "output_type": "execute_result"
    }
   ],
   "source": [
    "mesh"
   ]
  },
  {
   "cell_type": "code",
   "execution_count": 4,
   "metadata": {},
   "outputs": [
    {
     "data": {
      "text/plain": [
       "5"
      ]
     },
     "execution_count": 4,
     "metadata": {},
     "output_type": "execute_result"
    }
   ],
   "source": [
    "mesh.getElNumber()"
   ]
  },
  {
   "cell_type": "markdown",
   "metadata": {},
   "source": [
    "then define a mesh function that defines the boundary condition."
   ]
  },
  {
   "cell_type": "code",
   "execution_count": 5,
   "metadata": {},
   "outputs": [],
   "source": [
    "def nullf(P):\n",
    "    return [0];\n",
    "u0 = MeshFunction(mesh,1)\n",
    "u0.pushFunction(nullf)"
   ]
  },
  {
   "cell_type": "code",
   "execution_count": 7,
   "metadata": {},
   "outputs": [
    {
     "data": {
      "text/plain": [
       "(0.000000,0.000000,0.000000,0.000000,0.000000,0.000000)"
      ]
     },
     "execution_count": 7,
     "metadata": {},
     "output_type": "execute_result"
    }
   ],
   "source": [
    "u0_vec = u0.vec_export()\n",
    "u0_vec"
   ]
  },
  {
   "cell_type": "code",
   "execution_count": 10,
   "metadata": {},
   "outputs": [
    {
     "name": "stdout",
     "output_type": "stream",
     "text": [
      "(0.000000,0.000000,0.000000,0.000000,0.000000,2.000000)\n"
     ]
    },
    {
     "data": {
      "image/png": "[encoded data removed]",
      "text/plain": [
       "<Figure size 432x288 with 1 Axes>"
      ]
     },
     "metadata": {
      "needs_background": "light"
     },
     "output_type": "display_data"
    }
   ],
   "source": [
    "v0 = vec(u0_vec.len())\n",
    "v0[1]=0.0;\n",
    "v0[v0.len()]=2.0;\n",
    "print(v0)\n",
    "u0.vec_import(v0);\n",
    "Draw(u0,mesh,0)"
   ]
  },
  {
   "cell_type": "markdown",
   "metadata": {},
   "source": [
    "We now define the source term create some boundary condition with the mesh function previously generated:"
   ]
  },
  {
   "cell_type": "code",
   "execution_count": 11,
   "metadata": {},
   "outputs": [
    {
     "data": {
      "text/plain": [
       "(0.000000,0.000000,0.000000,0.000000,0.000000,0.000000)"
      ]
     },
     "execution_count": 11,
     "metadata": {},
     "output_type": "execute_result"
    }
   ],
   "source": [
    "f = MeshFunction(mesh,1)\n",
    "f.pushFunction(lambda p: [0])\n",
    "f_vec = f.vec_export()\n",
    "f_vec"
   ]
  },
  {
   "cell_type": "code",
   "execution_count": 12,
   "metadata": {},
   "outputs": [
    {
     "data": {
      "text/plain": [
       "(0.000000,0.000000,0.000000,0.000000,0.000000,2.000000)"
      ]
     },
     "execution_count": 12,
     "metadata": {},
     "output_type": "execute_result"
    }
   ],
   "source": [
    "bc = BoundaryCondition(\"DIRICHLET\",u0)\n",
    "fbc = bc.apply(f_vec);\n",
    "fbc"
   ]
  },
  {
   "cell_type": "markdown",
   "metadata": {},
   "source": [
    "Last we define the finite difference scheme on the given mesh, and solve the problem:\n",
    "$$A\\vec{u} = \\vec{f}$$"
   ]
  },
  {
   "cell_type": "markdown",
   "metadata": {},
   "source": [
    "using Gauss-Seidel method."
   ]
  },
  {
   "cell_type": "code",
   "execution_count": 13,
   "metadata": {},
   "outputs": [],
   "source": [
    "FD = FiniteDifference(mesh)"
   ]
  },
  {
   "cell_type": "code",
   "execution_count": 14,
   "metadata": {},
   "outputs": [
    {
     "data": {
      "text/plain": [
       "[0,(1,1)]->1.000000\n",
       "[6,(2,1)]->6.250000\n",
       "[7,(2,2)]->-12.500000\n",
       "[8,(2,3)]->6.250000\n",
       "[13,(3,2)]->6.250000\n",
       "[14,(3,3)]->-12.500000\n",
       "[15,(3,4)]->6.250000\n",
       "[20,(4,3)]->6.250000\n",
       "[21,(4,4)]->-12.500000\n",
       "[22,(4,5)]->6.250000\n",
       "[27,(5,4)]->6.250000\n",
       "[28,(5,5)]->-12.500000\n",
       "[29,(5,6)]->6.250000\n",
       "[35,(6,6)]->1.000000"
      ]
     },
     "execution_count": 14,
     "metadata": {},
     "output_type": "execute_result"
    }
   ],
   "source": [
    "M = FD.LaplaceOp(bc);\n",
    "M"
   ]
  },
  {
   "cell_type": "code",
   "execution_count": 15,
   "metadata": {},
   "outputs": [],
   "source": [
    "u_vec = GauBSeidel(M,v0,v0,2000)\n",
    "u = MeshFunction(mesh,1)\n",
    "u.pushFunction(lambda p: [0])\n",
    "u.vec_import(u_vec)"
   ]
  },
  {
   "cell_type": "code",
   "execution_count": 16,
   "metadata": {},
   "outputs": [
    {
     "name": "stdout",
     "output_type": "stream",
     "text": [
      "(-0.000000,0.400000,0.800000,1.200000,1.600000,2.000000)\n"
     ]
    },
    {
     "data": {
      "text/plain": [
       "[0.09999999999999995]"
      ]
     },
     "execution_count": 16,
     "metadata": {},
     "output_type": "execute_result"
    }
   ],
   "source": [
    "print(u_vec)\n",
    "u.eval([0.1],1)"
   ]
  },
  {
   "cell_type": "code",
   "execution_count": 17,
   "metadata": {},
   "outputs": [
    {
     "data": {
      "image/png": "[encoded data removed]",
      "text/plain": [
       "<Figure size 432x288 with 1 Axes>"
      ]
     },
     "metadata": {
      "needs_background": "light"
     },
     "output_type": "display_data"
    }
   ],
   "source": [
    "Draw(u,mesh,1)"
   ]
  },
  {
   "cell_type": "code",
   "execution_count": 19,
   "metadata": {},
   "outputs": [
    {
     "name": "stdout",
     "output_type": "stream",
     "text": [
      "(0.000000,0.400000,0.800000,1.200000,1.600000,2.000000)\n"
     ]
    },
    {
     "data": {
      "image/png": "[encoded data removed]",
      "text/plain": [
       "<Figure size 432x288 with 1 Axes>"
      ]
     },
     "metadata": {
      "needs_background": "light"
     },
     "output_type": "display_data"
    }
   ],
   "source": [
    "ue = MeshFunction(mesh,1);\n",
    "ue.pushFunction(lambda p: [p[0]]);\n",
    "print(ue.vec_export())\n",
    "ue.eval([1.9],1)\n",
    "Draw(ue,mesh,1)"
   ]
  }
 ],
 "metadata": {
  "kernelspec": {
   "display_name": "Python 3",
   "language": "python",
   "name": "python3"
  },
  "language_info": {
   "codemirror_mode": {
    "name": "ipython",
    "version": 3
   },
   "file_extension": ".py",
   "mimetype": "text/x-python",
   "name": "python",
   "nbconvert_exporter": "python",
   "pygments_lexer": "ipython3",
   "version": "3.6.9"
  },
  "latex_envs": {
   "LaTeX_envs_menu_present": true,
   "autoclose": false,
   "autocomplete": true,
   "bibliofile": "biblio.bib",
   "cite_by": "apalike",
   "current_citInitial": 1,
   "eqLabelWithNumbers": true,
   "eqNumInitial": 1,
   "hotkeys": {
    "equation": "Ctrl-E",
    "itemize": "Ctrl-I"
   },
   "labels_anchors": false,
   "latex_user_defs": false,
   "report_style_numbering": false,
   "user_envs_cfg": false
  }
 },
 "nbformat": 4,
 "nbformat_minor": 2
}
