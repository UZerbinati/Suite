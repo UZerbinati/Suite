{
 "cells": [
  {
   "cell_type": "markdown",
   "metadata": {},
   "source": [
    "# Home Work 2: Gaussian Elimination"
   ]
  },
  {
   "cell_type": "markdown",
   "metadata": {},
   "source": [
    "In this notebook we show the class implemented to solve dense linear systems wrapped from C++ using PyBind11. In particular we will study six examples, the first three are provided in Lecture 6 of the Numerical Linear Algebra course at KAUST.\n",
    "The aim of the first three example would be to show th"
   ]
  },
  {
   "cell_type": "code",
   "execution_count": 3,
   "metadata": {},
   "outputs": [],
   "source": [
    "import sys\n",
    "sys.path.append('../../../Py/Build')\n",
    "from suite import *"
   ]
  },
  {
   "cell_type": "markdown",
   "metadata": {},
   "source": [
    "### Example 1"
   ]
  },
  {
   "cell_type": "code",
   "execution_count": 2,
   "metadata": {},
   "outputs": [
    {
     "data": {
      "text/plain": [
       "[3.000000,1.000000,6.000000]\n",
       "[2.000000,1.000000,3.000000]\n",
       "[1.000000,1.000000,1.000000]\n",
       "\n",
       "(2.000000,7.000000,4.000000)"
      ]
     },
     "execution_count": 2,
     "metadata": {},
     "output_type": "execute_result"
    }
   ],
   "source": [
    "A = mat(3,3);\n",
    "A.from_Array([3.0,1.0,6.0,   2.0,1.0,3.0,   1.0,1.0,1.0])\n",
    "b = vec(3);\n",
    "b[1] = 2.0; b[2] = 7.0; b[3]=4.0;\n",
    "L = LinSys(A,b);\n",
    "L"
   ]
  },
  {
   "cell_type": "code",
   "execution_count": 3,
   "metadata": {},
   "outputs": [
    {
     "data": {
      "text/plain": [
       "[3.000000,1.000000,6.000000]\n",
       "[0.000000,0.333333,-1.000000]\n",
       "[0.000000,0.000000,1.000000]\n",
       "\n",
       "(2.000000,5.666667,-8.000000)"
      ]
     },
     "execution_count": 3,
     "metadata": {},
     "output_type": "execute_result"
    }
   ],
   "source": [
    "L.Gauss(0)\n",
    "L"
   ]
  },
  {
   "cell_type": "code",
   "execution_count": 4,
   "metadata": {},
   "outputs": [
    {
     "data": {
      "text/plain": [
       "(19.000000,-7.000000,-8.000000)"
      ]
     },
     "execution_count": 4,
     "metadata": {},
     "output_type": "execute_result"
    }
   ],
   "source": [
    "L.BackSub()"
   ]
  },
  {
   "cell_type": "markdown",
   "metadata": {},
   "source": [
    "### Example 2"
   ]
  },
  {
   "cell_type": "code",
   "execution_count": 90,
   "metadata": {},
   "outputs": [
    {
     "data": {
      "text/plain": [
       "[0.000000,1.000000]\n",
       "[1.000000,1.000000]\n",
       "\n",
       "(1.000000,0.000000)"
      ]
     },
     "execution_count": 90,
     "metadata": {},
     "output_type": "execute_result"
    }
   ],
   "source": [
    "A = mat(2,2);\n",
    "A.from_Array([10**(-20),1.0,   1.0,1.0])\n",
    "b = vec(2);\n",
    "b[1] = 1.0; b[2] = 0.0;\n",
    "L = LinSys(A,b);\n",
    "L"
   ]
  },
  {
   "cell_type": "code",
   "execution_count": 84,
   "metadata": {},
   "outputs": [
    {
     "data": {
      "text/plain": [
       "[0.000000,1.000000]\n",
       "[0.000000,-100000000000000000000.000000]\n",
       "\n",
       "(1.000000,-100000000000000000000.000000)"
      ]
     },
     "execution_count": 84,
     "metadata": {},
     "output_type": "execute_result"
    }
   ],
   "source": [
    "L.Gauss(0)\n",
    "L"
   ]
  },
  {
   "cell_type": "code",
   "execution_count": 85,
   "metadata": {},
   "outputs": [
    {
     "data": {
      "text/plain": [
       "(0.000000,1.000000)"
      ]
     },
     "execution_count": 85,
     "metadata": {},
     "output_type": "execute_result"
    }
   ],
   "source": [
    "L.BackSub()"
   ]
  },
  {
   "cell_type": "code",
   "execution_count": 91,
   "metadata": {},
   "outputs": [
    {
     "data": {
      "text/plain": [
       "(-1.000000,1.000000)"
      ]
     },
     "execution_count": 91,
     "metadata": {},
     "output_type": "execute_result"
    }
   ],
   "source": [
    "A = mat(2,2);\n",
    "A.from_Array([10**(-20),1.0,   1.0,1.0])\n",
    "b = vec(2);\n",
    "b[1] = 1.0; b[2] = 0.0;\n",
    "L = LinSys(A,b);\n",
    "L.Gauss(2)\n",
    "L.BackSub()"
   ]
  },
  {
   "cell_type": "markdown",
   "metadata": {},
   "source": [
    "### Example 3"
   ]
  },
  {
   "cell_type": "code",
   "execution_count": 20,
   "metadata": {},
   "outputs": [
    {
     "data": {
      "text/plain": [
       "[2.000000,20000000000.000000]\n",
       "[1.000000,1.000000]\n",
       "\n",
       "(20000000000.000000,2.000000)"
      ]
     },
     "execution_count": 20,
     "metadata": {},
     "output_type": "execute_result"
    }
   ],
   "source": [
    "A = mat(2,2);\n",
    "A.from_Array([2.0,2.0*(10**10),   1.0,1.0])\n",
    "b = vec(2);\n",
    "b[1] = 2.0*(10**10); b[2] = 2.0;\n",
    "L = LinSys(A,b);\n",
    "L"
   ]
  },
  {
   "cell_type": "code",
   "execution_count": 21,
   "metadata": {},
   "outputs": [
    {
     "data": {
      "text/plain": [
       "[2.000000,20000000000.000000]\n",
       "[0.000000,-9999999999.000000]\n",
       "\n",
       "(20000000000.000000,-9999999998.000000)"
      ]
     },
     "execution_count": 21,
     "metadata": {},
     "output_type": "execute_result"
    }
   ],
   "source": [
    "L.Gauss(0)\n",
    "L"
   ]
  },
  {
   "cell_type": "code",
   "execution_count": 22,
   "metadata": {},
   "outputs": [
    {
     "data": {
      "text/plain": [
       "(1.000000,1.000000)"
      ]
     },
     "execution_count": 22,
     "metadata": {},
     "output_type": "execute_result"
    }
   ],
   "source": [
    "L.BackSub()"
   ]
  },
  {
   "cell_type": "code",
   "execution_count": 23,
   "metadata": {},
   "outputs": [
    {
     "data": {
      "text/plain": [
       "[200000000000000000000.000000,2.000000]\n",
       "[0.000000,1.000000]\n",
       "\n",
       "(200000000000000000000.000000,1.000000)"
      ]
     },
     "execution_count": 23,
     "metadata": {},
     "output_type": "execute_result"
    }
   ],
   "source": [
    "A = mat(2,2);\n",
    "A.from_Array([2.0,2.0*(10**20),   1.0,1.0])\n",
    "b = vec(2);\n",
    "b[1] = 2.0*(10**20); b[2] = 2.0;\n",
    "L = LinSys(A,b);\n",
    "L.Gauss(3)\n",
    "L"
   ]
  },
  {
   "cell_type": "code",
   "execution_count": 24,
   "metadata": {},
   "outputs": [
    {
     "data": {
      "text/plain": [
       "(1.000000,1.000000)"
      ]
     },
     "execution_count": 24,
     "metadata": {},
     "output_type": "execute_result"
    }
   ],
   "source": [
    "L.BackSub()"
   ]
  }
 ],
 "metadata": {
  "kernelspec": {
   "display_name": "Python 3",
   "language": "python",
   "name": "python3"
  },
  "language_info": {
   "codemirror_mode": {
    "name": "ipython",
    "version": 3
   },
   "file_extension": ".py",
   "mimetype": "text/x-python",
   "name": "python",
   "nbconvert_exporter": "python",
   "pygments_lexer": "ipython3",
   "version": "3.6.9"
  },
  "latex_envs": {
   "LaTeX_envs_menu_present": true,
   "autoclose": false,
   "autocomplete": true,
   "bibliofile": "biblio.bib",
   "cite_by": "apalike",
   "current_citInitial": 1,
   "eqLabelWithNumbers": true,
   "eqNumInitial": 1,
   "hotkeys": {
    "equation": "Ctrl-E",
    "itemize": "Ctrl-I"
   },
   "labels_anchors": false,
   "latex_user_defs": false,
   "report_style_numbering": false,
   "user_envs_cfg": false
  }
 },
 "nbformat": 4,
 "nbformat_minor": 2
}
