{
 "cells": [
  {
   "cell_type": "markdown",
   "metadata": {},
   "source": [
    "# Iterative Methods - Jacobi and Gau$\\beta$-Siedel"
   ]
  },
  {
   "cell_type": "code",
   "execution_count": 1,
   "metadata": {},
   "outputs": [
    {
     "name": "stdout",
     "output_type": "stream",
     "text": [
      "A\n",
      " [0,(1,1)]->3.000000\n",
      "[1,(1,2)]->1.000000\n",
      "[2,(1,3)]->-1.000000\n",
      "[3,(2,1)]->0.000000\n",
      "[4,(2,2)]->-2.000000\n",
      "[5,(2,3)]->1.000000\n",
      "[6,(3,1)]->2.000000\n",
      "[7,(3,2)]->-2.000000\n",
      "[8,(3,3)]->5.000000\n",
      "\n"
     ]
    }
   ],
   "source": [
    "import matplotlib.pyplot as plt\n",
    "import sys\n",
    "sys.path.append('../../../Py/Build')\n",
    "from suite import *\n",
    "\n",
    "A = spmat(3,3)\n",
    "A[1,1]=3;    A[1,2]=1;    A[1,3]=-1;\n",
    "A[2,1]=0;    A[2,2]=-2;    A[2,3]=1;\n",
    "A[3,1]=2;    A[3,2]=-2;    A[3,3]=5;\n",
    "print(\"A\\n\",A)"
   ]
  },
  {
   "cell_type": "code",
   "execution_count": 2,
   "metadata": {},
   "outputs": [
    {
     "name": "stdout",
     "output_type": "stream",
     "text": [
      "b: (2.000000,0.000000,10.000000)\n",
      "x0: (0.000000,0.000000,0.000000)\n",
      "x: (1.000000,1.000000,2.000000)\n"
     ]
    }
   ],
   "source": [
    "b = vec(3);\n",
    "b.from_Array([2,0,10]);\n",
    "print(\"b:\",b)\n",
    "x0 = vec(3);\n",
    "x0.from_Array([0,0,0]);\n",
    "print(\"x0:\",x0)\n",
    "x = vec(3);\n",
    "x.from_Array([1,1,2]);\n",
    "print(\"x:\",x)"
   ]
  },
  {
   "cell_type": "code",
   "execution_count": 3,
   "metadata": {},
   "outputs": [
    {
     "data": {
      "text/plain": [
       "(1.000000,1.000000,2.000000)"
      ]
     },
     "execution_count": 3,
     "metadata": {},
     "output_type": "execute_result"
    }
   ],
   "source": [
    "Jacobi(A,b,x0)"
   ]
  },
  {
   "cell_type": "code",
   "execution_count": 4,
   "metadata": {},
   "outputs": [],
   "source": [
    "A = spmat(3,3)\n",
    "A[1,1]=3;    A[1,2]=1;    A[1,3]=-1;\n",
    "A[2,1]=0;    A[2,2]=-2;    A[2,3]=1;\n",
    "A[3,1]=2;    A[3,2]=-2;    A[3,3]=5;\n",
    "b = vec(3);\n",
    "b.from_Array([2,0,10]);\n",
    "x0 = vec(3);\n",
    "x0.from_Array([0,0,0]);"
   ]
  },
  {
   "cell_type": "code",
   "execution_count": 5,
   "metadata": {},
   "outputs": [
    {
     "data": {
      "text/plain": [
       "(1.000000,1.000000,2.000000)"
      ]
     },
     "execution_count": 5,
     "metadata": {},
     "output_type": "execute_result"
    }
   ],
   "source": [
    "GauBSiedel(A,b,x0)"
   ]
  },
  {
   "cell_type": "markdown",
   "metadata": {},
   "source": [
    "__Jacobi VS Gau$\\beta$-Siedel__"
   ]
  },
  {
   "cell_type": "code",
   "execution_count": 6,
   "metadata": {},
   "outputs": [],
   "source": [
    "JacobiErr = [];\n",
    "for i in range(1,21):\n",
    "    err = vec(3);\n",
    "    err = Jacobi(A,b,x0,i)-x;\n",
    "    JacobiErr = JacobiErr + [err.norm(2)];"
   ]
  },
  {
   "cell_type": "code",
   "execution_count": 7,
   "metadata": {},
   "outputs": [],
   "source": [
    "GSErr = [];\n",
    "for i in range(1,21):\n",
    "    err = vec(3);\n",
    "    err = GauBSiedel(A,b,x0,i)-x;\n",
    "    GSErr = GSErr + [err.norm(2)];"
   ]
  },
  {
   "cell_type": "code",
   "execution_count": 8,
   "metadata": {},
   "outputs": [
    {
     "data": {
      "text/plain": [
       "Text(0.5,1,'Jacobi Method VS Gauss-Siedel Method')"
      ]
     },
     "execution_count": 8,
     "metadata": {},
     "output_type": "execute_result"
    },
    {
     "data": {
      "image/png": "[encoded data removed]",
      "text/plain": [
       "<matplotlib.figure.Figure at 0x7ff8e0022c50>"
      ]
     },
     "metadata": {
      "needs_background": "light"
     },
     "output_type": "display_data"
    }
   ],
   "source": [
    "plt.semilogy(range(1,21),JacobiErr,\"*-\")\n",
    "plt.semilogy(range(1,21),GSErr,\"*-\")\n",
    "plt.legend([\"Jacobi Method\",\"Gauss-Siedel Method\"])\n",
    "plt.title(\"Jacobi Method VS Gauss-Siedel Method\")"
   ]
  }
 ],
 "metadata": {
  "kernelspec": {
   "display_name": "Python 3",
   "language": "python",
   "name": "python3"
  },
  "language_info": {
   "codemirror_mode": {
    "name": "ipython",
    "version": 3
   },
   "file_extension": ".py",
   "mimetype": "text/x-python",
   "name": "python",
   "nbconvert_exporter": "python",
   "pygments_lexer": "ipython3",
   "version": "3.6.9"
  },
  "latex_envs": {
   "LaTeX_envs_menu_present": true,
   "autoclose": false,
   "autocomplete": true,
   "bibliofile": "biblio.bib",
   "cite_by": "apalike",
   "current_citInitial": 1,
   "eqLabelWithNumbers": true,
   "eqNumInitial": 1,
   "hotkeys": {
    "equation": "Ctrl-E",
    "itemize": "Ctrl-I"
   },
   "labels_anchors": false,
   "latex_user_defs": false,
   "report_style_numbering": false,
   "user_envs_cfg": false
  }
 },
 "nbformat": 4,
 "nbformat_minor": 2
}
