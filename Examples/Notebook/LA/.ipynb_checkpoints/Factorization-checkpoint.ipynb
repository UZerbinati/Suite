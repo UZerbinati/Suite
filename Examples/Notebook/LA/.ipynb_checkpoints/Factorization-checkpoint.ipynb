{
 "cells": [
  {
   "cell_type": "code",
   "execution_count": 1,
   "metadata": {},
   "outputs": [],
   "source": [
    "import sys\n",
    "sys.path.append('../../../Py/Build')\n",
    "from suite import *\n",
    "from random import *"
   ]
  },
  {
   "cell_type": "markdown",
   "metadata": {},
   "source": [
    "### Cholesky factorization\n",
    "We here use the Cholesky factorization implemented in the C++ library suite to create a function that solve a liner system by solving the upper and lower triangular linear system obtained from the Cholesky factorization."
   ]
  },
  {
   "cell_type": "code",
   "execution_count": 4,
   "metadata": {},
   "outputs": [
    {
     "name": "stdout",
     "output_type": "stream",
     "text": [
      "[1.000000,2.000000,1.000000]\n",
      "[2.000000,8.000000,4.000000]\n",
      "[1.000000,4.000000,11.000000]\n",
      "\n",
      "(1.000000,2.000000,3.000000)\n"
     ]
    }
   ],
   "source": [
    "A = mat(3,3)\n",
    "A.from_Array([1.0,2.0,1.0,  2.0,8.0,4.0,  1.0,4.0,11.0])\n",
    "print(A)\n",
    "b = vec(3)\n",
    "b.from_Array([1.0,2.0,3.0])\n",
    "print(b)"
   ]
  },
  {
   "cell_type": "markdown",
   "metadata": {},
   "source": [
    "We check that the matrix A is symmetric comparing it to A transpose."
   ]
  },
  {
   "cell_type": "code",
   "execution_count": 3,
   "metadata": {},
   "outputs": [
    {
     "name": "stdout",
     "output_type": "stream",
     "text": [
      "[1.000000,2.000000,1.000000]\n",
      "[2.000000,8.000000,4.000000]\n",
      "[1.000000,4.000000,11.000000]\n",
      "\n",
      "[1.000000,2.000000,1.000000]\n",
      "[2.000000,8.000000,4.000000]\n",
      "[1.000000,4.000000,11.000000]\n",
      "\n"
     ]
    }
   ],
   "source": [
    "print(A)\n",
    "print(A.T())"
   ]
  },
  {
   "cell_type": "markdown",
   "metadata": {},
   "source": [
    "The eigenvalue of A are 0.468, 5.462, 14.069 therefore the matrix is positive definite and we can perform Cholesky factorization."
   ]
  },
  {
   "cell_type": "code",
   "execution_count": 4,
   "metadata": {},
   "outputs": [],
   "source": [
    "def Solve(A,b):\n",
    "    \"\"\"\n",
    "    Ax=b\n",
    "    L(L^T)x=b\n",
    "    Ly=b\n",
    "    (L^T)x=y\n",
    "    \"\"\"\n",
    "    #Init vector to store solutions of the linear systems\n",
    "    y = vec(b.len())\n",
    "    x = vec(b.len())\n",
    "    LT = mat(b.len(),b.len())\n",
    "    #We perform Cholesky factorization\n",
    "    L = Cholesky(A)\n",
    "    LT = L.T()\n",
    "    #Init the linear system Ly=b\n",
    "    S1 = LinSys(L,b)\n",
    "    S1.setType(\"LOWER\")\n",
    "    #Solve linear system using forward sub\n",
    "    y=S1.ForwardSub()\n",
    "    #Init the linear system (L^T)x=y\n",
    "    S2 = LinSys(LT,y)\n",
    "    S2.setType(\"UPPER\")\n",
    "    #Solve linear system using backward sub\n",
    "    x = S2.BackSub()\n",
    "    #Freeing memory\n",
    "    LT.free()\n",
    "    L.free()\n",
    "    y.free()\n",
    "    return x;"
   ]
  },
  {
   "cell_type": "code",
   "execution_count": 5,
   "metadata": {},
   "outputs": [
    {
     "data": {
      "text/plain": [
       "(1.000000,-0.111111,0.222222)"
      ]
     },
     "execution_count": 5,
     "metadata": {},
     "output_type": "execute_result"
    }
   ],
   "source": [
    "Solve(A,b)"
   ]
  },
  {
   "cell_type": "markdown",
   "metadata": {},
   "source": [
    "### Gram-Schmidt\n",
    "We also implemented the classical Gram-Schmidt algorithm for QR decomposition to check computation made by hand suing Householder reflections."
   ]
  },
  {
   "cell_type": "code",
   "execution_count": 6,
   "metadata": {
    "scrolled": true
   },
   "outputs": [
    {
     "data": {
      "text/plain": [
       "[12.000000,-51.000000,4.000000]\n",
       "[6.000000,167.000000,-68.000000]\n",
       "[-4.000000,24.000000,-41.000000]"
      ]
     },
     "execution_count": 6,
     "metadata": {},
     "output_type": "execute_result"
    }
   ],
   "source": [
    "A = mat(3,3)\n",
    "A.from_Array([12.0,-51.0,4.0,  6.0,167.0,-68.0,  -4.0,24.0,-41.0])\n",
    "A"
   ]
  },
  {
   "cell_type": "code",
   "execution_count": 7,
   "metadata": {},
   "outputs": [
    {
     "data": {
      "text/plain": [
       "([0.857143,-0.394286,-0.331429]\n",
       " [0.428571,0.902857,0.034286]\n",
       " [-0.285714,0.171429,-0.942857],\n",
       " [14.000000,21.000000,-14.000000]\n",
       " [0.000000,175.000000,-70.000000]\n",
       " [0.000000,0.000000,35.000000])"
      ]
     },
     "execution_count": 7,
     "metadata": {},
     "output_type": "execute_result"
    }
   ],
   "source": [
    "GS(A)"
   ]
  },
  {
   "cell_type": "markdown",
   "metadata": {},
   "source": [
    "### Parallel Cholesky\n",
    "\n",
    "We here show the speed up obtained thanks to parallel implementation of the Cholesky-Crout algorithm using OpenMP. In particular we follow the implementation outlined in Ruschel, João Paulo Tarasconi. \"Parallel implementations of the cholesky decomposition on CPUs and GPUs.\" (2016)."
   ]
  },
  {
   "cell_type": "code",
   "execution_count": 11,
   "metadata": {},
   "outputs": [],
   "source": [
    "N = 250;\n",
    "A = mat(N,N)\n",
    "A.parallel=True;\n",
    "#Generating sequence of random number.\n",
    "Random =[]\n",
    "for i in range(N**2):\n",
    "    Random.append(random())\n",
    "#Filling the Suite array.\n",
    "A.from_Array(Random)\n",
    "M = mat(N,N)\n",
    "M = A*A.T()"
   ]
  },
  {
   "cell_type": "code",
   "execution_count": 12,
   "metadata": {},
   "outputs": [
    {
     "name": "stdout",
     "output_type": "stream",
     "text": [
      "14.2 ms ± 672 µs per loop (mean ± std. dev. of 7 runs, 10 loops each)\n"
     ]
    }
   ],
   "source": [
    "%timeit Cholesky(M)"
   ]
  },
  {
   "cell_type": "code",
   "execution_count": 13,
   "metadata": {},
   "outputs": [
    {
     "name": "stdout",
     "output_type": "stream",
     "text": [
      "8.31 ms ± 317 µs per loop (mean ± std. dev. of 7 runs, 100 loops each)\n"
     ]
    }
   ],
   "source": [
    "%timeit ParallelChol(M)"
   ]
  }
 ],
 "metadata": {
  "kernelspec": {
   "display_name": "Python 3",
   "language": "python",
   "name": "python3"
  },
  "language_info": {
   "codemirror_mode": {
    "name": "ipython",
    "version": 3
   },
   "file_extension": ".py",
   "mimetype": "text/x-python",
   "name": "python",
   "nbconvert_exporter": "python",
   "pygments_lexer": "ipython3",
   "version": "3.6.9"
  },
  "latex_envs": {
   "LaTeX_envs_menu_present": true,
   "autoclose": false,
   "autocomplete": true,
   "bibliofile": "biblio.bib",
   "cite_by": "apalike",
   "current_citInitial": 1,
   "eqLabelWithNumbers": true,
   "eqNumInitial": 1,
   "hotkeys": {
    "equation": "Ctrl-E",
    "itemize": "Ctrl-I"
   },
   "labels_anchors": false,
   "latex_user_defs": false,
   "report_style_numbering": false,
   "user_envs_cfg": false
  }
 },
 "nbformat": 4,
 "nbformat_minor": 2
}
