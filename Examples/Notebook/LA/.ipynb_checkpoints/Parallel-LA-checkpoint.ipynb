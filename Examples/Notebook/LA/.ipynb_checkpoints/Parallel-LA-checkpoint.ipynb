{
 "cells": [
  {
   "cell_type": "markdown",
   "metadata": {},
   "source": [
    "# Parallel Linear Algebra"
   ]
  },
  {
   "cell_type": "code",
   "execution_count": 2,
   "metadata": {},
   "outputs": [],
   "source": [
    "import sys\n",
    "sys.path.append('../../../Py/Build')\n",
    "from suite import *"
   ]
  },
  {
   "cell_type": "markdown",
   "metadata": {},
   "source": [
    "### Parallel Dot Product"
   ]
  },
  {
   "cell_type": "code",
   "execution_count": 6,
   "metadata": {},
   "outputs": [
    {
     "name": "stdout",
     "output_type": "stream",
     "text": [
      "745 µs ± 20.3 µs per loop (mean ± std. dev. of 7 runs, 1000 loops each)\n",
      "100.0\n"
     ]
    }
   ],
   "source": [
    "N=100;\n",
    "a = vec(N)\n",
    "b = vec(N)\n",
    "for k in range(1,N+1):\n",
    "    a[k]=1.0\n",
    "    b[k]=1.0\n",
    "%timeit a*b\n",
    "print(a*b)"
   ]
  },
  {
   "cell_type": "code",
   "execution_count": 5,
   "metadata": {},
   "outputs": [
    {
     "name": "stdout",
     "output_type": "stream",
     "text": [
      "5.83 µs ± 702 ns per loop (mean ± std. dev. of 7 runs, 100000 loops each)\n",
      "99.99999812041318\n"
     ]
    }
   ],
   "source": [
    "N=100;\n",
    "a = vec(N)\n",
    "a.parallel=True;\n",
    "b.parallel=True;\n",
    "b = vec(N)\n",
    "for k in range(1,N+1):\n",
    "    a[k]=1.0\n",
    "    b[k]=1.0\n",
    "%timeit a*b\n",
    "print(a*b)"
   ]
  },
  {
   "cell_type": "markdown",
   "metadata": {},
   "source": [
    "### Parallel Matrix Vector Multiplication"
   ]
  },
  {
   "cell_type": "code",
   "execution_count": 4,
   "metadata": {},
   "outputs": [
    {
     "name": "stdout",
     "output_type": "stream",
     "text": [
      "7.38 ms ± 265 µs per loop (mean ± std. dev. of 7 runs, 100 loops each)\n"
     ]
    }
   ],
   "source": [
    "N = 1000\n",
    "A = mat(N,N);\n",
    "b = vec(N)\n",
    "for k in range(1,N+1):\n",
    "    A[k,k] = float(k)\n",
    "    b[k] = 1.0\n",
    "%timeit A*b"
   ]
  },
  {
   "cell_type": "code",
   "execution_count": 5,
   "metadata": {},
   "outputs": [
    {
     "name": "stdout",
     "output_type": "stream",
     "text": [
      "3.36 ms ± 287 µs per loop (mean ± std. dev. of 7 runs, 100 loops each)\n"
     ]
    }
   ],
   "source": [
    "N = 1000\n",
    "A = mat(N,N);\n",
    "b = vec(N)\n",
    "A.parallel=True;\n",
    "for k in range(1,N+1):\n",
    "    A[k,k] = float(k)\n",
    "    b[k] = 1.0\n",
    "%timeit A*b"
   ]
  }
 ],
 "metadata": {
  "kernelspec": {
   "display_name": "Python 3",
   "language": "python",
   "name": "python3"
  },
  "language_info": {
   "codemirror_mode": {
    "name": "ipython",
    "version": 3
   },
   "file_extension": ".py",
   "mimetype": "text/x-python",
   "name": "python",
   "nbconvert_exporter": "python",
   "pygments_lexer": "ipython3",
   "version": "3.6.9"
  },
  "latex_envs": {
   "LaTeX_envs_menu_present": true,
   "autoclose": false,
   "autocomplete": true,
   "bibliofile": "biblio.bib",
   "cite_by": "apalike",
   "current_citInitial": 1,
   "eqLabelWithNumbers": true,
   "eqNumInitial": 1,
   "hotkeys": {
    "equation": "Ctrl-E",
    "itemize": "Ctrl-I"
   },
   "labels_anchors": false,
   "latex_user_defs": false,
   "report_style_numbering": false,
   "user_envs_cfg": false
  }
 },
 "nbformat": 4,
 "nbformat_minor": 2
}
