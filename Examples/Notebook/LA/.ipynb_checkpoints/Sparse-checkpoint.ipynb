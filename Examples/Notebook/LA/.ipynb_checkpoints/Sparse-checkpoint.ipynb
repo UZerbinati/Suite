{
 "cells": [
  {
   "cell_type": "markdown",
   "metadata": {},
   "source": [
    "# Sparse Linear Algebra"
   ]
  },
  {
   "cell_type": "code",
   "execution_count": 1,
   "metadata": {},
   "outputs": [],
   "source": [
    "import sys\n",
    "sys.path.append('../../../Py/Build')\n",
    "from suite import *"
   ]
  },
  {
   "cell_type": "markdown",
   "metadata": {},
   "source": [
    "Sparse matrix are initialized as identity matrix if square and if rectangular to almost identity matrix, i.e. given a matrix of dimension (3,4) we get the following matrix:\n",
    "\n",
    "$$\n",
    "    \\begin{bmatrix}\n",
    "        1 & 0 & 0 & 0\\\\\n",
    "        0 & 1 & 0 & 0\\\\\n",
    "        0 & 0 & 1 & 0 \\\\\n",
    "    \\end{bmatrix}\n",
    "$$\n",
    "while a for by for matrix is initialized as follow:\n",
    "\n",
    "$$\n",
    "    \\begin{bmatrix}\n",
    "        1 & 0 & 0 & 0\\\\\n",
    "        0 & 1 & 0 & 0\\\\\n",
    "        0 & 0 & 1 & 0 \\\\\n",
    "        0 & 0 & 0 & 1 \\\\\n",
    "    \\end{bmatrix}\n",
    "$$"
   ]
  },
  {
   "cell_type": "code",
   "execution_count": 2,
   "metadata": {},
   "outputs": [
    {
     "name": "stdout",
     "output_type": "stream",
     "text": [
      "[0,(1,1)]->1.000000\n",
      "[5,(2,2)]->1.000000\n",
      "[10,(3,3)]->1.000000\n",
      "\n",
      "[0,(1,1)]->1.000000\n",
      "[5,(2,2)]->1.000000\n",
      "[10,(3,3)]->1.000000\n",
      "[15,(4,4)]->1.000000\n",
      "\n"
     ]
    }
   ],
   "source": [
    "A = spmat(3,4)\n",
    "print(A)\n",
    "B = spmat(4,4)\n",
    "print(B)"
   ]
  },
  {
   "cell_type": "markdown",
   "metadata": {},
   "source": [
    "We can access any value of the sparse matrix. (TODO) Check the how the empty pinter behave with big sparse matrix, in particular when cash is full ..."
   ]
  },
  {
   "cell_type": "code",
   "execution_count": 3,
   "metadata": {},
   "outputs": [
    {
     "name": "stdout",
     "output_type": "stream",
     "text": [
      "[0,(1,1)]->1.000000\n",
      "[5,(2,2)]->1.000000\n",
      "[10,(3,3)]->1.000000\n",
      "[15,(4,4)]->1.000000\n",
      "\n"
     ]
    },
    {
     "data": {
      "text/plain": [
       "[0,(1,1)]->2.000000\n",
       "[5,(2,2)]->2.000000\n",
       "[10,(3,3)]->2.000000\n",
       "[15,(4,4)]->2.000000"
      ]
     },
     "execution_count": 3,
     "metadata": {},
     "output_type": "execute_result"
    }
   ],
   "source": [
    "print(B)\n",
    "B[4,4] = 2\n",
    "B[3,3] = 2\n",
    "B[2,2] = 2\n",
    "B[1,1] = 2\n",
    "B"
   ]
  },
  {
   "cell_type": "code",
   "execution_count": 4,
   "metadata": {},
   "outputs": [
    {
     "data": {
      "text/plain": [
       "[0,(1,1)]->2.000000\n",
       "[1,(1,2)]->1.000000\n",
       "[4,(2,1)]->1.000000\n",
       "[5,(2,2)]->2.000000\n",
       "[6,(2,3)]->1.000000\n",
       "[9,(3,2)]->1.000000\n",
       "[10,(3,3)]->2.000000\n",
       "[11,(3,4)]->1.000000\n",
       "[14,(4,3)]->1.000000\n",
       "[15,(4,4)]->2.000000"
      ]
     },
     "execution_count": 4,
     "metadata": {},
     "output_type": "execute_result"
    }
   ],
   "source": [
    "B[1,2] = 1\n",
    "B[2,1] = 1\n",
    "B[2,3] = 1\n",
    "B[3,2] = 1\n",
    "B[3,4] = 1\n",
    "B[4,3] = 1\n",
    "B"
   ]
  },
  {
   "cell_type": "code",
   "execution_count": 5,
   "metadata": {},
   "outputs": [
    {
     "name": "stdout",
     "output_type": "stream",
     "text": [
      "A:\n",
      " [0,(1,1)]->2.000000\n",
      "[4,(2,2)]->1.000000\n",
      "[8,(3,3)]->1.000000\n",
      "\n",
      "v:\n",
      " (1.000000,2.000000,3.000000)\n"
     ]
    },
    {
     "data": {
      "text/plain": [
       "(2.000000,2.000000,3.000000)"
      ]
     },
     "execution_count": 5,
     "metadata": {},
     "output_type": "execute_result"
    }
   ],
   "source": [
    "v = vec(3)\n",
    "v.from_Array([1,2,3])\n",
    "A = spmat(3,3)\n",
    "A[1,1] = 2\n",
    "print(\"A:\\n\",A)\n",
    "print(\"v:\\n\",v)\n",
    "A*v"
   ]
  },
  {
   "cell_type": "code",
   "execution_count": 6,
   "metadata": {},
   "outputs": [
    {
     "name": "stdout",
     "output_type": "stream",
     "text": [
      "1.04 µs ± 66.7 ns per loop (mean ± std. dev. of 7 runs, 1000000 loops each)\n"
     ]
    }
   ],
   "source": [
    "%timeit A*v"
   ]
  },
  {
   "cell_type": "code",
   "execution_count": 10,
   "metadata": {},
   "outputs": [
    {
     "name": "stdout",
     "output_type": "stream",
     "text": [
      "C: \n",
      " [2.000000,0.000000,0.000000]\n",
      "[0.000000,1.000000,0.000000]\n",
      "[0.000000,0.000000,1.000000]\n",
      "\n"
     ]
    },
    {
     "data": {
      "text/plain": [
       "(2.000000,2.000000,3.000000)"
      ]
     },
     "execution_count": 10,
     "metadata": {},
     "output_type": "execute_result"
    }
   ],
   "source": [
    "C = mat(3,3);\n",
    "C.from_Array([2.0,0.0,0.0, 0.0,1.0,0.0, 0.0,0.0,1.0]);\n",
    "print(\"C: \\n\",C)\n",
    "C*v"
   ]
  },
  {
   "cell_type": "code",
   "execution_count": 11,
   "metadata": {},
   "outputs": [
    {
     "name": "stdout",
     "output_type": "stream",
     "text": [
      "1.27 µs ± 34.4 ns per loop (mean ± std. dev. of 7 runs, 1000000 loops each)\n"
     ]
    }
   ],
   "source": [
    "%timeit C*v"
   ]
  }
 ],
 "metadata": {
  "kernelspec": {
   "display_name": "Python 3",
   "language": "python",
   "name": "python3"
  },
  "language_info": {
   "codemirror_mode": {
    "name": "ipython",
    "version": 3
   },
   "file_extension": ".py",
   "mimetype": "text/x-python",
   "name": "python",
   "nbconvert_exporter": "python",
   "pygments_lexer": "ipython3",
   "version": "3.6.9"
  },
  "latex_envs": {
   "LaTeX_envs_menu_present": true,
   "autoclose": false,
   "autocomplete": true,
   "bibliofile": "biblio.bib",
   "cite_by": "apalike",
   "current_citInitial": 1,
   "eqLabelWithNumbers": true,
   "eqNumInitial": 1,
   "hotkeys": {
    "equation": "Ctrl-E",
    "itemize": "Ctrl-I"
   },
   "labels_anchors": false,
   "latex_user_defs": false,
   "report_style_numbering": false,
   "user_envs_cfg": false
  }
 },
 "nbformat": 4,
 "nbformat_minor": 2
}
