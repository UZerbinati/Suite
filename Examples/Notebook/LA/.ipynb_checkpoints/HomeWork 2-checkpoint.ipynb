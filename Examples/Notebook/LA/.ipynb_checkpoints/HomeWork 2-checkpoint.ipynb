{
 "cells": [
  {
   "cell_type": "markdown",
   "metadata": {},
   "source": [
    "# Home Work 2: Gaussian Elimination"
   ]
  },
  {
   "cell_type": "markdown",
   "metadata": {},
   "source": [
    "In this notebook we show the class implemented to solve dense linear systems wrapped from C++ using PyBind11. In particular we will study six examples, the first three are provided in Lecture 6 of the Numerical Linear Algebra course at KAUST.\n",
    "The aim of the first three example would be to show the difference between \"naive\" Gaussian elimination, Gaussian elimination with partial pivoting and Gaussian elimination with complete pivoting. Unfortunately those example where imaged for a 3-decimal floating point arithmetic while the matrix, vector and linear system classes were implemented in a double precision arithmetics. For this reason we introduce Example 4 and Example 5, which should show the advantage respectively of partial and complete pivoting in a double precision arithmetics.\n",
    "We will use two function of the linear system class, the first is Gauss(int n) that perform the Gaussian elimination, where the number n identify the type of pivoting we wont:\n",
    "- n = 0, we do Naive Gaussian elimination;\n",
    "- n = 1, we do partial Gaussian elimination searching for non zero pivot;\n",
    "- n = 2, we do partial Gaussian elimination searching for pivot with greatest magnitude;\n",
    "- n = 3, we do complete Gaussian elimination.\n",
    "The second is BackSub(), which perform backward substitution swapping the unknown when needed."
   ]
  },
  {
   "cell_type": "code",
   "execution_count": 1,
   "metadata": {},
   "outputs": [],
   "source": [
    "import sys\n",
    "sys.path.append('../../../Py/Build')\n",
    "from suite import *"
   ]
  },
  {
   "cell_type": "markdown",
   "metadata": {},
   "source": [
    "### Example 1"
   ]
  },
  {
   "cell_type": "code",
   "execution_count": 2,
   "metadata": {},
   "outputs": [
    {
     "data": {
      "text/plain": [
       "[3.000000,1.000000,6.000000]\n",
       "[2.000000,1.000000,3.000000]\n",
       "[1.000000,1.000000,1.000000]\n",
       "\n",
       "(2.000000,7.000000,4.000000)"
      ]
     },
     "execution_count": 2,
     "metadata": {},
     "output_type": "execute_result"
    }
   ],
   "source": [
    "A = mat(3,3);\n",
    "A.from_Array([3.0,1.0,6.0,   2.0,1.0,3.0,   1.0,1.0,1.0])\n",
    "b = vec(3);\n",
    "b[1] = 2.0; b[2] = 7.0; b[3]=4.0;\n",
    "L = LinSys(A,b);\n",
    "L"
   ]
  },
  {
   "cell_type": "code",
   "execution_count": 3,
   "metadata": {},
   "outputs": [
    {
     "data": {
      "text/plain": [
       "[3.000000,1.000000,6.000000]\n",
       "[0.000000,0.333333,-1.000000]\n",
       "[0.000000,0.000000,1.000000]\n",
       "\n",
       "(2.000000,5.666667,-8.000000)"
      ]
     },
     "execution_count": 3,
     "metadata": {},
     "output_type": "execute_result"
    }
   ],
   "source": [
    "L.Gauss(0)\n",
    "L"
   ]
  },
  {
   "cell_type": "code",
   "execution_count": 4,
   "metadata": {},
   "outputs": [
    {
     "data": {
      "text/plain": [
       "(19.000000,-7.000000,-8.000000)"
      ]
     },
     "execution_count": 4,
     "metadata": {},
     "output_type": "execute_result"
    }
   ],
   "source": [
    "L.BackSub()"
   ]
  },
  {
   "cell_type": "markdown",
   "metadata": {},
   "source": [
    "### Example 2"
   ]
  },
  {
   "cell_type": "code",
   "execution_count": 20,
   "metadata": {},
   "outputs": [
    {
     "data": {
      "text/plain": [
       "[0.000100,1.000000]\n",
       "[1.000000,1.000000]\n",
       "\n",
       "(1.000000,1.000000)"
      ]
     },
     "execution_count": 20,
     "metadata": {},
     "output_type": "execute_result"
    }
   ],
   "source": [
    "A = mat(2,2);\n",
    "A.from_Array([10**(-4),1.0,   1.0,1.0])\n",
    "b = vec(2);\n",
    "b[1] = 1.0; b[2] = 1.0;\n",
    "L = LinSys(A,b);\n",
    "L"
   ]
  },
  {
   "cell_type": "code",
   "execution_count": 6,
   "metadata": {},
   "outputs": [
    {
     "data": {
      "text/plain": [
       "[0.000100,1.000000]\n",
       "[0.000000,-9999.000000]\n",
       "\n",
       "(1.000000,-9999.000000)"
      ]
     },
     "execution_count": 6,
     "metadata": {},
     "output_type": "execute_result"
    }
   ],
   "source": [
    "L.Gauss(0)\n",
    "L"
   ]
  },
  {
   "cell_type": "code",
   "execution_count": 7,
   "metadata": {},
   "outputs": [
    {
     "data": {
      "text/plain": [
       "(0.000000,1.000000)"
      ]
     },
     "execution_count": 7,
     "metadata": {},
     "output_type": "execute_result"
    }
   ],
   "source": [
    "L.BackSub()"
   ]
  },
  {
   "cell_type": "code",
   "execution_count": 21,
   "metadata": {},
   "outputs": [
    {
     "data": {
      "text/plain": [
       "(0.000000,1.000000)"
      ]
     },
     "execution_count": 21,
     "metadata": {},
     "output_type": "execute_result"
    }
   ],
   "source": [
    "A = mat(2,2);\n",
    "A.from_Array([10**(-4),1.0,   1.0,1.0])\n",
    "b = vec(2);\n",
    "b[1] = 1.0; b[2] = 1.0;\n",
    "L = LinSys(A,b);\n",
    "L.Gauss(2)\n",
    "L.BackSub()"
   ]
  },
  {
   "cell_type": "markdown",
   "metadata": {},
   "source": [
    "### Example 3"
   ]
  },
  {
   "cell_type": "code",
   "execution_count": 9,
   "metadata": {},
   "outputs": [
    {
     "data": {
      "text/plain": [
       "[2.000000,20000.000000]\n",
       "[1.000000,1.000000]\n",
       "\n",
       "(20000.000000,2.000000)"
      ]
     },
     "execution_count": 9,
     "metadata": {},
     "output_type": "execute_result"
    }
   ],
   "source": [
    "A = mat(2,2);\n",
    "A.from_Array([2.0,2.0*(10**4),   1.0,1.0])\n",
    "b = vec(2);\n",
    "b[1] = 2.0*(10**4); b[2] = 2.0;\n",
    "L = LinSys(A,b);\n",
    "L"
   ]
  },
  {
   "cell_type": "code",
   "execution_count": 10,
   "metadata": {},
   "outputs": [
    {
     "data": {
      "text/plain": [
       "[2.000000,20000.000000]\n",
       "[0.000000,-9999.000000]\n",
       "\n",
       "(20000.000000,-9998.000000)"
      ]
     },
     "execution_count": 10,
     "metadata": {},
     "output_type": "execute_result"
    }
   ],
   "source": [
    "L.Gauss(0)\n",
    "L"
   ]
  },
  {
   "cell_type": "code",
   "execution_count": 11,
   "metadata": {},
   "outputs": [
    {
     "data": {
      "text/plain": [
       "(1.000100,0.999900)"
      ]
     },
     "execution_count": 11,
     "metadata": {},
     "output_type": "execute_result"
    }
   ],
   "source": [
    "L.BackSub()"
   ]
  },
  {
   "cell_type": "code",
   "execution_count": 12,
   "metadata": {},
   "outputs": [
    {
     "data": {
      "text/plain": [
       "[20000.000000,2.000000]\n",
       "[0.000000,0.999900]\n",
       "\n",
       "(20000.000000,1.000000)"
      ]
     },
     "execution_count": 12,
     "metadata": {},
     "output_type": "execute_result"
    }
   ],
   "source": [
    "A = mat(2,2);\n",
    "A.from_Array([2.0,2.0*(10**4),   1.0,1.0])\n",
    "b = vec(2);\n",
    "b[1] = 2.0*(10**4); b[2] = 2.0;\n",
    "L = LinSys(A,b);\n",
    "L.Gauss(3)\n",
    "L"
   ]
  },
  {
   "cell_type": "code",
   "execution_count": 13,
   "metadata": {},
   "outputs": [
    {
     "data": {
      "text/plain": [
       "(1.000100,0.999900)"
      ]
     },
     "execution_count": 13,
     "metadata": {},
     "output_type": "execute_result"
    }
   ],
   "source": [
    "L.BackSub()"
   ]
  },
  {
   "cell_type": "markdown",
   "metadata": {},
   "source": [
    "### Example 4\n",
    "In this example we show the advantage of using partial pivoting compared with naive Gaussian elimination.\n",
    "We consider the linear system $A\\vec{x} = \\vec{b}$, where:\n",
    "$$A=\\begin{pmatrix}\n",
    "    0 & 1 \\\\\n",
    "    1 & 1\n",
    "\\end{pmatrix}\\qquad\\qquad \\vec{b} = \\begin{pmatrix}\n",
    "1\n",
    "\\\\\n",
    "0\n",
    "\\end{pmatrix}$$\n",
    "we know the solution to the problem is given by the vector:\n",
    "$$\\vec{x} = \\begin{pmatrix}\n",
    "-1 \\\\ 1\n",
    "\\end{pmatrix}$$\n",
    "we now perturbate the matrix $A$ by a factor $10^{-20}$ that is smaller then the machine epsilon, and try to solve the linear system using \"naive\" Gaussian elimination."
   ]
  },
  {
   "cell_type": "code",
   "execution_count": 14,
   "metadata": {},
   "outputs": [
    {
     "data": {
      "text/plain": [
       "(0.000000,1.000000)"
      ]
     },
     "execution_count": 14,
     "metadata": {},
     "output_type": "execute_result"
    }
   ],
   "source": [
    "A = mat(2,2);\n",
    "A.from_Array([10**(-20),1.0,   1.0,1.0])\n",
    "b = vec(2);\n",
    "b[1] = 1.0; b[2] = 0.0;\n",
    "L = LinSys(A,b);\n",
    "L.Gauss(0)\n",
    "L.BackSub()"
   ]
  },
  {
   "cell_type": "markdown",
   "metadata": {},
   "source": [
    "We clearly find the wrong answer, this is because when subtracting the first row the second row we yield $1-1*10^20$, which can't be represented exactly in double precision (IEEE754 has a 15–17 decimals precision). To avoid this we simply perform Gaussian elimination with partial pivoting where since we swap the two rows of the matrix we end up immediately with an upper triangular matrix."
   ]
  },
  {
   "cell_type": "code",
   "execution_count": 15,
   "metadata": {},
   "outputs": [
    {
     "data": {
      "text/plain": [
       "(-1.000000,1.000000)"
      ]
     },
     "execution_count": 15,
     "metadata": {},
     "output_type": "execute_result"
    }
   ],
   "source": [
    "A = mat(2,2);\n",
    "A.from_Array([10**(-20),1.0,   1.0,1.0])\n",
    "b = vec(2);\n",
    "b[1] = 1.0; b[2] = 0.0;\n",
    "L = LinSys(A,b);\n",
    "L.Gauss(2)\n",
    "L.BackSub()"
   ]
  },
  {
   "cell_type": "markdown",
   "metadata": {},
   "source": [
    "### Example 5\n",
    "Similar problem as the one above occurs when we work with the matrix:\n",
    "$$A = \\begin{pmatrix}\n",
    "2 & 2(10^{20})\\\\\n",
    "1 & 1\n",
    "\\end{pmatrix} \\qquad\\qquad \\vec{b}=\\begin{pmatrix}\n",
    "2(10^{20})\\\\\n",
    "2\n",
    "\\end{pmatrix}$$\n",
    "the exact result would be:\n",
    "$$\\vec{x} = \\begin{pmatrix}\n",
    "    1+10^{-20} \\\\\n",
    "    1-10^{-20}\n",
    "\\end{pmatrix}$$\n",
    "when we perform naive Gaussian elimination and Gaussian elimination the same phenomena as in Example 4 occurs and therefore we obtain the wrong solution:\n",
    "$$\\vec{x} = \\begin{pmatrix}\n",
    "0\\\\\n",
    "1\n",
    "\\end{pmatrix}$$"
   ]
  },
  {
   "cell_type": "code",
   "execution_count": 16,
   "metadata": {},
   "outputs": [
    {
     "data": {
      "text/plain": [
       "(0.000000,1.000000)"
      ]
     },
     "execution_count": 16,
     "metadata": {},
     "output_type": "execute_result"
    }
   ],
   "source": [
    "A = mat(2,2);\n",
    "A.from_Array([2.0,2.0*(10**20),   1.0,1.0])\n",
    "b = vec(2);\n",
    "b[1] = 2.0*(10**20); b[2] = 2.0;\n",
    "L = LinSys(A,b);\n",
    "L.Gauss(0)\n",
    "L.BackSub()"
   ]
  },
  {
   "cell_type": "code",
   "execution_count": 17,
   "metadata": {},
   "outputs": [
    {
     "data": {
      "text/plain": [
       "(0.000000,1.000000)"
      ]
     },
     "execution_count": 17,
     "metadata": {},
     "output_type": "execute_result"
    }
   ],
   "source": [
    "A = mat(2,2);\n",
    "A.from_Array([2.0,2.0*(10**20),   1.0,1.0])\n",
    "b = vec(2);\n",
    "b[1] = 2.0*(10**20); b[2] = 2.0;\n",
    "L = LinSys(A,b);\n",
    "L.Gauss(2)\n",
    "L.BackSub()"
   ]
  },
  {
   "cell_type": "markdown",
   "metadata": {},
   "source": [
    "Instead with complete pivoting we obtain the solution $\\vec{x} = (1,1)$ that is the correct solution in floating points arithmetic since the epsilon machine is around $10^{-16}$."
   ]
  },
  {
   "cell_type": "code",
   "execution_count": 18,
   "metadata": {},
   "outputs": [
    {
     "data": {
      "text/plain": [
       "(1.000000,1.000000)"
      ]
     },
     "execution_count": 18,
     "metadata": {},
     "output_type": "execute_result"
    }
   ],
   "source": [
    "A = mat(2,2);\n",
    "A.from_Array([2.0,2.0*(10**20),   1.0,1.0])\n",
    "b = vec(2);\n",
    "b[1] = 2.0*(10**20); b[2] = 2.0;\n",
    "L = LinSys(A,b);\n",
    "L.Gauss(3)\n",
    "L.BackSub()"
   ]
  }
 ],
 "metadata": {
  "kernelspec": {
   "display_name": "Python 3",
   "language": "python",
   "name": "python3"
  },
  "language_info": {
   "codemirror_mode": {
    "name": "ipython",
    "version": 3
   },
   "file_extension": ".py",
   "mimetype": "text/x-python",
   "name": "python",
   "nbconvert_exporter": "python",
   "pygments_lexer": "ipython3",
   "version": "3.6.9"
  },
  "latex_envs": {
   "LaTeX_envs_menu_present": true,
   "autoclose": false,
   "autocomplete": true,
   "bibliofile": "biblio.bib",
   "cite_by": "apalike",
   "current_citInitial": 1,
   "eqLabelWithNumbers": true,
   "eqNumInitial": 1,
   "hotkeys": {
    "equation": "Ctrl-E",
    "itemize": "Ctrl-I"
   },
   "labels_anchors": false,
   "latex_user_defs": false,
   "report_style_numbering": false,
   "user_envs_cfg": false
  }
 },
 "nbformat": 4,
 "nbformat_minor": 2
}
